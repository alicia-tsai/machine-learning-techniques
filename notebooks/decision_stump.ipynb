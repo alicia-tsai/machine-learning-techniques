{
 "cells": [
  {
   "cell_type": "markdown",
   "metadata": {},
   "source": [
    "## Machine Learning Foundation & Techniques: Assignment 2"
   ]
  },
  {
   "cell_type": "markdown",
   "metadata": {},
   "source": [
    "### Noisy Targets\n",
    "---"
   ]
  },
  {
   "cell_type": "markdown",
   "metadata": {},
   "source": [
    "#### 1. Consider the bin model for a hypothesis $h$ that makes an error with probability $\\mu$ in approximating a deterministic target function $f$ (both $h$ and $f$ outputs $\\{-1, +1\\}$). If we use the same $h$ to approximate a noisy version of $f$ given by\n",
    "\n",
    "$$P(x, y) = P(x)P(y|x)$$\n",
    "\n",
    "$$\n",
    "P(y|x)= \\begin{cases}\n",
    "    \\lambda & \\text{y = f(x)}\\\\\n",
    "    1-\\lambda & \\text{otherwise}\n",
    "\\end{cases}\n",
    "$$\n",
    "\n",
    "#### What is the probability of error that $h$ makes in approximating the noisy target $y$ ? Please provide explanation of your answer."
   ]
  },
  {
   "cell_type": "markdown",
   "metadata": {},
   "source": [
    "The original error is $\\mu$, after giving the noise by flipping the label (1 $\\rightarrow$ -1 and -1 $\\rightarrow$ 1), the new error will be the original error $\\mu$ times the probability to stay at the same condition (probability to still makes error) and the error from the correct part, $1 - \\mu$ that is now incorrect; that is, the correct part $1 - \\mu$ times the probability $1 - \\lambda$ to be incorrect.\n",
    "\n",
    "$$\n",
    "E_{noise} = \\mu \\cdot \\lambda + (1-\\mu) \\cdot (1-\\lambda)\n",
    "$$"
   ]
  },
  {
   "cell_type": "markdown",
   "metadata": {},
   "source": [
    "#### 2. Following Question 1, with what value of will the performance of $h$ be independent of $\\mu$ ? Please provide explanation of your answer."
   ]
  },
  {
   "cell_type": "markdown",
   "metadata": {},
   "source": [
    "After rearranging the above error function, we can derive the following form.\n",
    "\n",
    "$$\n",
    "E_{noise} = \\mu \\cdot \\lambda + (1-\\mu) \\cdot (1-\\lambda) \\\\\n",
    "= \\mu \\cdot (2 \\lambda -1) + 1 - \\lambda\n",
    "$$\n",
    "\n",
    "When $\\lambda = \\frac{1}{2}$, we can see that the first part becomes $0$, making $h$ independent of $\\mu$. "
   ]
  },
  {
   "cell_type": "markdown",
   "metadata": {},
   "source": [
    "### Generalization Error\n",
    "---\n",
    "\n",
    "Questions 3-5 are about *generalization error*, and getting the feel of the bounds numerically. Please use the simple upper bound $N^{d_{vc}}$ on the growth function $m_{H}(N)$, assuming that $N \\le 2$ and $d_{vc} \\le 2$."
   ]
  },
  {
   "cell_type": "markdown",
   "metadata": {},
   "source": [
    "#### 3. For an $H$ with $d_{vc} = 10$, if you want 95% confidence that your generalization error is at most 0.05, what is the sample size that the VC generalization bound predicts? Please provide calculating steps of your answer, and round your answer to the closest thousand (that is, your answer should be something like 845000)."
   ]
  },
  {
   "cell_type": "markdown",
   "metadata": {},
   "source": [
    "Vapnik-Chervonenkis (VC) bound,\n",
    "\n",
    "$$\n",
    "P[|E_{in}(h) - E_{out}(h)| > \\epsilon] \\le 4m_{H}(2N) \\cdot exp(-\\frac{1}{8} \\epsilon^{2}N)\n",
    "$$\n",
    "\n",
    "By plugging in $d_{vc} = 10 $, $\\epsilon = 0.05$, and $m_{H}(N) = N^{d_{vc}}$, we get\n",
    "\n",
    "$$\n",
    "P[|E_{in}(h) - E_{out}(h)| > 0.05] \\le  4 \\cdot (2N)^{10} \\cdot exp(-\\frac{N}{3200}) \\le \\frac{1}{20}\n",
    "$$\n",
    "\n",
    "After $\\log$ and rearranging, we get\n",
    "\n",
    "$$\n",
    "0 \\le \\frac{N}{3200} - 10 \\log(N) - \\log(80 \\cdot 1024)\n",
    "$$\n",
    "\n",
    "We can then compute $N$ by iterating $N$ until the right hand side $ \\ge 0$."
   ]
  },
  {
   "cell_type": "markdown",
   "metadata": {},
   "source": [
    "##### Compute N numerically"
   ]
  },
  {
   "cell_type": "code",
   "execution_count": 1,
   "metadata": {},
   "outputs": [
    {
     "name": "stdout",
     "output_type": "stream",
     "text": [
      "The sample size that the VC generalization bound predicts is 452958\n"
     ]
    }
   ],
   "source": [
    "import math\n",
    "\n",
    "N = 1\n",
    "result = -1\n",
    "N_list = []\n",
    "result_list = []\n",
    "\n",
    "while result < 0:\n",
    "    y = (N / 3200) - 10 * math.log(N) - math.log(80 * 1024)\n",
    "    result = y\n",
    "    \n",
    "    N_list.append(N)\n",
    "    result_list.append(y)\n",
    "    N += 1\n",
    "    \n",
    "print('The sample size that the VC generalization bound predicts is %d' %N)"
   ]
  },
  {
   "cell_type": "code",
   "execution_count": 2,
   "metadata": {},
   "outputs": [
    {
     "data": {
      "text/plain": [
       "[<matplotlib.lines.Line2D at 0x107fdd7b8>]"
      ]
     },
     "execution_count": 2,
     "metadata": {},
     "output_type": "execute_result"
    },
    {
     "data": {
      "image/png": "[encoded data removed]",
      "text/plain": [
       "<matplotlib.figure.Figure at 0x1045afe10>"
      ]
     },
     "metadata": {},
     "output_type": "display_data"
    }
   ],
   "source": [
    "import matplotlib.pyplot as plt\n",
    "%matplotlib inline\n",
    "\n",
    "plt.plot(N_list, result_list)"
   ]
  },
  {
   "cell_type": "markdown",
   "metadata": {},
   "source": [
    "#### 4. There are a number of bounds on the generalization error $\\epsilon$ , all holding with probability at least $1 - \\delta$. Fix $d_{vc} = 50$ and $\\delta = 0.05$ and plot these bounds as a function of $N$. Use any numerical method to calculate the (most) generalization error by the bound. Which bound is the tightest (smallest) for very large $N$, say $N = 10,000$ ? What is the generalization error calculated by the tightest bound? Note that Devroye and Parrondo & Van den Broek are implicit bounds in $\\epsilon$."
   ]
  },
  {
   "cell_type": "markdown",
   "metadata": {
    "slideshow": {
     "slide_type": "slide"
    }
   },
   "source": [
    "### One-Dimensional Decision Stump\n",
    "---"
   ]
  },
  {
   "cell_type": "markdown",
   "metadata": {},
   "source": [
    "In class, we taught about the learning model of **“positive and negative rays”** (which is simply one-dimensional perceptron) for one-dimensional data. The model contains hypotheses of the form: \n",
    "\n",
    "$$ h_{s, \\theta} (x) = s \\cdot sign(x - \\theta). $$\n",
    "\n",
    "The model is frequently named the **“decision stump”** model and is one of the simplest learning models. As shown in class, for one-dimensional data, the VC dimension of the decision stump model is 2.\n",
    "\n",
    "In fact, the decision stump model is one of the few models that we could easily minimize $E_{in}$ for binary classification effciently by enumerating all possible thresholds. In particular, for $N$ examples, there are at most $2N$ dichotomies (see page 22 of class05 slides), and thus at most $2N$ different $E_{in}$ values. We can then easily choose the dichotomy that leads to the lowest $E_{in}$, where ties can be broken by randomly choosing among the lowest-$E_{in}$ ones. The chosen dichotomy stands for a combination of some **'spot'** (range of $\\theta$) and $s$, and commonly the median of the range is chosen as the $\\theta$ that realizes the dichotomy."
   ]
  },
  {
   "cell_type": "markdown",
   "metadata": {},
   "source": [
    "In this problem, you are asked to implement such an algorithm and run your program on an artificial data set. First of all, start by generating a one-dimensional data by the procedure below:\n",
    "\n",
    "- Generate $x$ by a uniform distribution in $[-1, 1]$.\n",
    "- Generate $y$ by $\\tilde{s}(x) + noise$ where $\\tilde{s}(x) = sign(x)$ and the noise flips the result with 20% probability."
   ]
  },
  {
   "cell_type": "markdown",
   "metadata": {},
   "source": [
    "#### 16.  For any decision stump $h_{s,\\theta}$ with $\\theta \\in [-1, 1]$, express $E_{out}(h_{s,\\theta})$ as a function of $\\theta$ and $s$. Please provide your derivation steps."
   ]
  },
  {
   "cell_type": "markdown",
   "metadata": {},
   "source": [
    "##### Error function $E_{out}(h_{s,\\theta})$"
   ]
  },
  {
   "cell_type": "markdown",
   "metadata": {},
   "source": [
    "When $\\theta > 0$, then we can compute $E_{out}$ as follow,\n",
    "\n",
    "$$\n",
    "E_{out} = \\frac{(1-\\theta)}{2} [(1 - s) \\cdot 0.8 + (1 + s) \\cdot 0.2]/2  \\\\\n",
    "+ \\frac{\\theta}{2} [(1 + s) \\cdot 0.8 + (1 -s) \\cdot 0.2]/2 \\\\\n",
    "+ \\frac{1}{2} [(1 + s) \\cdot 0.8 + (1 -s) \\cdot 0.2] /2\n",
    "$$\n",
    "\n",
    "When $\\theta <0 $, then we can compute $E_{out}$ as follow,\n",
    "\n",
    "$$\n",
    "E_{out} = \\frac{1}{2} [(1 + s) \\cdot 0.8 + (1 -s) \\cdot 0.2] /2 \\\\\n",
    "+ \\frac{\\theta}{2} [(1 + s) \\cdot 0.8 + (1 -s) \\cdot 0.2]/2 \\\\\n",
    "+ \\frac{(\\theta-1)}{2} [(1 - s) \\cdot 0.8 + (1 + s) \\cdot 0.2]/2 \n",
    "$$\n",
    "\n",
    "After rearrangment, we can get the final result,\n",
    "\n",
    "$$\n",
    "E_{out} = 0.5 + 0.3 \\cdot s \\cdot (|\\theta| - 1)\n",
    "$$"
   ]
  },
  {
   "cell_type": "markdown",
   "metadata": {},
   "source": [
    "#### 17. (`*`) Generate a data set of size 20 by the procedure above and run the one-dimensional decision stump algorithm on the data set. Record $E_{in}$ and compute $E_{out}$ with the formula above. Repeat the experiment (including data generation, running the decision stump algorithm, and computing $E_{in}$ and $E_{out}$) 5,000 times. What is the average $E_{in}$? Plot a histogram for your $E_{in}$ distribution."
   ]
  },
  {
   "cell_type": "markdown",
   "metadata": {},
   "source": [
    "#### 18. (`*`) Continuing from the previous question, what is the average $E_{out}$? Plot a histogram for your $E_{out}$ distribution."
   ]
  },
  {
   "cell_type": "markdown",
   "metadata": {
    "slideshow": {
     "slide_type": "slide"
    }
   },
   "source": [
    "##### Generate dataset"
   ]
  },
  {
   "cell_type": "code",
   "execution_count": 3,
   "metadata": {
    "collapsed": true,
    "slideshow": {
     "slide_type": "subslide"
    }
   },
   "outputs": [],
   "source": [
    "import numpy as np\n",
    "import random\n",
    "\n",
    "def generate_data(size, low, high, prob):\n",
    "    \"\"\" Generate X by a uniform distribution in the specified range.\n",
    "        Generate Y with a given probaility of noise.\n",
    "    \"\"\"\n",
    "    \n",
    "    X = np.random.uniform(low, high, size)\n",
    "    Y = np.sign(X)\n",
    "    \n",
    "    # noise: flip the result with specified prob\n",
    "    for i in range(len(Y)):\n",
    "        if random.random() < prob:\n",
    "            Y[i] *= -1\n",
    "            \n",
    "    return X, Y"
   ]
  },
  {
   "cell_type": "markdown",
   "metadata": {
    "slideshow": {
     "slide_type": "slide"
    }
   },
   "source": [
    "##### Build model"
   ]
  },
  {
   "cell_type": "code",
   "execution_count": 4,
   "metadata": {
    "collapsed": true,
    "slideshow": {
     "slide_type": "subslide"
    }
   },
   "outputs": [],
   "source": [
    "def decision_stump(X, Y):\n",
    "    \"\"\"Decision stump model for one-dimensional data. Return error, theta (threshold) and s.\"\"\"\n",
    "    \n",
    "    err_1 = []            # when s = 1\n",
    "    err_2 = []            # when s = -1\n",
    "    X_sort = sorted(X)\n",
    "    \n",
    "    # use median as the threshold\n",
    "    thresholds = [(X_sort[i] + X_sort[i + 1]) / 2 for i in range(len(X) - 1)]\n",
    "    # use max as the extreme case (classify all data to one side)\n",
    "    thresholds.append(X_sort[-1])\n",
    "    \n",
    "    # iterate over all thresholds and compute error\n",
    "    for threshold in thresholds:\n",
    "        theta = threshold\n",
    "        Y_pred = np.sign(X - theta)\n",
    "        err_1.append(np.sum(Y_pred != Y))      # when s = 1\n",
    "        err_2.append(np.sum(-Y_pred != Y))     # when s = -1\n",
    "    \n",
    "    # determine the best theta and s\n",
    "    if np.min(err_1) < np.min(err_2):\n",
    "        avg_err = np.min(err_1) / len(X) \n",
    "        final_theta = thresholds[np.argmin(err_1)]\n",
    "        s = 1\n",
    "    else:\n",
    "        avg_err = np.min(err_2) / len(X) \n",
    "        final_theta = thresholds[np.argmin(err_2)]\n",
    "        s = -1\n",
    "        \n",
    "    return avg_err, final_theta, s\n",
    "    "
   ]
  },
  {
   "cell_type": "markdown",
   "metadata": {},
   "source": [
    "##### Compute $E_{out}$"
   ]
  },
  {
   "cell_type": "code",
   "execution_count": 5,
   "metadata": {
    "collapsed": true
   },
   "outputs": [],
   "source": [
    "def err_out_function(s, theta):\n",
    "    \n",
    "    return 0.5 + 0.3 * s * (abs(theta) - 1)"
   ]
  },
  {
   "cell_type": "markdown",
   "metadata": {
    "slideshow": {
     "slide_type": "slide"
    }
   },
   "source": [
    "##### Experiment"
   ]
  },
  {
   "cell_type": "code",
   "execution_count": 6,
   "metadata": {
    "slideshow": {
     "slide_type": "subslide"
    }
   },
   "outputs": [
    {
     "name": "stdout",
     "output_type": "stream",
     "text": [
      "In-sample error: 0.169750\n",
      "Out-of-sample error: 0.258366\n"
     ]
    }
   ],
   "source": [
    "size = 20; low = -1; high = 1; prob = 0.2; experiment = 5000\n",
    "\n",
    "total_err_in = []\n",
    "total_err_out = []\n",
    "for i in range(experiment):\n",
    "    X, Y = generate_data(size, low, high, prob)\n",
    "    \n",
    "    err_in, theta, s = decision_stump(X, Y)\n",
    "    total_err_in.append(err_in)\n",
    "    \n",
    "    err_out = err_out_function(s, theta)\n",
    "    total_err_out.append(err_out)\n",
    "    \n",
    "    \n",
    "avg_err_in = np.mean(total_err_in)\n",
    "avg_err_out = np.mean(total_err_out)\n",
    "print('In-sample error: %f' %avg_err_in)\n",
    "print('Out-of-sample error: %f' %avg_err_out)"
   ]
  },
  {
   "cell_type": "markdown",
   "metadata": {},
   "source": [
    "##### Plot error"
   ]
  },
  {
   "cell_type": "code",
   "execution_count": 7,
   "metadata": {
    "slideshow": {
     "slide_type": "subslide"
    }
   },
   "outputs": [
    {
     "data": {
      "text/plain": [
       "1"
      ]
     },
     "execution_count": 7,
     "metadata": {},
     "output_type": "execute_result"
    },
    {
     "data": {
      "image/png": "[encoded data removed]",
      "text/plain": [
       "<matplotlib.figure.Figure at 0x10739a0f0>"
      ]
     },
     "metadata": {},
     "output_type": "display_data"
    }
   ],
   "source": [
    "import matplotlib.pyplot as plt\n",
    "%matplotlib inline\n",
    "\n",
    "plt.hist(total_err_in, bins= 20, label= 'In-sample error')\n",
    "plt.hist(total_err_out, bins= 20, label= 'Out-of-sample error')\n",
    "plt.legend()\n",
    "plt.title('Error Distribution')\n",
    "plt.xlabel('Error')\n",
    "plt.ylabel('Frequency')\n",
    "1"
   ]
  },
  {
   "cell_type": "markdown",
   "metadata": {
    "slideshow": {
     "slide_type": "skip"
    }
   },
   "source": [
    "### Multi-dimensional Decision Stump\n",
    "---"
   ]
  },
  {
   "cell_type": "markdown",
   "metadata": {},
   "source": [
    "Decision stumps can also work for multi-dimensional data. In particular, each decision stump now deals with a specific dimension $i$, as shown below. \n",
    "\n",
    "$$ h_{s, i, \\theta} (x) = s \\cdot sign(x_i - \\theta). $$"
   ]
  },
  {
   "cell_type": "markdown",
   "metadata": {},
   "source": [
    "Implement the following decision stump algorithm for multi-dimensional data:\n",
    "    \n",
    "1. for each dimension $i = 1, 2, ..., d$, find the best decision stump $h_{s, i, \\theta}$ using the one-dimensional decision stump algorithm that you have just implemented.\n",
    "2. return the *“best of best”* decision stump in terms of $E_{in}$. If there is a tie, please randomly choose among the lowest-$E_{in}$ ones."
   ]
  },
  {
   "cell_type": "markdown",
   "metadata": {},
   "source": [
    "The training data $D_{train}$ is available at: http://www.csie.ntu.edu.tw/~htlin/course/ml14fall/hw2/hw2_train.dat\n",
    "\n",
    "The testing data $D_{test}$ is available at: http://www.csie.ntu.edu.tw/~htlin/course/ml14fall/hw2/hw2_test.dat"
   ]
  },
  {
   "cell_type": "markdown",
   "metadata": {},
   "source": [
    "#### 19. (`*`) Run the algorithm on the $D_{train}$. What is the optimal decision stump returned by your program? What is the $E_{in}$ of the optimal decision stump?"
   ]
  },
  {
   "cell_type": "markdown",
   "metadata": {},
   "source": [
    "#### 20 (`*`) Use the returned decision stump to predict the label of each example within the $D_{test}$. Report an estimate of $E_{out}$ by $E_{test}$."
   ]
  },
  {
   "cell_type": "markdown",
   "metadata": {},
   "source": [
    "##### Read dataset"
   ]
  },
  {
   "cell_type": "code",
   "execution_count": 8,
   "metadata": {},
   "outputs": [],
   "source": [
    "import pandas as pd\n",
    "\n",
    "def read_data(file):\n",
    "    data = pd.read_csv(file, sep = ' ', header = None)\n",
    "    data = data.drop(0, axis = 1)  # drop the first empty column\n",
    "    return data"
   ]
  },
  {
   "cell_type": "markdown",
   "metadata": {},
   "source": [
    "##### Build Model"
   ]
  },
  {
   "cell_type": "code",
   "execution_count": 9,
   "metadata": {
    "collapsed": true
   },
   "outputs": [],
   "source": [
    "def multi_decision_stump(data):\n",
    "    \n",
    "    Y = np.array(data[10])\n",
    "    err_column = []\n",
    "    theta_column = []\n",
    "    s_column = []\n",
    "    \n",
    "    for column in data.loc[:, :9]:\n",
    "        X = np.array(data[column])\n",
    "        err, theta, s = decision_stump(X, Y)\n",
    "        \n",
    "        err_column.append(err)\n",
    "        theta_column.append(theta)\n",
    "        s_column.append(s)\n",
    "    \n",
    "    best_err = np.min(err_column)\n",
    "    best_theta = theta_column[np.argmin(err_column)]\n",
    "    best_s = s_column[np.argmin(err_column)]\n",
    "    best_column = np.argmin(err_column) + 1\n",
    "    \n",
    "    return best_err, best_theta, best_s, best_column\n",
    "    "
   ]
  },
  {
   "cell_type": "markdown",
   "metadata": {},
   "source": [
    "##### Compute $E_{out}$"
   ]
  },
  {
   "cell_type": "code",
   "execution_count": 10,
   "metadata": {
    "collapsed": true
   },
   "outputs": [],
   "source": [
    "def test_model(X, Y, theta, s):\n",
    "\n",
    "    Y_pred = s * np.sign(X - theta)\n",
    "    err = np.sum(Y_pred != Y)\n",
    "    avg_err = err / len(Y)\n",
    "    \n",
    "    return avg_err\n",
    "    "
   ]
  },
  {
   "cell_type": "markdown",
   "metadata": {},
   "source": [
    "##### Experiment"
   ]
  },
  {
   "cell_type": "code",
   "execution_count": 11,
   "metadata": {},
   "outputs": [
    {
     "name": "stdout",
     "output_type": "stream",
     "text": [
      "err_in :  0.25\n",
      "theta  :  1.6175\n",
      "s      :  -1\n",
      "column :  4\n"
     ]
    }
   ],
   "source": [
    "train_file = 'data/hw2_train.dat.txt'\n",
    "data_train = read_data(train_file)\n",
    "err, theta, s, column = multi_decision_stump(data_train)\n",
    "\n",
    "print('err_in : ', err)\n",
    "print('theta  : ', theta)\n",
    "print('s      : ', s)\n",
    "print('column : ', column)"
   ]
  },
  {
   "cell_type": "code",
   "execution_count": 12,
   "metadata": {},
   "outputs": [
    {
     "name": "stdout",
     "output_type": "stream",
     "text": [
      "err_out:  0.355\n"
     ]
    }
   ],
   "source": [
    "test_file = 'data/hw2_test.dat.txt'\n",
    "data_test = read_data(test_file)\n",
    "\n",
    "Y = data_test[10].values\n",
    "X = data_test[column].values\n",
    "err_out = test_model(X, Y, theta, s)\n",
    "print('err_out: ', err_out)"
   ]
  },
  {
   "cell_type": "code",
   "execution_count": null,
   "metadata": {
    "collapsed": true
   },
   "outputs": [],
   "source": []
  }
 ],
 "metadata": {
  "kernelspec": {
   "display_name": "Python 3",
   "language": "python",
   "name": "python3"
  },
  "language_info": {
   "codemirror_mode": {
    "name": "ipython",
    "version": 3
   },
   "file_extension": ".py",
   "mimetype": "text/x-python",
   "name": "python",
   "nbconvert_exporter": "python",
   "pygments_lexer": "ipython3",
   "version": "3.6.2"
  }
 },
 "nbformat": 4,
 "nbformat_minor": 2
}
