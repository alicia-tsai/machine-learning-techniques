{
 "cells": [
  {
   "cell_type": "markdown",
   "metadata": {},
   "source": [
    "### Adaptive Boosting\n",
    "---\n",
    "For Questions 12-18, implement the AdaBoost-Stump algorithm as introduced in Lecture 208. Run the algorithm on the following set for training: **`hw6_adaboost_train.dat`** and the following set for testing: **`hw6_adaboost_test.dat`.**\n",
    "\n",
    "Use a total of $T = 300$ iterations (please do not stop earlier than 300), and calculate $E_{in}$ and $E_{out}$ with the 0/1 error. \n",
    "\n",
    "For the decision stump algorithm, please implement the following steps. Any ties can be arbitrarily broken.\n",
    "\n",
    "(1) For any feature $i$, sort all the $x_{n,i}$ values to $x_{[n],i}$ such that $x_{[n],i} \\le x_{[n+1],i}$.\n",
    "\n",
    "(2) Consider thresholds within $−∞$ and all the midpoints $\\frac{x_{[n],i} + x_{[n+1],i}}{2}$. Test those thresholds with $s \\in \\{−1, +1\\}$ to determine the best $(s, \\theta)$ combination that minimizes $E_{u}$ using feature $i$.\n",
    "\n",
    "(3) Pick the best $(s, i, \\theta)$ combination by enumerating over all possible $i$.\n",
    "\n",
    "For those interested, step 2 can be carried out in $O(N)$ time only!!"
   ]
  },
  {
   "cell_type": "code",
   "execution_count": 1,
   "metadata": {
    "collapsed": true
   },
   "outputs": [],
   "source": [
    "import pandas as pd\n",
    "import numpy as np\n",
    "import time\n",
    "import matplotlib.pyplot as plt\n",
    "%matplotlib inline\n",
    "\n",
    "def generate_data(file):\n",
    "    \"\"\"Return data point X and lable Y.\"\"\"\n",
    "    data = pd.read_csv(file, sep=' ', header=None)\n",
    "    X = data.loc[:, 0:1]\n",
    "    Y = np.array(data.loc[:, 2:]).flatten()\n",
    "    \n",
    "    return X, Y"
   ]
  },
  {
   "cell_type": "markdown",
   "metadata": {},
   "source": [
    "##### Build multi-decision stump algorithm"
   ]
  },
  {
   "cell_type": "code",
   "execution_count": 2,
   "metadata": {
    "collapsed": true
   },
   "outputs": [],
   "source": [
    "def get_thresholds(X):\n",
    "    \"\"\"Return median as the thresholds given data of one dimenson.\"\"\"\n",
    "    X_sort = [max(X) + 1] + sorted(X)      # use max as the extreme case (classify all data to one side)\n",
    "    thresholds = [(X_sort[i] + X_sort[i + 1]) / 2 for i in range(len(X) - 1)]\n",
    "    \n",
    "    return thresholds\n",
    "\n",
    "\n",
    "def stump(X, params):\n",
    "    col, theta, s = params\n",
    "    return s * np.sign(X[col] - theta)\n",
    "\n",
    "\n",
    "def multi_decision_stump(X, Y, W):\n",
    "    \"\"\" Decision stump model for multi-dimensional data by minimizing weighted error. \n",
    "        Return theta (threshold), s and weighted classification error.\n",
    "    \"\"\"\n",
    "    \n",
    "    # initialize a large number for error\n",
    "    min_err = Y.shape[0]\n",
    "    \n",
    "    # iterate over all columns\n",
    "    for col in range(X.shape[1]):\n",
    "        thresholds = get_thresholds(X[col])\n",
    "\n",
    "        # iterate over all thresholds and compare weighted error\n",
    "        for threshold in thresholds:\n",
    "            for s in [1, -1]:\n",
    "                theta = threshold\n",
    "                Y_pred = stump(X, params=(col, theta, s))\n",
    "                weighted_err = np.sum(W * (Y_pred != Y))\n",
    "                \n",
    "                if weighted_err < min_err:\n",
    "                    best = theta, s, col, weighted_err\n",
    "                    min_err = weighted_err\n",
    "                    \n",
    "    return best\n"
   ]
  },
  {
   "cell_type": "markdown",
   "metadata": {},
   "source": [
    "##### Build AdaBoost stump algorithm"
   ]
  },
  {
   "cell_type": "code",
   "execution_count": 3,
   "metadata": {},
   "outputs": [],
   "source": [
    "def AdaBoost_Stump(X, Y, T):\n",
    "    \n",
    "    # initialize weights\n",
    "    weights = np.ones(X.shape[0]) / X.shape[0]\n",
    "    \n",
    "    alpha_list = []       # alpha of the hypothesis g for each iteration\n",
    "    g_list = []           # parameters=(col, theta, s) of the hypothesis g for each iteration\n",
    "    W_list = []           # list of weight vector per iteration (list of lists)\n",
    "    e_list = []           # error rate of the hypothesis g for each iteration\n",
    "    err_in_list = []      # weighted training error of the hypothesis g for each iteration\n",
    "\n",
    "    for t in range(T):\n",
    "        if t % 10 == 9:\n",
    "            print(' Running the %d-th iteration' %(t+1))\n",
    "        \n",
    "        # Build decision stump model\n",
    "        theta, s, col, weighted_err = multi_decision_stump(X_train, Y_train, weights) \n",
    "        \n",
    "        # Compute resclaing factor\n",
    "        e = weighted_err / np.sum(weights)\n",
    "        rescale = np.sqrt((1 - e) / e)\n",
    "        \n",
    "        # Rescale the weight vector\n",
    "        Y_pred = stump(X_train, params=(col, theta, s))\n",
    "        mask = np.array(Y_pred == Y)\n",
    "        weights[mask] /= rescale\n",
    "        weights[~mask] *= rescale\n",
    "                \n",
    "        # Get alpha, g, U, e, err_in\n",
    "        alpha_list.append(np.log(rescale))\n",
    "        g = col, theta, s\n",
    "        g_list.append(list(g))\n",
    "        W_list.append(np.sum(weights))\n",
    "        e_list.append(e)\n",
    "        err_in_list.append(weighted_err)\n",
    "\n",
    "    print('----------    END    ----------')\n",
    "    \n",
    "    return alpha_list, g_list, W_list, e_list, err_in_list\n",
    "\n",
    "\n",
    "def test_model(X, Y, alpha, g, T):\n",
    "    G = np.zeros(Y.shape[0])\n",
    "    for t in range(T):\n",
    "        params = list(g[t])\n",
    "        G += alpha[t] * stump(X, params)\n",
    "    \n",
    "    Y_pred = np.sign(G)\n",
    "    \n",
    "    return np.sum(Y_pred != Y) / len(Y)       "
   ]
  },
  {
   "cell_type": "markdown",
   "metadata": {},
   "source": [
    "##### Tranining model"
   ]
  },
  {
   "cell_type": "code",
   "execution_count": 4,
   "metadata": {},
   "outputs": [],
   "source": [
    "train_file = 'data/hw6_adaboost_train.dat.txt'; test_file = 'data/hw6_adaboost_test.dat.txt'\n",
    "X_train, Y_train = generate_data(train_file)\n",
    "X_test, Y_test = generate_data(test_file)"
   ]
  },
  {
   "cell_type": "code",
   "execution_count": 5,
   "metadata": {},
   "outputs": [
    {
     "name": "stdout",
     "output_type": "stream",
     "text": [
      "===== Starting Training =====\n",
      " Running the 10-th iteration\n",
      " Running the 20-th iteration\n",
      " Running the 30-th iteration\n",
      " Running the 40-th iteration\n",
      " Running the 50-th iteration\n",
      " Running the 60-th iteration\n",
      " Running the 70-th iteration\n",
      " Running the 80-th iteration\n",
      " Running the 90-th iteration\n",
      " Running the 100-th iteration\n",
      " Running the 110-th iteration\n",
      " Running the 120-th iteration\n",
      " Running the 130-th iteration\n",
      " Running the 140-th iteration\n",
      " Running the 150-th iteration\n",
      " Running the 160-th iteration\n",
      " Running the 170-th iteration\n",
      " Running the 180-th iteration\n",
      " Running the 190-th iteration\n",
      " Running the 200-th iteration\n",
      " Running the 210-th iteration\n",
      " Running the 220-th iteration\n",
      " Running the 230-th iteration\n",
      " Running the 240-th iteration\n",
      " Running the 250-th iteration\n",
      " Running the 260-th iteration\n",
      " Running the 270-th iteration\n",
      " Running the 280-th iteration\n",
      " Running the 290-th iteration\n",
      " Running the 300-th iteration\n",
      "----------    END    ----------\n",
      "\n",
      "Using 72.090969 seconds.\n",
      "\n",
      "Model accuracy on the training set: 100.00 %\n",
      "Model accuracy on the testing set: 86.80\n"
     ]
    }
   ],
   "source": [
    "T = 300\n",
    "\n",
    "print('===== Starting Training =====')\n",
    "start = time.clock()\n",
    "alpha, g, W, e, err_in_g = AdaBoost_Stump(X_train, Y_train, T)\n",
    "\n",
    "print('\\nUsing %f seconds.\\n' % (time.clock() - start))\n",
    "\n",
    "train_err = test_model(X_train, Y_train, alpha, g, T)\n",
    "train_acc = (1 - train_err) * 100\n",
    "print('Model accuracy on the training set: %.2f %%' %train_acc)\n",
    "\n",
    "test_err = test_model(X_test, Y_test, alpha, g, T)\n",
    "test_acc = (1 - test_err) * 100\n",
    "print('Model accuracy on the testing set: %.2f' %test_acc)"
   ]
  },
  {
   "cell_type": "markdown",
   "metadata": {},
   "source": [
    "#### 12. Plot a figure for $t$ versus $E_{in}(g_t)$. What is $E_{in}(g_1)$ and what is $\\alpha_1$?"
   ]
  },
  {
   "cell_type": "markdown",
   "metadata": {},
   "source": [
    "#### 13. From the figure in the previous question, should $E_{in}(g_t)$ be decreasing or increasing? Write down your observations and explanations."
   ]
  },
  {
   "cell_type": "code",
   "execution_count": 6,
   "metadata": {},
   "outputs": [
    {
     "name": "stdout",
     "output_type": "stream",
     "text": [
      "Weighted error for the first iteration: 0.24\n",
      "Alpha for the first iteration: 0.576340\n"
     ]
    },
    {
     "data": {
      "image/png": "[encoded data removed]",
      "text/plain": [
       "<matplotlib.figure.Figure at 0x107322a90>"
      ]
     },
     "metadata": {},
     "output_type": "display_data"
    }
   ],
   "source": [
    "plt.plot(err_in_g)\n",
    "plt.title('Training Error of g')\n",
    "plt.xlabel('Iteration')\n",
    "plt.ylabel('Weighted Error')\n",
    "\n",
    "print('Weighted error for the first iteration: %.2f' %err_in_g[0])\n",
    "print('Alpha for the first iteration: %f' %alpha[0])"
   ]
  },
  {
   "cell_type": "markdown",
   "metadata": {},
   "source": [
    "#### Plot a figure for $t$ versus $E_{in}(G_t)$, where $G_{t}(x) = \\sum^t_{T=1} \\alpha_{T} g_{T} (x)$. That is, $G = G_{T}$. What is $E_{in}(G)$ ?"
   ]
  },
  {
   "cell_type": "code",
   "execution_count": 7,
   "metadata": {},
   "outputs": [
    {
     "name": "stdout",
     "output_type": "stream",
     "text": [
      "Computing Training Error of G\n",
      "... 50-th iteration\n",
      "... 100-th iteration\n",
      "... 150-th iteration\n",
      "... 200-th iteration\n",
      "... 250-th iteration\n",
      "... 300-th iteration\n",
      "\n",
      "Training error for the last iteration: 0.00\n"
     ]
    },
    {
     "data": {
      "image/png": "[encoded data removed]",
      "text/plain": [
       "<matplotlib.figure.Figure at 0x107304ba8>"
      ]
     },
     "metadata": {},
     "output_type": "display_data"
    }
   ],
   "source": [
    "print('Computing Training Error of G')\n",
    "\n",
    "err_in_G = []\n",
    "for i in range(T):\n",
    "    if i % 50 == 49:\n",
    "        print('... %d-th iteration' %(i + 1))\n",
    "    err_in_G.append(test_model(X_train, Y_train, alpha, g, i))\n",
    "    \n",
    "\n",
    "plt.plot(err_in_G)\n",
    "plt.title('Training Error of G')\n",
    "plt.xlabel('Iteration')\n",
    "plt.ylabel('Training Error')\n",
    "\n",
    "print('\\nTraining error for the last iteration: %.2f' %err_in_G[-1])"
   ]
  },
  {
   "cell_type": "markdown",
   "metadata": {},
   "source": [
    "#### 15. Plot a figure for $t$ versus $U_{t}$, where $U_t = \\sum^N_{n=1} u^{(t)}_n$ . What is $U_2$ and what is $U_T$ ?"
   ]
  },
  {
   "cell_type": "code",
   "execution_count": 9,
   "metadata": {},
   "outputs": [
    {
     "name": "stdout",
     "output_type": "stream",
     "text": [
      "U_2: 0.654504\n",
      "U_T: 0.005401\n"
     ]
    },
    {
     "data": {
      "image/png": "[encoded data removed]",
      "text/plain": [
       "<matplotlib.figure.Figure at 0x1077b9630>"
      ]
     },
     "metadata": {},
     "output_type": "display_data"
    }
   ],
   "source": [
    "U = [np.sum(w) for w in W]\n",
    "\n",
    "plt.plot(U)\n",
    "plt.title('Sum of Weights for Each Iteration')\n",
    "plt.xlabel('Iteration')\n",
    "plt.ylabel('Sum of Weights')\n",
    "\n",
    "print('U_2: %f' %U[1]); print('U_T: %f' %U[-1])"
   ]
  },
  {
   "cell_type": "markdown",
   "metadata": {},
   "source": [
    "#### 16. Plot a figure for $t$ versus $\\epsilon_t$. What is the minimum value of $\\epsilon_t$?"
   ]
  },
  {
   "cell_type": "code",
   "execution_count": 10,
   "metadata": {},
   "outputs": [
    {
     "name": "stdout",
     "output_type": "stream",
     "text": [
      "Minimum value of e: 0.178728\n"
     ]
    },
    {
     "data": {
      "image/png": "[encoded data removed]",
      "text/plain": [
       "<matplotlib.figure.Figure at 0x1077dbf28>"
      ]
     },
     "metadata": {},
     "output_type": "display_data"
    }
   ],
   "source": [
    "plt.plot(e)\n",
    "plt.title('Error rate of Each Iteration')\n",
    "plt.xlabel('Iteration')\n",
    "plt.ylabel('Error rate')\n",
    "\n",
    "print('Minimum value of e: %f' %min(e))"
   ]
  },
  {
   "cell_type": "markdown",
   "metadata": {},
   "source": [
    "#### 17. Plot a figure for $t$ versus $E_{out}(g_t)$ estimated with the test set. What is $E_{out}(g_1)$ ?"
   ]
  },
  {
   "cell_type": "code",
   "execution_count": 11,
   "metadata": {},
   "outputs": [
    {
     "name": "stdout",
     "output_type": "stream",
     "text": [
      "Computing Testing Error of g\n",
      "... 50-th iteration\n",
      "... 100-th iteration\n",
      "... 150-th iteration\n",
      "... 200-th iteration\n",
      "... 250-th iteration\n",
      "... 300-th iteration\n",
      "\n",
      "Testing error of the first iteration: 0.25\n"
     ]
    },
    {
     "data": {
      "image/png": "[encoded data removed]",
      "text/plain": [
       "<matplotlib.figure.Figure at 0x10789a908>"
      ]
     },
     "metadata": {},
     "output_type": "display_data"
    }
   ],
   "source": [
    "print('Computing Testing Error of g')\n",
    "\n",
    "err_out_g = []\n",
    "for i in range(T):\n",
    "    if i % 50 == 49:\n",
    "        print('... %d-th iteration' %(i + 1))\n",
    "    \n",
    "    params = list(g[i])\n",
    "    Y_pred = stump(X_test, params)\n",
    "    avg_weighted_err = np.sum(np.array(W[i]) * (Y_pred != Y_test)) / len(Y_test)\n",
    "    err_out_g.append(avg_weighted_err)\n",
    "\n",
    "plt.plot(err_out_g)\n",
    "plt.title('Testing Error of g')\n",
    "plt.xlabel('Iteratoin')\n",
    "plt.ylabel('Weighted Error')\n",
    "\n",
    "print('\\nTesting error of the first iteration: %.2f' %err_out_g[0])"
   ]
  },
  {
   "cell_type": "markdown",
   "metadata": {},
   "source": [
    "#### 18. Plot a figure for $t$ versus $E_{out}(G_t)$ estimated with the test set. What is $E_{out}(G)$ ?"
   ]
  },
  {
   "cell_type": "code",
   "execution_count": 12,
   "metadata": {},
   "outputs": [
    {
     "name": "stdout",
     "output_type": "stream",
     "text": [
      "Computing Testing Error of G\n",
      "... 50-th iteration\n",
      "... 100-th iteration\n",
      "... 150-th iteration\n",
      "... 200-th iteration\n",
      "... 250-th iteration\n",
      "... 300-th iteration\n",
      "\n",
      "Testing error for the last iteration: 0.00\n"
     ]
    },
    {
     "data": {
      "image/png": "[encoded data removed]",
      "text/plain": [
       "<matplotlib.figure.Figure at 0x1077bd358>"
      ]
     },
     "metadata": {},
     "output_type": "display_data"
    }
   ],
   "source": [
    "print('Computing Testing Error of G')\n",
    "\n",
    "err_out_G = []\n",
    "for i in range(T):\n",
    "    if i % 50 == 49:\n",
    "        print('... %d-th iteration' %(i + 1))\n",
    "    err_out_G.append(test_model(X_test, Y_test, alpha, g, i))\n",
    "    \n",
    "\n",
    "plt.plot(err_out_G)\n",
    "plt.title('Testing Error of G')\n",
    "plt.xlabel('Iteration')\n",
    "plt.ylabel('Testing Error')\n",
    "\n",
    "print('\\nTesting error for the last iteration: %.2f' %err_in_G[-1])"
   ]
  },
  {
   "cell_type": "markdown",
   "metadata": {
    "collapsed": true
   },
   "source": [
    "### Kernel Ridge Regression\n",
    "---\n",
    "Write a program to implement the kernel ridge regression algorithm from Lecture 206, and use it for classification (i.e. implement LSSVM). Consider the following data set **`hw6_lssvm_all.dat`**. Use the first 400 examples for training and the remaining for testing. Calculate $E_{in}$ and $E_{out}$ with the 0/1 error.\n",
    "\n",
    "Consider the Gaussian-RBF kernel $exp(−\\gamma \\|x − x^{\\prime}\\|^2)$ . Try all combinations of parameters $\\gamma \\in \\{32, 2, 0.125\\}$ and $\\lambda \\in \\{0.001, 1, 1000\\}$."
   ]
  },
  {
   "cell_type": "markdown",
   "metadata": {},
   "source": [
    "#### 19. Among all parameter combinations, which combination results in the minimum $E_{in}(g)$? What is the corresponding $E_{in}(g)$?"
   ]
  },
  {
   "cell_type": "markdown",
   "metadata": {},
   "source": [
    "#### 20. Among all parameter combinations, which combination results in the minimum $E_{out}(g)$? What is the corresponding $E_{out}(g)$?"
   ]
  },
  {
   "cell_type": "code",
   "execution_count": 47,
   "metadata": {
    "collapsed": true
   },
   "outputs": [],
   "source": [
    "import pandas as pd\n",
    "import numpy as np\n",
    "import matplotlib.pyplot as plt\n",
    "%matplotlib inline\n",
    "\n",
    "def generate_data(data):\n",
    "    \"\"\"Return data point X and lable Y.\"\"\"\n",
    "    X = data.loc[:, :10]\n",
    "    Y = np.array(data.loc[:, 11:]).flatten()\n",
    "    \n",
    "    return X, Y"
   ]
  },
  {
   "cell_type": "markdown",
   "metadata": {},
   "source": [
    "##### Build model"
   ]
  },
  {
   "cell_type": "code",
   "execution_count": 66,
   "metadata": {},
   "outputs": [],
   "source": [
    "def GaussianRBF_kernel(x1, x2, gamma):\n",
    "    \"\"\"Guassian-RBF kernel\"\"\"\n",
    "    return np.exp(-gamma * np.sum((x1 - x1)**2))\n",
    "\n",
    "\n",
    "def kernel_matrix(X, gamma):\n",
    "    \"\"\"Compute kernel matrix K(xi,xj) for retrival\"\"\"\n",
    "    N = X.shape[0]\n",
    "    X = np.array(X)\n",
    "    K = np.empty((N, N))\n",
    "    for i in range(N):\n",
    "        for j in range(N):\n",
    "            K[i][j] = GaussianRBF_kernel(X[i], X[j], gamma)\n",
    "            \n",
    "    return K\n",
    "    \n",
    "\n",
    "def opt_beta(lamb, K, y):\n",
    "    \"\"\"Return the optimal beta (N by 1 vector).\"\"\"\n",
    "    N = len(y)\n",
    "    inverse = np.linalg.pinv(np.identity(N) * lamb + K)\n",
    "    return np.dot(inverse, y)\n",
    "\n",
    "\n",
    "def LLSVM_predict(X_train, X_test, beta, gamma):\n",
    "    N = X_test.shape[0]\n",
    "    M = len(beta)\n",
    "    Y_pred = np.zeros(N)\n",
    "    for n in range(N):\n",
    "        for m in range(M):\n",
    "            Y_pred[n] += beta[m] * GaussianRBF_kernel(X_test.values[n], X_train.values[m], gamma)\n",
    "    \n",
    "    Y_pred[Y_pred >= 0] = 1\n",
    "    Y_pred[Y_pred < 0] = -1\n",
    "    \n",
    "    return Y_pred\n"
   ]
  },
  {
   "cell_type": "markdown",
   "metadata": {},
   "source": [
    "##### Experiment"
   ]
  },
  {
   "cell_type": "code",
   "execution_count": 52,
   "metadata": {},
   "outputs": [],
   "source": [
    "file = 'data/hw6_lssvm_all.dat.txt'\n",
    "data_train = pd.read_csv(file, sep=' ', header=None).dropna(axis=1).loc[:399, :]\n",
    "data_test = pd.read_csv(file, sep=' ', header=None).dropna(axis=1).loc[400:, :]\n",
    "X_train, Y_train = generate_data(data_train); X_test, Y_test = generate_data(data_test)"
   ]
  },
  {
   "cell_type": "code",
   "execution_count": 75,
   "metadata": {},
   "outputs": [],
   "source": [
    "lamb_list = [0.001, 1, 1000]\n",
    "gamma_list = [32, 2, 0.125]\n",
    "\n",
    "min_err_in = 1\n",
    "min_err_out = 1\n",
    "for lamb in lamb_list:\n",
    "    for gamma in gamma_list:\n",
    "        K = kernel_matrix(X_train, gamma)\n",
    "        beta = opt_beta(lamb, K_train, Y_train)        \n",
    "        Y_train_pred = LLSVM_predict(X_train, X_train, beta, gamma)\n",
    "        err_in = np.sum(Y_train_pred != Y_train) / len(Y_train)\n",
    "        \n",
    "        Y_test_pred = LLSVM_predict(X_train, X_test, beta, gamma)\n",
    "        err_out = np.sum(Y_test_pred != Y_test) / len(Y_test)\n",
    "        \n",
    "        if err_in < min_err_in:\n",
    "            best_in_combo = lamb, gamma, beta\n",
    "            min_err_in = err_in\n",
    "        \n",
    "        if err_out < min_err_out:\n",
    "            best_out_combo = lamb, gamma, beta   \n",
    "            min_err_out = err_out\n",
    "        "
   ]
  },
  {
   "cell_type": "code",
   "execution_count": 81,
   "metadata": {},
   "outputs": [
    {
     "name": "stdout",
     "output_type": "stream",
     "text": [
      "Result of minimum training error:\n",
      "  lambda: 0.001000\n",
      "  gamma: 32.000000\n",
      "  minimum training error: 0.400000\n",
      "\n",
      "Result of minimum testing error:\n",
      "  lambda: 0.001000\n",
      "  gamma: 32.000000\n",
      "  minimum testing error: 0.480000\n"
     ]
    }
   ],
   "source": [
    "print('Result of minimum training error:')\n",
    "print('  lambda: %f' %best_in_combo[0])\n",
    "print('  gamma: %f' %best_in_combo[1])\n",
    "print('  minimum training error: %f' %min_err_in)\n",
    "\n",
    "print('\\nResult of minimum testing error:')\n",
    "print('  lambda: %f' %best_out_combo[0])\n",
    "print('  gamma: %f' %best_out_combo[1])\n",
    "print('  minimum testing error: %f' %min_err_out)"
   ]
  },
  {
   "cell_type": "code",
   "execution_count": null,
   "metadata": {
    "collapsed": true
   },
   "outputs": [],
   "source": []
  }
 ],
 "metadata": {
  "kernelspec": {
   "display_name": "Python 3",
   "language": "python",
   "name": "python3"
  },
  "language_info": {
   "codemirror_mode": {
    "name": "ipython",
    "version": 3
   },
   "file_extension": ".py",
   "mimetype": "text/x-python",
   "name": "python",
   "nbconvert_exporter": "python",
   "pygments_lexer": "ipython3",
   "version": "3.6.2"
  }
 },
 "nbformat": 4,
 "nbformat_minor": 2
}
