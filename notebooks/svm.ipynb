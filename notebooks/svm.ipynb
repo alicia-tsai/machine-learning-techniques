{
 "cells": [
  {
   "cell_type": "markdown",
   "metadata": {},
   "source": [
    "## Machine Learning Foundation & Techniques: Assignment 5"
   ]
  },
  {
   "cell_type": "markdown",
   "metadata": {},
   "source": [
    "### Soft-Margin Support Vector Machine\n",
    "---\n",
    "\n",
    "For Questions 15 to 20, we are going to experiment with a real-world data set. Download the processed US Postal Service Zip Code data set with extracted features of intensity and symmetry for training and testing:\n",
    "\n",
    "**Training: http://www.amlbook.com/data/zip/features.train**\n",
    "**Testing: http://www.amlbook.com/data/zip/features.test**\n",
    "\n",
    "The format of each row is ***`digit intensity symmetry`***\n",
    "\n",
    "We will consider binary classification problems of the form “one of the digits” (as the positive class) versus “other digits” (as the negative class).\n",
    "The training set contains thousands of examples, and some quadratic programming packages cannot handle this size. We recommend that you consider the LIBSVM package http://www.csie.ntu.edu.tw/~cjlin/libsvm/. ***( Note: I use `'svc'` from `'sklearn'` package for this problem set.)***\n",
    "\n",
    "Regardless of the package that you choose to use, please read the manual of the package carefully to make sure that you are indeed solving the soft-margin support vector machine taught in class like the dual formulation below:\n",
    "\n",
    "$$\n",
    "\\min_{\\alpha} \\frac{1}{2} \\sum^N_{n=1} \\sum^N_{m=1} \\alpha_{n}\\alpha_{m} y_{n} y_{m} K(x_{n}, x_{m}) - \\sum^N_{n=1}\\alpha_{n} \\\\\n",
    "s.t. \\sum^N_{n=1} y_{n}\\alpha_{n} = 0 \\\\\n",
    "0 \\le \\alpha_{n} \\le C  \\\\ \n",
    "n=1,...,N\n",
    "$$\n",
    "\n",
    "In the following questions, please use the 0/1 error for evaulating $E_{in}$, $E_{val}$ and $E_{out}$ (through the test set). Some practical remarks include\n",
    "\n",
    "+ Please tell your chosen package to **not** automatically scale the data for you, lest you should change the effective kernel and get different results.\n",
    "+ It is your responsibility to check whether your chosen package solves the designated formulation with enough numerical precision. Please read the manual of your chosen package for software parameters whose values affect the outcome—any ML practitioner needs to deal with this kind of added uncertainty."
   ]
  },
  {
   "cell_type": "markdown",
   "metadata": {},
   "source": [
    "#### 15. Consider the linear soft-margin SVM. That is, either solve the primal formulation of soft-margin SVM with the given $x_{n}$, or take the linear kernel $K(x_{n}, x_{m}) = x^T_{n}x_{m}$ in the dual formulation. For the binary classification problem of “0” versus “not 0”, plot $\\| w \\|$ versus $log_{10} C \\in \\{−6, −4, −2, 0, 2\\}$. Describe your findings.\n"
   ]
  },
  {
   "cell_type": "markdown",
   "metadata": {},
   "source": [
    "##### Read & generate dataset"
   ]
  },
  {
   "cell_type": "code",
   "execution_count": 1,
   "metadata": {
    "collapsed": true
   },
   "outputs": [],
   "source": [
    "import pandas as pd\n",
    "import numpy as np\n",
    "\n",
    "def read_data(file):\n",
    "    data = pd.read_csv(file, sep = ' ', header = None).dropna(axis = 1)\n",
    "    data.columns = [0,1,2]\n",
    "    \n",
    "    return data\n",
    "\n",
    "\n",
    "def generate_data(data, positive):\n",
    "    \"\"\"Return data point X and lable Y.\"\"\"\n",
    "    X = np.array(data.loc[:, 1:2])\n",
    "    Y = np.array(data.loc[:, :0]).flatten()\n",
    "    Y[Y != positive] = -1\n",
    "    Y[Y == positive] = 1\n",
    "    \n",
    "    return X, Y"
   ]
  },
  {
   "cell_type": "markdown",
   "metadata": {},
   "source": [
    "##### Experiment"
   ]
  },
  {
   "cell_type": "code",
   "execution_count": 2,
   "metadata": {},
   "outputs": [],
   "source": [
    "train_file = 'data/features.train.txt'; test_file = 'data/features.test.txt'\n",
    "data_train = read_data(train_file); data_test = read_data(test_file)"
   ]
  },
  {
   "cell_type": "code",
   "execution_count": 3,
   "metadata": {},
   "outputs": [
    {
     "name": "stdout",
     "output_type": "stream",
     "text": [
      "Building model for log10(C) -6\n",
      "Building model for log10(C) -4\n",
      "Building model for log10(C) -2\n",
      "Building model for log10(C) 0\n",
      "Building model for log10(C) 2\n",
      "------ END -----\n"
     ]
    }
   ],
   "source": [
    "from sklearn import svm\n",
    "\n",
    "positive = 0\n",
    "X_train, Y_train = generate_data(data_train, positive)\n",
    "C_list = [10 ** k for k in range(-6,4,2)]\n",
    "\n",
    "W_norm_list = []\n",
    "for C in C_list:\n",
    "    print('Building model for log10(C) %d' %np.log10(C))\n",
    "    clf = svm.SVC(kernel = 'linear', C = C)\n",
    "    clf.fit(X_train, Y_train)\n",
    "    W = clf.coef_\n",
    "    W_norm = np.sqrt(np.sum(W ** 2))\n",
    "    W_norm_list.append(W_norm)\n",
    "\n",
    "print('------ END -----')"
   ]
  },
  {
   "cell_type": "markdown",
   "metadata": {},
   "source": [
    "##### Plot length of W with respect to C"
   ]
  },
  {
   "cell_type": "code",
   "execution_count": 4,
   "metadata": {},
   "outputs": [
    {
     "name": "stdout",
     "output_type": "stream",
     "text": [
      "Length of W:\n",
      "[6.0206550090759903e-05, 0.0060189611378155226, 0.57131714942568745, 11.328063062535298, 13.092344116324691]\n"
     ]
    },
    {
     "data": {
      "image/png": "[encoded data removed]",
      "text/plain": [
       "<matplotlib.figure.Figure at 0x1046b5b00>"
      ]
     },
     "metadata": {},
     "output_type": "display_data"
    }
   ],
   "source": [
    "import matplotlib.pyplot as plt\n",
    "%matplotlib inline\n",
    "\n",
    "plt.plot(np.log10(C_list), W_norm_list)\n",
    "plt.title('W Norm for C')\n",
    "plt.xlabel('log10(C)')\n",
    "plt.ylabel('Length of W')\n",
    "\n",
    "print('Length of W:'); print(W_norm_list)"
   ]
  },
  {
   "cell_type": "markdown",
   "metadata": {},
   "source": [
    "#### 16. Consider the polynomial kernel $K(x_{n}, x_{m}) = (1 + x^T_{n} x_{m})^Q$, where $Q$ is the degree of the polynomial. With $Q = 2$, and the binary classification problem of “8” versus “not 8”, plot $E_{in}$ versus $log_{10} C \\in \\{−6, −4, −2, 0, 2\\}$. Describe your findings."
   ]
  },
  {
   "cell_type": "markdown",
   "metadata": {},
   "source": [
    "##### Experiment"
   ]
  },
  {
   "cell_type": "code",
   "execution_count": 5,
   "metadata": {},
   "outputs": [
    {
     "name": "stdout",
     "output_type": "stream",
     "text": [
      "Building model for log10(C) -6\n",
      "Building model for log10(C) -4\n",
      "Building model for log10(C) -2\n",
      "Building model for log10(C) 0\n",
      "Building model for log10(C) 2\n",
      "----- END -----\n"
     ]
    }
   ],
   "source": [
    "from sklearn import svm\n",
    "\n",
    "positive = 8; degree = 2\n",
    "X_train, Y_train = generate_data(data_train, positive)\n",
    "C_list = [10 ** k for k in range(-6,4,2)]\n",
    "\n",
    "err_list = []\n",
    "alpha_list = []\n",
    "for C in C_list:\n",
    "    print('Building model for log10(C) %d' %np.log10(C))\n",
    "    clf = svm.SVC(kernel = 'poly', C = C, degree = degree)\n",
    "    clf.fit(X_train, Y_train)\n",
    "    Y_pred = clf.predict(X_train)\n",
    "    err = np.sum(Y_train != Y_pred)\n",
    "    err_list.append(err)\n",
    "    \n",
    "    # compute alpha\n",
    "    alpha_y = clf.dual_coef_           # return alpha times y of support vectors\n",
    "    sv = clf.support_                  # indices of support vectors\n",
    "    alpha = alpha_y * Y_train[sv]      # Y_train[sv] gets the label of support vectors (y square = 1)\n",
    "    alpha_list.append(np.sum(alpha))\n",
    "    \n",
    "print('----- END -----')"
   ]
  },
  {
   "cell_type": "markdown",
   "metadata": {},
   "source": [
    "##### Plot $E_{in}$ with respect to C"
   ]
  },
  {
   "cell_type": "code",
   "execution_count": 6,
   "metadata": {},
   "outputs": [
    {
     "name": "stdout",
     "output_type": "stream",
     "text": [
      "Training error:\n",
      "[542, 542, 542, 542, 542]\n"
     ]
    },
    {
     "data": {
      "image/png": "[encoded data removed]",
      "text/plain": [
       "<matplotlib.figure.Figure at 0x10c6f7470>"
      ]
     },
     "metadata": {},
     "output_type": "display_data"
    }
   ],
   "source": [
    "plt.plot(np.log10(C_list), err_list)\n",
    "plt.title('Training Error for C')\n",
    "plt.xlabel('log10(C)')\n",
    "plt.ylabel('Training error')\n",
    "\n",
    "print('Training error:'); print(err_list)"
   ]
  },
  {
   "cell_type": "markdown",
   "metadata": {},
   "source": [
    "#### 17. Following Question 16, plot  $\\sum^N_{n=1} \\alpha_{n}$ versus $log_{10} C \\in \\{−6, −4, −2, 0, 2\\}$ instead. Describe your findings."
   ]
  },
  {
   "cell_type": "markdown",
   "metadata": {},
   "source": [
    "##### Plot $\\alpha$ with repesct to C"
   ]
  },
  {
   "cell_type": "code",
   "execution_count": 7,
   "metadata": {},
   "outputs": [
    {
     "name": "stdout",
     "output_type": "stream",
     "text": [
      "Alpha: \n",
      "[0.0010839999999999999, 0.10840000000000002, 10.84, 1084.0, 108400.00000000009]\n"
     ]
    },
    {
     "data": {
      "image/png": "[encoded data removed]",
      "text/plain": [
       "<matplotlib.figure.Figure at 0x10c6aba58>"
      ]
     },
     "metadata": {},
     "output_type": "display_data"
    }
   ],
   "source": [
    "plt.plot(np.log10(C_list), np.log10(alpha_list))\n",
    "plt.title('Alpha with respect to C')\n",
    "plt.xlabel('log10(C)')\n",
    "plt.ylabel('log10(alpha)')\n",
    "\n",
    "print('Alpha: '); print(alpha_list)"
   ]
  },
  {
   "cell_type": "markdown",
   "metadata": {},
   "source": [
    "#### 18. Consider the Gaussian kernel $K(x_{n}, x_{m}) = \\exp(-\\gamma \\|x_{n} − x_{m} \\|^2)$ . With $\\gamma = 100$, and the binary classification problem of “0” versus “not 0”. Consider values of $log_{10} C$ within $\\{−3, −2, −1, 0, 1\\}$. Plot the the distance of any free support vector to the hyperplane in the (infinite-dimensional) $Z$ space versus $log_{10} C$. Describe your findings."
   ]
  },
  {
   "cell_type": "markdown",
   "metadata": {},
   "source": [
    "##### Define gaussian kernel"
   ]
  },
  {
   "cell_type": "code",
   "execution_count": 8,
   "metadata": {
    "collapsed": true
   },
   "outputs": [],
   "source": [
    "def gaussian_kernel(a, b, r):\n",
    "    return np.exp(-r * np.sum((a - b)**2))"
   ]
  },
  {
   "cell_type": "markdown",
   "metadata": {},
   "source": [
    "##### Experiment"
   ]
  },
  {
   "cell_type": "code",
   "execution_count": 9,
   "metadata": {},
   "outputs": [
    {
     "name": "stdout",
     "output_type": "stream",
     "text": [
      "Building model for C 0.001000\n",
      " looping free sv: 0\n",
      " looping free sv: 500\n",
      " looping free sv: 1000\n",
      " looping free sv: 1500\n",
      " looping free sv: 2000\n",
      "Building model for C 0.010000\n",
      " looping free sv: 0\n",
      " looping free sv: 500\n",
      " looping free sv: 1000\n",
      " looping free sv: 1500\n",
      " looping free sv: 2000\n",
      " looping free sv: 2500\n",
      "Building model for C 0.100000\n",
      " looping free sv: 0\n",
      " looping free sv: 500\n",
      " looping free sv: 1000\n",
      " looping free sv: 1500\n",
      " looping free sv: 2000\n",
      "Building model for C 1.000000\n",
      " looping free sv: 0\n",
      " looping free sv: 500\n",
      " looping free sv: 1000\n",
      " looping free sv: 1500\n",
      "Building model for C 10.000000\n",
      " looping free sv: 0\n",
      " looping free sv: 500\n",
      " looping free sv: 1000\n",
      " looping free sv: 1500\n",
      "----- END -----\n"
     ]
    }
   ],
   "source": [
    "from sklearn import svm\n",
    "\n",
    "positive = 0; gamma = 100\n",
    "X_train, Y_train = generate_data(data_train, positive)\n",
    "X_test, Y_test = generate_data(data_test, positive)\n",
    "C_list = [10 ** k for k in range(-3,2,1)]\n",
    "\n",
    "err_out_list = []\n",
    "margin_list = []\n",
    "for C in C_list:\n",
    "    print('Building model for C %f' %C)\n",
    "    clf = svm.SVC(kernel = 'rbf', C = C, gamma = gamma)\n",
    "    clf.fit(X_train, Y_train)\n",
    "    Y_pred = clf.predict(X_test)\n",
    "    err = np.sum(Y_test != Y_pred)\n",
    "    err_out_list.append(err)\n",
    "    \n",
    "    # compute margin\n",
    "    sv = clf.support_                  # indices of support vectors\n",
    "    W_norm = 0\n",
    "    \n",
    "    for i in range(len(sv)):           # looping sv to compute the length of W\n",
    "        if i % 500 == 0:\n",
    "            print(' looping free sv: %d' %i)\n",
    "        n = sv[i]\n",
    "        for j in range(len(sv)):\n",
    "            m = sv[j]\n",
    "            W_norm += clf.dual_coef_.flatten()[i] * clf.dual_coef_.flatten()[j] * gaussian_kernel(X_train[n], X_train[m], gamma)\n",
    "    \n",
    "    margin = 1 / W_norm\n",
    "    margin_list.append(margin)\n",
    "    \n",
    "print('----- END -----')"
   ]
  },
  {
   "cell_type": "markdown",
   "metadata": {},
   "source": [
    "##### Plot the distance of free SVs to the hyperplane (margin)"
   ]
  },
  {
   "cell_type": "code",
   "execution_count": 10,
   "metadata": {},
   "outputs": [
    {
     "name": "stdout",
     "output_type": "stream",
     "text": [
      "Margin:\n",
      "[67.84481011962994, 0.68030898596779599, 0.016601095216306632, 0.0070829902518151867, 0.0016885773766814084]\n"
     ]
    },
    {
     "data": {
      "image/png": "[encoded data removed]",
      "text/plain": [
       "<matplotlib.figure.Figure at 0x10e07ec18>"
      ]
     },
     "metadata": {},
     "output_type": "display_data"
    }
   ],
   "source": [
    "plt.plot(np.log10(C_list), np.log10(margin_list))\n",
    "plt.title('Margin for C')\n",
    "plt.xlabel('log10(C)')\n",
    "plt.ylabel('log10(margin)')\n",
    "\n",
    "print('Margin:'); print(margin_list)"
   ]
  },
  {
   "cell_type": "markdown",
   "metadata": {},
   "source": [
    "#### 19. Following Question 18, when fixing $C = 0.1$, plot $E_{out}$ versus $log_{10} \\gamma \\in \\{0, 1, 2, 3, 4\\}$. Describe your findings."
   ]
  },
  {
   "cell_type": "markdown",
   "metadata": {},
   "source": [
    "##### Experiment"
   ]
  },
  {
   "cell_type": "code",
   "execution_count": 11,
   "metadata": {},
   "outputs": [
    {
     "name": "stdout",
     "output_type": "stream",
     "text": [
      "Building model for gamma 1\n",
      "Building model for gamma 10\n",
      "Building model for gamma 100\n",
      "Building model for gamma 1000\n",
      "Building model for gamma 10000\n",
      "--- END ---\n"
     ]
    }
   ],
   "source": [
    "gamma_list = [10 ** k for k in range(0,5,1)]\n",
    "\n",
    "err_out_list = []\n",
    "for gamma in gamma_list:\n",
    "    print('Building model for gamma %d' %gamma)\n",
    "    clf = svm.SVC(kernel = 'rbf', C = 0.1, gamma = gamma)\n",
    "    clf.fit(X_train, Y_train)\n",
    "    Y_pred = clf.predict(X_test)\n",
    "    err = np.sum(Y_test != Y_pred)\n",
    "    err_out_list.append(err)\n",
    "\n",
    "print('--- END ---')"
   ]
  },
  {
   "cell_type": "markdown",
   "metadata": {},
   "source": [
    "##### Plot $E_{out}$ with respect to C"
   ]
  },
  {
   "cell_type": "code",
   "execution_count": 12,
   "metadata": {},
   "outputs": [
    {
     "name": "stdout",
     "output_type": "stream",
     "text": [
      "Testing error\n",
      "[215, 199, 211, 359, 359]\n"
     ]
    },
    {
     "data": {
      "image/png": "[encoded data removed]",
      "text/plain": [
       "<matplotlib.figure.Figure at 0x10c4d6a20>"
      ]
     },
     "metadata": {},
     "output_type": "display_data"
    }
   ],
   "source": [
    "plt.plot(np.log10(gamma_list), err_out_list)\n",
    "plt.title('Testing Error for Gamma')\n",
    "plt.xlabel('log10(Gamma)')\n",
    "plt.ylabel('Testing error')\n",
    "\n",
    "print('Testing error'); print(err_out_list)"
   ]
  },
  {
   "cell_type": "markdown",
   "metadata": {},
   "source": [
    "#### 20. Following Question 18 and consider a validation procedure that randomly samples $1000$ examples from the training set for validation and leaves the other examples for training $g^{-}_{svm}$. Fix $C = 0.1$ and use the validation procedure to choose the best $log_{10} \\gamma \\in \\{0, 1, 2, 3, 4\\}$ according to $E_{val}$. If there is a tie of Eval, choose the smallest $\\gamma$. Repeat the procedure $100$ times. Plot a histogram for the number of times each $log_{10} \\gamma$ is selected."
   ]
  },
  {
   "cell_type": "markdown",
   "metadata": {},
   "source": [
    "##### Split data into training and validation"
   ]
  },
  {
   "cell_type": "code",
   "execution_count": 13,
   "metadata": {
    "collapsed": true
   },
   "outputs": [],
   "source": [
    "def split_data(data, sample):\n",
    "    \n",
    "    frac = sample / len(data)\n",
    "    D_val = data.sample(frac=frac, replace=False)\n",
    "    D_train = data[~data.isin(D_val)].dropna()\n",
    "    \n",
    "    return D_train, D_val"
   ]
  },
  {
   "cell_type": "markdown",
   "metadata": {},
   "source": [
    "##### Experiment"
   ]
  },
  {
   "cell_type": "code",
   "execution_count": 14,
   "metadata": {},
   "outputs": [
    {
     "name": "stdout",
     "output_type": "stream",
     "text": [
      "=== Running experiment 0 ===\n",
      "Building model for gamma 1\n",
      "Building model for gamma 10\n",
      "Building model for gamma 100\n",
      "Building model for gamma 1000\n",
      "Building model for gamma 10000\n",
      "=== Running experiment 20 ===\n",
      "Building model for gamma 1\n",
      "Building model for gamma 10\n",
      "Building model for gamma 100\n",
      "Building model for gamma 1000\n",
      "Building model for gamma 10000\n",
      "=== Running experiment 40 ===\n",
      "Building model for gamma 1\n",
      "Building model for gamma 10\n",
      "Building model for gamma 100\n",
      "Building model for gamma 1000\n",
      "Building model for gamma 10000\n",
      "=== Running experiment 60 ===\n",
      "Building model for gamma 1\n",
      "Building model for gamma 10\n",
      "Building model for gamma 100\n",
      "Building model for gamma 1000\n",
      "Building model for gamma 10000\n",
      "=== Running experiment 80 ===\n",
      "Building model for gamma 1\n",
      "Building model for gamma 10\n",
      "Building model for gamma 100\n",
      "Building model for gamma 1000\n",
      "Building model for gamma 10000\n",
      "----- END -----\n"
     ]
    }
   ],
   "source": [
    "positive = 0; sample = 1000; experiment = 100\n",
    "gamma_list = [10 ** k for k in range(0,5,1)]\n",
    "\n",
    "best_gamma_list = []\n",
    "for i in range(experiment):\n",
    "    \n",
    "    if i % 20 == 0:\n",
    "        print('=== Running experiment %d ===' %i)\n",
    "    \n",
    "    D_train, D_val = split_data(data_train, sample)\n",
    "    X_train, Y_train = generate_data(D_train, positive)\n",
    "    X_val, Y_val = generate_data(D_val, positive)\n",
    "    \n",
    "    err_val_list = []\n",
    "    for gamma in gamma_list:\n",
    "        if i % 20 == 0:\n",
    "            print('Building model for gamma %d' %gamma)\n",
    "        clf = svm.SVC(kernel = 'rbf', C = 0.1, gamma = gamma)\n",
    "        clf.fit(X_train, Y_train)\n",
    "        Y_pred = clf.predict(X_val)\n",
    "        err = np.sum(Y_val != Y_pred)\n",
    "        err_val_list.append(err)\n",
    "        \n",
    "    best_gamma = gamma_list[np.argmin(err_val_list)]\n",
    "    best_gamma_list.append(best_gamma)\n",
    "    \n",
    "print('----- END -----')"
   ]
  },
  {
   "cell_type": "markdown",
   "metadata": {},
   "source": [
    "##### Plot the frequency of $log_{10} \\gamma$"
   ]
  },
  {
   "cell_type": "code",
   "execution_count": 16,
   "metadata": {},
   "outputs": [
    {
     "name": "stdout",
     "output_type": "stream",
     "text": [
      "Best gamma from minimum validation error:\n",
      "[100, 10, 10, 10, 10, 100, 10, 100, 10, 10, 100, 100, 100, 10, 10, 10, 10, 10, 10, 100, 10, 100, 10, 10, 10, 10, 1, 10, 10, 10, 10, 10, 100, 100, 10, 10, 10, 10, 100, 10, 10, 100, 10, 10, 10, 10, 10, 10, 10, 10, 10, 100, 10, 100, 10, 10, 10, 10, 10, 10, 10, 100, 10, 10, 10, 10, 1, 1, 10, 100, 10, 100, 10, 100, 10, 10, 10, 10, 10, 10, 10, 10, 1, 10, 10, 10, 100, 10, 10, 10, 10, 10, 10, 100, 10, 100, 100, 10, 10, 10]\n"
     ]
    },
    {
     "data": {
      "image/png": "[encoded data removed]",
      "text/plain": [
       "<matplotlib.figure.Figure at 0x10e09fd68>"
      ]
     },
     "metadata": {},
     "output_type": "display_data"
    }
   ],
   "source": [
    "plt.hist(np.log10(best_gamma_list), bins = 20)\n",
    "plt.title('Frequency of Gamma')\n",
    "plt.xlabel('Gamma')\n",
    "plt.ylabel('Frequency')\n",
    "\n",
    "print('Best gamma from minimum validation error:'); print(best_gamma_list)"
   ]
  },
  {
   "cell_type": "code",
   "execution_count": null,
   "metadata": {
    "collapsed": true
   },
   "outputs": [],
   "source": []
  }
 ],
 "metadata": {
  "kernelspec": {
   "display_name": "Python 3",
   "language": "python",
   "name": "python3"
  },
  "language_info": {
   "codemirror_mode": {
    "name": "ipython",
    "version": 3
   },
   "file_extension": ".py",
   "mimetype": "text/x-python",
   "name": "python",
   "nbconvert_exporter": "python",
   "pygments_lexer": "ipython3",
   "version": "3.6.2"
  }
 },
 "nbformat": 4,
 "nbformat_minor": 2
}
