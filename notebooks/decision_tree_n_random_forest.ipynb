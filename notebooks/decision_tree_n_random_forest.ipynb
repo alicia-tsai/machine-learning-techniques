{
 "cells": [
  {
   "cell_type": "markdown",
   "metadata": {},
   "source": [
    "## Machine Learning Foundation & Techniques: Assignment 7"
   ]
  },
  {
   "cell_type": "markdown",
   "metadata": {},
   "source": [
    "### Unpruned Decision Tree\n",
    "---\n",
    "Implement the simple C&RT algorithm without pruning using the Gini index as the impurity measure as introduced in the class. For the decision stump used in branching, if you are branching with feature $i$ and direction $s$, please sort all the $x_{n,i}$ values to form (at most) $N + 1$ segments of equivalent $\\theta$, and then pick $\\theta$ within the median of the segment.\n",
    "\n",
    "Run the algorithm on the following set for training:\n",
    "          http://www.csie.ntu.edu.tw/~htlin/course/ml15fall/hw7/hw7_train.dat\n",
    "\n",
    "and the following set for testing:\n",
    "          http://www.csie.ntu.edu.tw/~htlin/course/ml15fall/hw7/hw7_test.dat\n"
   ]
  },
  {
   "cell_type": "code",
   "execution_count": 1,
   "metadata": {
    "collapsed": true
   },
   "outputs": [],
   "source": [
    "import pandas as pd\n",
    "import numpy as np\n",
    "import time\n",
    "import matplotlib.pyplot as plt\n",
    "%matplotlib inline\n",
    "\n",
    "def generate_data(file):\n",
    "    \"\"\"Return data point X and lable Y.\"\"\"\n",
    "    data = pd.read_csv(file, sep=' ', header=None)\n",
    "    X = data.loc[:, 0:1]\n",
    "    Y = np.array(data.loc[:, 2:]).flatten()\n",
    "    \n",
    "    return X, Y"
   ]
  },
  {
   "cell_type": "markdown",
   "metadata": {},
   "source": [
    "##### Build decision tree model"
   ]
  },
  {
   "cell_type": "code",
   "execution_count": 2,
   "metadata": {
    "scrolled": true
   },
   "outputs": [],
   "source": [
    "class DecisionTree:\n",
    "    \"\"\" Unprunded decision tree by simple C&RT algorithm using Gini index as impurity measure.\n",
    "        Pruned version can be made by setting maximum height parameter.\n",
    "    \"\"\"\n",
    "    \n",
    "    # --------------------- Internal Node Class --------------------- #\n",
    "    class Node:\n",
    "        \"\"\"Internal node class to store information in each node.\"\"\"\n",
    "        \n",
    "        def __init__(self, height, position, branch=None, value=None):\n",
    "            self.height = height\n",
    "            self.position = position\n",
    "            self.branch = branch\n",
    "            self.value = value\n",
    "    \n",
    "    \n",
    "    # --------------------- Binary Decision Tree Constructor --------------------- #\n",
    "    def __init__(self, print_flag=False):\n",
    "        \"\"\"Create an empty binary tree.\"\"\"\n",
    "        \n",
    "        self.dim = None                # dimension of the data\n",
    "        self.size = 0                  # total size of the tree\n",
    "        self.node_dict = {}            # internal node dictionary\n",
    "        self.print_flag = print_flag\n",
    "   \n",
    "    \n",
    "    def construct_tree(self, data, col_y, height=0, position=0, max_height=50):      \n",
    "        \"\"\"Construct decision tree by recursively branching each node.\"\"\"\n",
    "        \n",
    "        self.dim = data.shape[1]\n",
    "        y = col_y  # y column name\n",
    "        \n",
    "        # return empty tree if no data\n",
    "        if (data.shape[0] == 0): return;\n",
    "        \n",
    "        # printing training information if set to True\n",
    "        if self.print_flag:\n",
    "            if position == 0: print('Start training decision tree.')\n",
    "        \n",
    "        # terminate when no branch can be made (all y are the same)\n",
    "        if len(pd.unique(data.y)) == 1:\n",
    "            value = pd.unique(data.y)[0]\n",
    "            self.node_dict[position] = self.Node(height, position, value=value)\n",
    "            self.size += 1\n",
    "        # terminate when height reaches the maximum limit\n",
    "        elif height >= max_height:\n",
    "            value = 2 * (np.sum(data.y.values) >= 0) - 1\n",
    "            self.node_dict[position] = self.Node(height, position, value=value)\n",
    "        # recursvively branching each node\n",
    "        else:\n",
    "            b = self.branching(data)\n",
    "            self.node_dict[position] = self.Node(height, position, b)\n",
    "            best_dim, best_theta = b\n",
    "            self.size += 1\n",
    "            \n",
    "            # Construct left sub-tree\n",
    "            LeftTree = data[data[best_dim] < best_theta]\n",
    "            self.construct_tree(LeftTree, y, height + 1, 2 * position + 1, max_height)\n",
    "            \n",
    "            if self.print_flag:\n",
    "                print('  ... constructing height %d left substree at position %d' %(height+1, 2*position+1))\n",
    "            \n",
    "            # Construct right sub-tree\n",
    "            RightTree = data[data[best_dim] >= best_theta]\n",
    "            self.construct_tree(RightTree, y, height + 1, 2 * position + 2, max_height)\n",
    "            \n",
    "            if self.print_flag:\n",
    "                print('  ... constructing height %d right substree at position %d' %(height+1, 2*position+2))\n",
    "            \n",
    "\n",
    "    def branching(self, data):\n",
    "        \"\"\" Use decision stump to find the best branching criteria\n",
    "            Return the best threshold of i-th feature column.\n",
    "        \"\"\"\n",
    "        \n",
    "        N = data.shape[0]\n",
    "\n",
    "        # Learn branching criteria b(X)\n",
    "        min_impurity = 1\n",
    "        for i in range(self.dim - 1):\n",
    "            x = np.array(data.sort_values(i)[i])\n",
    "            y = np.array(data.sort_values(i).y)\n",
    "            thresholds = [(x[k] + x[k + 1]) / 2 for k in range(len(x) - 1)] + [np.max(x) + 1]\n",
    "            for j in range(len(thresholds)):\n",
    "                theta = thresholds[j]\n",
    "                y1 = y[:j + 1]\n",
    "                y2 = y[j + 1:]\n",
    "                weighted_impurity = (len(y1) / N) * self.gini_index(y1) + (len(y2) / N) * self.gini_index(y2)\n",
    "\n",
    "                if weighted_impurity <= min_impurity:\n",
    "                    best_dim, best_theta, min_impurity = i, theta, weighted_impurity\n",
    "\n",
    "        return best_dim, best_theta\n",
    "            \n",
    "    \n",
    "    def gini_index(self, y):\n",
    "        \"\"\"Gini index for impurity measure\"\"\"\n",
    "        \n",
    "        if (len(y) == 0): return 0\n",
    "        gini = 1.0\n",
    "        for k in [1.0, -1.0]:\n",
    "            gini -= np.square(np.sum(y == k) / len(y))\n",
    "\n",
    "        return gini\n",
    "\n",
    "    \n",
    "    def predict(self, x, position = 0):\n",
    "        \"\"\"Predict the value of one data point x, recrusively traverse each node.\"\"\"\n",
    "        \n",
    "        node = self.node_dict[position]\n",
    "        \n",
    "        if node.branch:\n",
    "            branch_dim, branch_theta = node.branch\n",
    "            if x[branch_dim] >= branch_theta:\n",
    "                return self.predict(x, position = (2 * position + 2))\n",
    "            else:\n",
    "                return self.predict(x, position = (2 * position + 1))\n",
    "        else:\n",
    "            return node.value\n",
    "        "
   ]
  },
  {
   "cell_type": "markdown",
   "metadata": {},
   "source": [
    "##### Training model"
   ]
  },
  {
   "cell_type": "code",
   "execution_count": 3,
   "metadata": {},
   "outputs": [],
   "source": [
    "train_file = 'data/hw7_train.dat.txt'; test_file = 'data/hw7_test.dat.txt'\n",
    "data_train = pd.read_csv(train_file, sep = ' ', header = None, names=[0, 1, 'y'])\n",
    "data_test = pd.read_csv(test_file, sep = ' ', header = None, names=[0, 1, 'y'])\n",
    "X_train, Y_train = generate_data(train_file); X_test, Y_test = generate_data(test_file)"
   ]
  },
  {
   "cell_type": "code",
   "execution_count": 4,
   "metadata": {
    "scrolled": true
   },
   "outputs": [
    {
     "name": "stdout",
     "output_type": "stream",
     "text": [
      "Start training decision tree.\n",
      "  ... constructing height 3 left substree at position 7\n",
      "  ... constructing height 3 right substree at position 8\n",
      "  ... constructing height 2 left substree at position 3\n",
      "  ... constructing height 5 left substree at position 39\n",
      "  ... constructing height 5 right substree at position 40\n",
      "  ... constructing height 4 left substree at position 19\n",
      "  ... constructing height 5 left substree at position 41\n",
      "  ... constructing height 5 right substree at position 42\n",
      "  ... constructing height 4 right substree at position 20\n",
      "  ... constructing height 3 left substree at position 9\n",
      "  ... constructing height 5 left substree at position 43\n",
      "  ... constructing height 5 right substree at position 44\n",
      "  ... constructing height 4 left substree at position 21\n",
      "  ... constructing height 4 right substree at position 22\n",
      "  ... constructing height 3 right substree at position 10\n",
      "  ... constructing height 2 right substree at position 4\n",
      "  ... constructing height 1 left substree at position 1\n",
      "  ... constructing height 2 left substree at position 5\n",
      "  ... constructing height 2 right substree at position 6\n",
      "  ... constructing height 1 right substree at position 2\n",
      "\n",
      "Using 0.099 seconds\n"
     ]
    }
   ],
   "source": [
    "col_y = 'y'\n",
    "\n",
    "time_start = time.clock()\n",
    "Tree = DecisionTree(print_flag = True)\n",
    "Tree.construct_tree(data_train, col_y)\n",
    "\n",
    "print(\"Using %.3f seconds\" % (time.clock() - time_start))"
   ]
  },
  {
   "cell_type": "markdown",
   "metadata": {},
   "source": [
    "#### 13. Draw the resulting tree"
   ]
  },
  {
   "cell_type": "code",
   "execution_count": 5,
   "metadata": {},
   "outputs": [
    {
     "name": "stdout",
     "output_type": "stream",
     "text": [
      "=============== Result for one fully grown decision tree ===============\n",
      " height: 0; position: 0; branch: (1, 0.62623300000000004); value: None\n",
      " height: 1; position: 1; branch: (0, 0.22443950000000001); value: None\n",
      " height: 1; position: 2; branch: (0, 0.8781715000000001); value: None\n",
      " height: 2; position: 3; branch: (1, 0.11515275); value: None\n",
      " height: 2; position: 4; branch: (0, 0.54150799999999999); value: None\n",
      " height: 2; position: 5; branch: None; value: -1\n",
      " height: 2; position: 6; branch: None; value: 1\n",
      " height: 3; position: 7; branch: None; value: 1\n",
      " height: 3; position: 8; branch: None; value: -1\n",
      " height: 3; position: 9; branch: (1, 0.35862050000000001); value: None\n",
      " height: 3; position: 10; branch: (1, 0.28592499999999998); value: None\n",
      " height: 4; position: 19; branch: (0, 0.50162499999999999); value: None\n",
      " height: 4; position: 20; branch: (0, 0.26075149999999997); value: None\n",
      " height: 4; position: 21; branch: (1, 0.26603849999999996); value: None\n",
      " height: 4; position: 22; branch: None; value: 1\n",
      " height: 5; position: 39; branch: None; value: 1\n",
      " height: 5; position: 40; branch: None; value: -1\n",
      " height: 5; position: 41; branch: None; value: 1\n",
      " height: 5; position: 42; branch: None; value: -1\n",
      " height: 5; position: 43; branch: None; value: 1\n",
      " height: 5; position: 44; branch: None; value: -1\n"
     ]
    }
   ],
   "source": [
    "print('=============== Result for one fully grown decision tree ===============')\n",
    "for key in sorted(Tree.node_dict.keys()):\n",
    "    node = Tree.node_dict[key]\n",
    "    print(' height: %d; position: %d; branch: %s; value: %s' %(node.height, node.position, node.branch, node.value))"
   ]
  },
  {
   "cell_type": "markdown",
   "metadata": {},
   "source": [
    "#### 14. Continuing from Question 13, what is the $E_{in}$ of the tree?\n",
    "#### 15. Continuing from Question 13, what is the $E_{out}$ of the tree?"
   ]
  },
  {
   "cell_type": "code",
   "execution_count": 6,
   "metadata": {},
   "outputs": [
    {
     "name": "stdout",
     "output_type": "stream",
     "text": [
      "--- Decision tree model accuracy ---\n",
      "Accuracy on the training set: 100.00 %\n",
      "Accuracy on the testing set: 87.40 %\n"
     ]
    }
   ],
   "source": [
    "print('--- Decision tree model accuracy ---')\n",
    "Y_train_pred = [Tree.predict(x) for x in np.array(X_train)]\n",
    "train_acc = np.sum(Y_train_pred == Y_train) / len(Y_train) * 100\n",
    "print('Accuracy on the training set: %.2f %%' %train_acc)\n",
    "\n",
    "Y_test_pred = [Tree.predict(x) for x in np.array(X_test)]\n",
    "test_acc = np.sum(Y_test_pred == Y_test) / len(Y_test) * 100\n",
    "print('Accuracy on the testing set: %.2f %%' %test_acc)"
   ]
  },
  {
   "cell_type": "markdown",
   "metadata": {},
   "source": [
    "### Random Forest\n",
    "---\n",
    "Now implement the Bagging algorithm with $N' = N$ and couple it with your decision tree above to make a preliminary random forest $G_{RF}$ . Produce $T = 30000$ trees with bagging. Compute $E_{in}$ and $E_{out}$ using the 0/1 error."
   ]
  },
  {
   "cell_type": "markdown",
   "metadata": {},
   "source": [
    "##### Build random forest model"
   ]
  },
  {
   "cell_type": "code",
   "execution_count": 7,
   "metadata": {
    "collapsed": true
   },
   "outputs": [],
   "source": [
    "class RandomForest:\n",
    "    \"\"\"Random forest using C&RT decision tree.\"\"\"\n",
    "    \n",
    "    def __init__(self):\n",
    "        self.tree_dict = {}     # internal tree dictionary \n",
    "    \n",
    "    \n",
    "    def construct_forest(self, data, col_y, size, max_height = 50):\n",
    "        \"\"\"Construct random forest by bagging from the original dataset.\"\"\"\n",
    "        \n",
    "        self.N = data.shape[0]\n",
    "        self.max_height = max_height\n",
    "        \n",
    "        print('Start training random forest')\n",
    "        for i in range(size):\n",
    "            resample_data = self.bagging(data, self.N)\n",
    "            Tree = DecisionTree()\n",
    "            Tree.construct_tree(resample_data, col_y, max_height = self.max_height)\n",
    "            self.tree_dict[i] = Tree  \n",
    "            \n",
    "            if i % 1000 == 999:\n",
    "                print('  ... training %d-th decision tree' %(i + 1))\n",
    "                \n",
    "        print('----------      END      -----------')\n",
    "    \n",
    "    \n",
    "    def bagging(self, data, N):\n",
    "        \"\"\"Resample from the original dataset.\"\"\"\n",
    "        return data.sample(N, replace = True)\n",
    "    \n",
    "    \n",
    "    def predict(self, x, tree_size=None):\n",
    "        \"\"\" Predict the value of one data point x by uniform voting from all decision trees.\n",
    "            Predict value using the first t trees can be done by setting tree size parameter.\n",
    "        \"\"\"\n",
    "\n",
    "        if tree_size:\n",
    "            vote = [self.tree_dict[i].predict(x) for i in range(tree_size)]\n",
    "        else:\n",
    "            vote = [Tree.predict(x) for Tree in self.tree_dict.values()]\n",
    "        return 1 if np.sum(vote) >= 0 else -1"
   ]
  },
  {
   "cell_type": "markdown",
   "metadata": {},
   "source": [
    "##### Training model"
   ]
  },
  {
   "cell_type": "code",
   "execution_count": 9,
   "metadata": {},
   "outputs": [
    {
     "name": "stdout",
     "output_type": "stream",
     "text": [
      "Start training random forest\n",
      "  ... training 1000-th decision tree\n",
      "  ... training 2000-th decision tree\n",
      "  ... training 3000-th decision tree\n",
      "  ... training 4000-th decision tree\n",
      "  ... training 5000-th decision tree\n",
      "  ... training 6000-th decision tree\n",
      "  ... training 7000-th decision tree\n",
      "  ... training 8000-th decision tree\n",
      "  ... training 9000-th decision tree\n",
      "  ... training 10000-th decision tree\n",
      "  ... training 11000-th decision tree\n",
      "  ... training 12000-th decision tree\n",
      "  ... training 13000-th decision tree\n",
      "  ... training 14000-th decision tree\n",
      "  ... training 15000-th decision tree\n",
      "  ... training 16000-th decision tree\n",
      "  ... training 17000-th decision tree\n",
      "  ... training 18000-th decision tree\n",
      "  ... training 19000-th decision tree\n",
      "  ... training 20000-th decision tree\n",
      "  ... training 21000-th decision tree\n",
      "  ... training 22000-th decision tree\n",
      "  ... training 23000-th decision tree\n",
      "  ... training 24000-th decision tree\n",
      "  ... training 25000-th decision tree\n",
      "  ... training 26000-th decision tree\n",
      "  ... training 27000-th decision tree\n",
      "  ... training 28000-th decision tree\n",
      "  ... training 29000-th decision tree\n",
      "  ... training 30000-th decision tree\n",
      "----------      END      -----------\n",
      "\n",
      "Using 1953.867 seconds\n"
     ]
    }
   ],
   "source": [
    "col_y = 'y'\n",
    "T = 30000\n",
    "\n",
    "time_start = time.clock()\n",
    "RF = RandomForest()\n",
    "RF.construct_forest(data_train, col_y, size = T)\n",
    "\n",
    "print(\"\\nUsing %.3f seconds\" % (time.clock() - time_start))"
   ]
  },
  {
   "cell_type": "code",
   "execution_count": 10,
   "metadata": {},
   "outputs": [
    {
     "name": "stdout",
     "output_type": "stream",
     "text": [
      "--- Random forest model accuarcy ---\n",
      "Start predicting model...\n",
      "\n",
      "Accuracy on the training set: 100.00 %\n",
      "Using 13.625 seconds to predict\n",
      "\n",
      "Accuracy on the testing set: 92.50 %\n",
      "Using 139.201 seconds to predict\n",
      "\n"
     ]
    }
   ],
   "source": [
    "print('--- Random forest model accuarcy ---')\n",
    "print('Start predicting model...\\n')\n",
    "time_start = time.clock()\n",
    "\n",
    "Y_train_pred = [RF.predict(x) for x in np.array(X_train)]\n",
    "train_acc = np.sum(Y_train_pred == Y_train) / len(Y_train) * 100\n",
    "print('Accuracy on the training set: %.2f %%' %train_acc)\n",
    "print(\"Using %.3f seconds to predict\\n\" % (time.clock() - time_start))\n",
    "\n",
    "time_start = time.clock()\n",
    "Y_test_pred = [RF.predict(x) for x in np.array(X_test)]\n",
    "test_acc = np.sum(Y_test_pred == Y_test) / len(Y_test) * 100\n",
    "print('Accuracy on the testing set: %.2f %%' %test_acc)\n",
    "print(\"Using %.3f seconds to predict\\n\" % (time.clock() - time_start))"
   ]
  },
  {
   "cell_type": "markdown",
   "metadata": {},
   "source": [
    "#### 16. Plot a histogram of $E_{in}(g_t)$ over the 30000 trees."
   ]
  },
  {
   "cell_type": "code",
   "execution_count": 11,
   "metadata": {},
   "outputs": [
    {
     "name": "stdout",
     "output_type": "stream",
     "text": [
      "Computing training error for each tree\n",
      "  ... computing error for 5000-th tree\n",
      "  ... computing error for 10000-th tree\n",
      "  ... computing error for 15000-th tree\n",
      "  ... computing error for 20000-th tree\n",
      "  ... computing error for 25000-th tree\n",
      "  ... computing error for 30000-th tree\n",
      "\n",
      "Using 11.851 seconds\n"
     ]
    },
    {
     "data": {
      "text/plain": [
       "<matplotlib.text.Text at 0x111b95cf8>"
      ]
     },
     "execution_count": 11,
     "metadata": {},
     "output_type": "execute_result"
    },
    {
     "data": {
      "image/png": "[encoded data removed]",
      "text/plain": [
       "<matplotlib.figure.Figure at 0x1074c1320>"
      ]
     },
     "metadata": {},
     "output_type": "display_data"
    }
   ],
   "source": [
    "print('Computing training error for each tree')\n",
    "time_start = time.clock()\n",
    "\n",
    "err_in_g = []\n",
    "for i in RF.tree_dict.keys():\n",
    "    if i % 5000 == 4999: print('  ... computing error for %d-th tree' %(i + 1))\n",
    "    \n",
    "    Tree = RF.tree_dict[i]\n",
    "    Y_train_pred = [Tree.predict(x) for x in np.array(X_train)]\n",
    "    train_err = np.sum(Y_train_pred != Y_train) / len(Y_train)\n",
    "    err_in_g.append(train_err)\n",
    "\n",
    "print(\"\\nUsing %.3f seconds\" % (time.clock() - time_start))\n",
    "\n",
    "plt.hist(err_in_g)\n",
    "plt.xlabel('training error')\n",
    "plt.ylabel('frequency')\n",
    "plt.title('Frequency of Training Error for Each Decision Tree in the Random Forest')"
   ]
  },
  {
   "cell_type": "markdown",
   "metadata": {},
   "source": [
    "#### 17. Let $G_t$ = “the random forest with the first t trees”. Plot a curve of $t$ versus $E_{in}(G_t)$."
   ]
  },
  {
   "cell_type": "code",
   "execution_count": 120,
   "metadata": {
    "collapsed": true
   },
   "outputs": [],
   "source": [
    "def compute_forest_error(RF, T, X, Y):\n",
    "    \n",
    "    print('Start Computing error for each forest ...')\n",
    "    time_start = time.clock()\n",
    "\n",
    "    # record prediction from all trees\n",
    "    pred_tree_all = []\n",
    "\n",
    "    for i in range(T):  \n",
    "        if i % 5000 == 4999: print('  ... computing prediction from %d-th tree' %(i + 1))\n",
    "\n",
    "        Tree = RF.tree_dict[i]\n",
    "        pred_tree = [Tree.predict(x) for x in np.array(X)]      # prediction for all y from one tree\n",
    "        pred_tree_all.append(pred_tree)\n",
    "\n",
    "    votes = np.cumsum(pred_tree_all, axis=0)\n",
    "\n",
    "    err_list = []\n",
    "    for t in range(T):\n",
    "        vote = votes[t]\n",
    "        vote[vote >= 0] = 1; vote[vote < 0] = -1\n",
    "\n",
    "        err = np.sum(vote != Y) / len(Y)\n",
    "        err_list.append(err)\n",
    "\n",
    "    print(\"\\nUsing %.3f seconds\" % (time.clock() - time_start))\n",
    "    \n",
    "    return err_list"
   ]
  },
  {
   "cell_type": "code",
   "execution_count": 112,
   "metadata": {},
   "outputs": [
    {
     "name": "stdout",
     "output_type": "stream",
     "text": [
      "Start Computing error for each forest\n",
      "\n",
      "Using 0.254 seconds\n"
     ]
    },
    {
     "data": {
      "text/plain": [
       "<matplotlib.text.Text at 0x130ba3208>"
      ]
     },
     "execution_count": 112,
     "metadata": {},
     "output_type": "execute_result"
    },
    {
     "data": {
      "image/png": "[encoded data removed]",
      "text/plain": [
       "<matplotlib.figure.Figure at 0x1207a94a8>"
      ]
     },
     "metadata": {},
     "output_type": "display_data"
    }
   ],
   "source": [
    "T = 1000\n",
    "err_in_G = compute_forest_error(RF, T, X_train, Y_train)\n",
    "\n",
    "plt.plot(err_in_G)\n",
    "plt.xlabel('random forest with the firest t trees')\n",
    "plt.ylabel('training error')\n",
    "plt.title('Training Error for Each Random Forest With the First t Trees')"
   ]
  },
  {
   "cell_type": "markdown",
   "metadata": {},
   "source": [
    "#### 18. Continuing from Question 17, and plot a curve of $t$ versus $E_{out}(G_t)$. Briefly compare with the curve in Question 17 and state your findings."
   ]
  },
  {
   "cell_type": "code",
   "execution_count": 118,
   "metadata": {},
   "outputs": [
    {
     "name": "stdout",
     "output_type": "stream",
     "text": [
      "Start Computing error for each forest ...\n",
      "  ... computing prediction from 5000-th tree\n",
      "  ... computing prediction from 10000-th tree\n",
      "\n",
      "Using 38.950 seconds\n"
     ]
    },
    {
     "data": {
      "text/plain": [
       "<matplotlib.text.Text at 0x135b767b8>"
      ]
     },
     "execution_count": 118,
     "metadata": {},
     "output_type": "execute_result"
    },
    {
     "data": {
      "image/png": "[encoded data removed]",
      "text/plain": [
       "<matplotlib.figure.Figure at 0x130bcfb70>"
      ]
     },
     "metadata": {},
     "output_type": "display_data"
    }
   ],
   "source": [
    "T = 10000\n",
    "\n",
    "err_out_G = compute_forest_error(RF, T, X_test, Y_test)\n",
    "\n",
    "plt.plot(err_out_G)\n",
    "plt.xlabel('random forest with the firest t trees')\n",
    "plt.ylabel('testing error')\n",
    "plt.title('Testing Error for Each Random Forest With the First t Trees')"
   ]
  },
  {
   "cell_type": "markdown",
   "metadata": {},
   "source": [
    "### Pruned Random Forest\n",
    "---\n",
    "Now, **‘prune’** your decision tree algorithm by restricting it to have one branch only. That is, the tree is simply a decision stump determined by Gini index. Make a random ‘forest’ $G_{RS}$ with those decision stumps with Bagging like Questions 16-18 with $T = 30000$. Compute $E_{in}$ and $E_{out}$ using the 0/1 error."
   ]
  },
  {
   "cell_type": "markdown",
   "metadata": {},
   "source": [
    "##### Training model"
   ]
  },
  {
   "cell_type": "code",
   "execution_count": 13,
   "metadata": {},
   "outputs": [
    {
     "name": "stdout",
     "output_type": "stream",
     "text": [
      "Start training random forest\n",
      "  ... training 1000-th decision tree\n",
      "  ... training 2000-th decision tree\n",
      "  ... training 3000-th decision tree\n",
      "  ... training 4000-th decision tree\n",
      "  ... training 5000-th decision tree\n",
      "  ... training 6000-th decision tree\n",
      "  ... training 7000-th decision tree\n",
      "  ... training 8000-th decision tree\n",
      "  ... training 9000-th decision tree\n",
      "  ... training 10000-th decision tree\n",
      "  ... training 11000-th decision tree\n",
      "  ... training 12000-th decision tree\n",
      "  ... training 13000-th decision tree\n",
      "  ... training 14000-th decision tree\n",
      "  ... training 15000-th decision tree\n",
      "  ... training 16000-th decision tree\n",
      "  ... training 17000-th decision tree\n",
      "  ... training 18000-th decision tree\n",
      "  ... training 19000-th decision tree\n",
      "  ... training 20000-th decision tree\n",
      "  ... training 21000-th decision tree\n",
      "  ... training 22000-th decision tree\n",
      "  ... training 23000-th decision tree\n",
      "  ... training 24000-th decision tree\n",
      "  ... training 25000-th decision tree\n",
      "  ... training 26000-th decision tree\n",
      "  ... training 27000-th decision tree\n",
      "  ... training 28000-th decision tree\n",
      "  ... training 29000-th decision tree\n",
      "  ... training 30000-th decision tree\n",
      "----------      END      -----------\n",
      "\n",
      "Using 458.778 seconds\n"
     ]
    }
   ],
   "source": [
    "col_y = 'y'\n",
    "T = 30000; max_height = 1\n",
    "\n",
    "time_start = time.clock()\n",
    "RF_Prune = RandomForest()\n",
    "RF_Prune.construct_forest(data_train, col_y, size = T, max_height = max_height)\n",
    "\n",
    "print(\"\\nUsing %.3f seconds\" % (time.clock() - time_start))"
   ]
  },
  {
   "cell_type": "code",
   "execution_count": 14,
   "metadata": {},
   "outputs": [
    {
     "name": "stdout",
     "output_type": "stream",
     "text": [
      "--- Pruned Random forest model accuarcy ---\n",
      "Start predicting model...\n",
      "\n",
      "Model accuracy on the training set: 90.00 %\n",
      "Using 4.430 seconds to predict\n",
      "\n",
      "Accuracy on the testing set: 85.30 %\n",
      "Using 44.059 seconds to predict\n",
      "\n"
     ]
    }
   ],
   "source": [
    "print('--- Pruned Random forest model accuarcy ---')\n",
    "print('Start predicting model...\\n')\n",
    "time_start = time.clock()\n",
    "\n",
    "Y_train_pred = [RF_Prune.predict(x) for x in np.array(X_train)]\n",
    "train_acc = np.sum(Y_train_pred == Y_train) / len(Y_train) * 100\n",
    "print('Model accuracy on the training set: %.2f %%' %train_acc)\n",
    "print(\"Using %.3f seconds to predict\\n\" % (time.clock() - time_start))\n",
    "\n",
    "time_start = time.clock()\n",
    "Y_test_pred = [RF_Prune.predict(x) for x in np.array(X_test)]\n",
    "test_acc = np.sum(Y_test_pred == Y_test) / len(Y_test) * 100\n",
    "print('Accuracy on the testing set: %.2f %%' %test_acc)\n",
    "print(\"Using %.3f seconds to predict\\n\" % (time.clock() - time_start))"
   ]
  },
  {
   "cell_type": "markdown",
   "metadata": {},
   "source": [
    "#### 19. Again, let $G_t$ = “the random forest with the first t decision stumps”. Plot a curve of $t$ versus $E_{in}(G_t)$."
   ]
  },
  {
   "cell_type": "code",
   "execution_count": 121,
   "metadata": {},
   "outputs": [
    {
     "name": "stdout",
     "output_type": "stream",
     "text": [
      "Start Computing error for each forest ...\n",
      "  ... computing prediction from 5000-th tree\n",
      "  ... computing prediction from 10000-th tree\n",
      "  ... computing prediction from 15000-th tree\n",
      "  ... computing prediction from 20000-th tree\n",
      "  ... computing prediction from 25000-th tree\n",
      "  ... computing prediction from 30000-th tree\n",
      "\n",
      "Using 7.891 seconds\n"
     ]
    },
    {
     "data": {
      "text/plain": [
       "<matplotlib.text.Text at 0x1246ea390>"
      ]
     },
     "execution_count": 121,
     "metadata": {},
     "output_type": "execute_result"
    },
    {
     "data": {
      "image/png": "[encoded data removed]",
      "text/plain": [
       "<matplotlib.figure.Figure at 0x135a4dc18>"
      ]
     },
     "metadata": {},
     "output_type": "display_data"
    }
   ],
   "source": [
    "T = 30000\n",
    "\n",
    "err_in_G = compute_forest_error(RF_Prune, T, X_train, Y_train)\n",
    "\n",
    "plt.plot(err_in_G)\n",
    "plt.xlabel('random forest with the first t decision stumps')\n",
    "plt.ylabel('training error')\n",
    "plt.title('Training Error for Each Pruned Random Forest With the First t Decision Stumps')"
   ]
  },
  {
   "cell_type": "markdown",
   "metadata": {},
   "source": [
    "#### 20. Continuing from Question 19, and plot a curve of $t$ versus $E_{out}(G_t)$. Briefly compare with the curve in Question 19 and state your findings."
   ]
  },
  {
   "cell_type": "code",
   "execution_count": 122,
   "metadata": {},
   "outputs": [
    {
     "name": "stdout",
     "output_type": "stream",
     "text": [
      "Start Computing error for each forest ...\n",
      "  ... computing prediction from 5000-th tree\n",
      "  ... computing prediction from 10000-th tree\n",
      "  ... computing prediction from 15000-th tree\n",
      "  ... computing prediction from 20000-th tree\n",
      "  ... computing prediction from 25000-th tree\n",
      "  ... computing prediction from 30000-th tree\n",
      "\n",
      "Using 60.998 seconds\n"
     ]
    },
    {
     "data": {
      "text/plain": [
       "<matplotlib.text.Text at 0x11617a8d0>"
      ]
     },
     "execution_count": 122,
     "metadata": {},
     "output_type": "execute_result"
    },
    {
     "data": {
      "image/png": "[encoded data removed]",
      "text/plain": [
       "<matplotlib.figure.Figure at 0x135a4d0f0>"
      ]
     },
     "metadata": {},
     "output_type": "display_data"
    }
   ],
   "source": [
    "T = 30000\n",
    "\n",
    "err_out_G = compute_forest_error(RF_Prune, T, X_test, Y_test)\n",
    "\n",
    "plt.plot(err_out_G)\n",
    "plt.xlabel('random forest with the first t decision stumps')\n",
    "plt.ylabel('testing error')\n",
    "plt.title('Testing Error for Each Pruned Random Forest With the First t Decision Stumps')"
   ]
  },
  {
   "cell_type": "code",
   "execution_count": null,
   "metadata": {
    "collapsed": true
   },
   "outputs": [],
   "source": []
  }
 ],
 "metadata": {
  "celltoolbar": "Raw Cell Format",
  "kernelspec": {
   "display_name": "Python 3",
   "language": "python",
   "name": "python3"
  },
  "language_info": {
   "codemirror_mode": {
    "name": "ipython",
    "version": 3
   },
   "file_extension": ".py",
   "mimetype": "text/x-python",
   "name": "python",
   "nbconvert_exporter": "python",
   "pygments_lexer": "ipython3",
   "version": "3.6.2"
  }
 },
 "nbformat": 4,
 "nbformat_minor": 2
}
