{
 "cells": [
  {
   "cell_type": "markdown",
   "metadata": {},
   "source": [
    "## Machine Learning Foundation & Techniques: Assignment 3"
   ]
  },
  {
   "cell_type": "markdown",
   "metadata": {},
   "source": [
    "### Linear Regression & Feature Transform\n",
    "---"
   ]
  },
  {
   "cell_type": "markdown",
   "metadata": {},
   "source": [
    "##### I. Linear Regression Without Feature Transform"
   ]
  },
  {
   "cell_type": "markdown",
   "metadata": {},
   "source": [
    "Consider the target function:\n",
    "\n",
    "$$\n",
    "f(x_1,x_2) = sign(x^2_1 + x^2_2 - 0.6)\n",
    "$$\n",
    "\n",
    "Generate a training set of $N = 1000$ points on $\\chi = [−1, 1] × [−1, 1]$ with uniform probability of picking each $x \\in \\chi$. Generate simulated noise by flipping the sign of the output in a random $10\\%$ subset of the generated training set."
   ]
  },
  {
   "cell_type": "markdown",
   "metadata": {},
   "source": [
    "##### Generate dataset"
   ]
  },
  {
   "cell_type": "code",
   "execution_count": 1,
   "metadata": {
    "collapsed": true
   },
   "outputs": [],
   "source": [
    "import numpy as np\n",
    "\n",
    "def generate_data(N, size, prob):\n",
    "    \"\"\" Generate X by a uniform distribution in [-1, 1].\n",
    "        Generate Y with a given probaility of noise.\n",
    "    \"\"\"\n",
    "    \n",
    "    X0 = np.ones(size).reshape((1, N))\n",
    "    X1 = np.random.uniform(-1, 1, N)\n",
    "    X2 = np.random.uniform(-1, 1, N)\n",
    "    X = np.vstack((X0, X1, X2)).T\n",
    "    \n",
    "    Y = np.sign(np.square(X1) + np.square(X2) - 0.6).reshape((N, 1))\n",
    "    flip = np.random.random(size)\n",
    "    Y[flip <= prob] *= -1            \n",
    "    \n",
    "    return X, Y"
   ]
  },
  {
   "cell_type": "markdown",
   "metadata": {},
   "source": [
    "##### Build model"
   ]
  },
  {
   "cell_type": "code",
   "execution_count": 2,
   "metadata": {
    "collapsed": true
   },
   "outputs": [],
   "source": [
    "def linear_regression(X, Y):\n",
    "    \"\"\"Construct a linear regression model and return the optimal weight vector W.\"\"\"\n",
    "    \n",
    "    # -- pesudo inverse solution (singular)\n",
    "    W = np.linalg.pinv(X).dot(Y)\n",
    "    \n",
    "    # -- unique solution (need to be invertible)\n",
    "    # W = np.linalg.inv(X.T.dot(X)).dot(X.T.dot(Y))\n",
    "    \n",
    "    return W"
   ]
  },
  {
   "cell_type": "markdown",
   "metadata": {},
   "source": [
    "##### Compute classification error for linear regression"
   ]
  },
  {
   "cell_type": "code",
   "execution_count": 3,
   "metadata": {
    "collapsed": true
   },
   "outputs": [],
   "source": [
    "def lin_regression_err(X, Y, W):\n",
    "    \"\"\"Calculate classification error (0/1 error).\"\"\"\n",
    "    \n",
    "    Y_pred = np.sign(X.dot(W))\n",
    "    zero_one_err = np.sum(Y_pred != Y)\n",
    "    \n",
    "    return zero_one_err"
   ]
  },
  {
   "cell_type": "markdown",
   "metadata": {},
   "source": [
    "#### 13. Carry out Linear Regression without transformation, i.e., with feature vector:\n",
    "\n",
    "\n",
    "$$(1, x_1, x_2)$$\n",
    "\n",
    "#### to find $w_{lin}$, and use $w_{lin}$ directly for classification. Run the experiments for $1000$ times and plot a histogram on the **classification** $(0/1)$ in-sample error $(E_{in})$. What is the average $E_{in}$ over $1000$ experiments?\n"
   ]
  },
  {
   "cell_type": "markdown",
   "metadata": {},
   "source": [
    "##### Experiment"
   ]
  },
  {
   "cell_type": "code",
   "execution_count": 4,
   "metadata": {},
   "outputs": [
    {
     "name": "stdout",
     "output_type": "stream",
     "text": [
      "Average classification in-sample error: 503.996\n",
      "Average classification out-of-sample error: 519.573\n"
     ]
    }
   ],
   "source": [
    "N = 1000; size = 1000; prob = 0.1; experiment = 1000\n",
    "\n",
    "total_err_in = []\n",
    "total_err_out = []\n",
    "for i in range(experiment):\n",
    "    X, Y = generate_data(N, size, prob)\n",
    "    W = linear_regression(X, Y)\n",
    "    err_in = lin_regression_err(X, Y, W)\n",
    "    total_err_in.append(err_in)\n",
    "    \n",
    "    X_test, Y_test = generate_data(N, size, prob)\n",
    "    err_out = lin_regression_err(X_test, Y_test, W)\n",
    "    total_err_out.append(err_out)\n",
    "\n",
    "avg_err_in = np.mean(total_err_in)\n",
    "avg_err_out = np.mean(total_err_out)\n",
    "print('Average classification in-sample error: %.3f' %avg_err_in)\n",
    "print('Average classification out-of-sample error: %.3f' %avg_err_out)"
   ]
  },
  {
   "cell_type": "markdown",
   "metadata": {},
   "source": [
    "##### Plot error"
   ]
  },
  {
   "cell_type": "code",
   "execution_count": 5,
   "metadata": {},
   "outputs": [
    {
     "data": {
      "text/plain": [
       "<matplotlib.text.Text at 0x105e5e978>"
      ]
     },
     "execution_count": 5,
     "metadata": {},
     "output_type": "execute_result"
    },
    {
     "data": {
      "image/png": "[encoded data removed]",
      "text/plain": [
       "<matplotlib.figure.Figure at 0x104ffa6d8>"
      ]
     },
     "metadata": {},
     "output_type": "display_data"
    }
   ],
   "source": [
    "import matplotlib.pyplot as plt\n",
    "%matplotlib inline\n",
    "\n",
    "plt.hist(total_err_in, bins = 200, label = 'In-sample error')\n",
    "plt.hist(total_err_out, bins = 200 , label = 'Out-of-sample error')\n",
    "plt.legend()\n",
    "plt.title('Classification Error Distribution')\n",
    "plt.xlabel('Zero one error')\n",
    "plt.ylabel('Frequency')"
   ]
  },
  {
   "cell_type": "markdown",
   "metadata": {},
   "source": [
    "##### Note\n",
    "\n",
    "Note that the target function for $y$ is a circle with a radius $0.6$. It predicts $+1$ for points outside of the circle and predict $-1$ for points fall inside the circle. So our linear regression is trying to fit a straight line for this circle, which will lead to a less satistifed result as above. "
   ]
  },
  {
   "cell_type": "markdown",
   "metadata": {},
   "source": [
    "##### II. Linear Regression With Feature Transform"
   ]
  },
  {
   "cell_type": "markdown",
   "metadata": {},
   "source": [
    "Now, transform the training data into the following nonlinear feature vector:\n",
    "    \n",
    "$$(1, x_1, x_2, x_{1}x_{2}, x_{1}^2, x_{2}^2)$$\n",
    "\n",
    "Find the vector $\\tilde{w}$ that corresponds to the solution of Linear Regression, and take it for classification."
   ]
  },
  {
   "cell_type": "markdown",
   "metadata": {},
   "source": [
    "##### Transform dataset"
   ]
  },
  {
   "cell_type": "code",
   "execution_count": 6,
   "metadata": {
    "collapsed": true
   },
   "outputs": [],
   "source": [
    "def transform_data(X):\n",
    "    \"\"\" Transform the training data into nonlinear feature vector.\"\"\"\n",
    "    \n",
    "    X0 = X.T[0]\n",
    "    X1 = X.T[1]\n",
    "    X2 = X.T[2]\n",
    "    X3 = X1*X2\n",
    "    X4 = X1**2\n",
    "    X5 = X2**2\n",
    "    X = np.vstack((X0, X1, X2, X3, X4, X5)).T          \n",
    "    \n",
    "    return X"
   ]
  },
  {
   "cell_type": "markdown",
   "metadata": {},
   "source": [
    "#### 14. Run the experiment for $1000$ times, and plot a histogram on $\\tilde{w_3}$, the weight associated with $x_{1}x_{2}$. What is the average $\\tilde{w_3}$?"
   ]
  },
  {
   "cell_type": "markdown",
   "metadata": {},
   "source": [
    "#### 15. Continue from Question 14, and plot a histogram on the classification $E_{out}$ instead. You can estimate it by generating a new set of $1000$ points and adding noise as before. What is the average $E_{out}$ ?"
   ]
  },
  {
   "cell_type": "markdown",
   "metadata": {},
   "source": [
    "##### Experiment"
   ]
  },
  {
   "cell_type": "code",
   "execution_count": 7,
   "metadata": {
    "scrolled": true
   },
   "outputs": [
    {
     "name": "stdout",
     "output_type": "stream",
     "text": [
      "Average W3: -0.000483\n",
      "Average in-sampel error: 124.450\n",
      "Average out-of-sampel error: 126.693\n"
     ]
    }
   ],
   "source": [
    "experiment = 1000\n",
    "\n",
    "W3 = np.empty((N, 1))\n",
    "total_err_in = []\n",
    "total_err_out = []\n",
    "for i in range(experiment):\n",
    "    X, Y= generate_data(N, size, prob)\n",
    "    X_nonlinear = transform_data(X)\n",
    "    W = linear_regression(X_nonlinear, Y)\n",
    "    W3[i] = W[3]\n",
    "    err_in = lin_regression_err(X_nonlinear, Y, W)\n",
    "    total_err_in.append(err_in)\n",
    "    \n",
    "    X_test, Y_test = generate_data(N, size, prob)\n",
    "    X_test_nonlinear = transform_data(X_test)\n",
    "    err_out = lin_regression_err(X_test_nonlinear, Y_test, W)\n",
    "    total_err_out.append(err_out)\n",
    "\n",
    "avg_W3 = np.mean(W3)\n",
    "avg_err_in = np.mean(total_err_in)\n",
    "avg_err_out = np.mean(total_err_out)\n",
    "print('Average W3: %f' %avg_W3)\n",
    "print('Average in-sampel error: %.3f' %avg_err_in)\n",
    "print('Average out-of-sampel error: %.3f' %avg_err_out)"
   ]
  },
  {
   "cell_type": "markdown",
   "metadata": {},
   "source": [
    "##### Plot $W_3$"
   ]
  },
  {
   "cell_type": "code",
   "execution_count": 8,
   "metadata": {},
   "outputs": [
    {
     "data": {
      "text/plain": [
       "<matplotlib.text.Text at 0x10608c400>"
      ]
     },
     "execution_count": 8,
     "metadata": {},
     "output_type": "execute_result"
    },
    {
     "data": {
      "image/png": "[encoded data removed]",
      "text/plain": [
       "<matplotlib.figure.Figure at 0x10605f898>"
      ]
     },
     "metadata": {},
     "output_type": "display_data"
    }
   ],
   "source": [
    "%matplotlib inline\n",
    "\n",
    "plt.hist(W3, bins = 200)\n",
    "plt.title('Weight Associated with X1X2 (W3)')\n",
    "plt.xlabel('W3')\n",
    "plt.ylabel('Frequency')"
   ]
  },
  {
   "cell_type": "markdown",
   "metadata": {},
   "source": [
    "##### Plot error"
   ]
  },
  {
   "cell_type": "code",
   "execution_count": 9,
   "metadata": {},
   "outputs": [
    {
     "data": {
      "text/plain": [
       "<matplotlib.text.Text at 0x106b94c88>"
      ]
     },
     "execution_count": 9,
     "metadata": {},
     "output_type": "execute_result"
    },
    {
     "data": {
      "image/png": "[encoded data removed]",
      "text/plain": [
       "<matplotlib.figure.Figure at 0x1068feeb8>"
      ]
     },
     "metadata": {},
     "output_type": "display_data"
    }
   ],
   "source": [
    "%matplotlib inline\n",
    "\n",
    "plt.hist(total_err_in, bins = 200, label = 'In-sample error')\n",
    "plt.hist(total_err_out, bins = 200, label = 'Out-of-sample error')\n",
    "plt.legend()\n",
    "plt.title('Classification Error Distribution')\n",
    "plt.xlabel('Error')\n",
    "plt.ylabel('Frequency')"
   ]
  },
  {
   "cell_type": "markdown",
   "metadata": {},
   "source": [
    "##### Note\n",
    "\n",
    "After transforming the data, our model can now fit better since our feature transform includes quadratic terms. "
   ]
  },
  {
   "cell_type": "markdown",
   "metadata": {},
   "source": [
    "### Logistic Regression\n",
    "---\n",
    "training set: http://www.csie.ntu.edu.tw/~htlin/course/ml15fall/hw3/hw3_train.dat \n",
    "\n",
    "testing set: http://www.csie.ntu.edu.tw/~htlin/course/ml15fall/hw3/hw3_test.dat"
   ]
  },
  {
   "cell_type": "markdown",
   "metadata": {},
   "source": [
    "#### 18. Implement the fixed learning rate gradient descent algorithm below for logistic regression, initialized with $0$. Run the algorithm with $\\eta = 0.001$ and $T = 2000$. What is the weight vector within your $g$ ? What is the $E_{out}(g)$ from your algorithm, evaluated using the $0/1$ error on the test set?"
   ]
  },
  {
   "cell_type": "markdown",
   "metadata": {},
   "source": [
    "##### Read & generate dataset"
   ]
  },
  {
   "cell_type": "code",
   "execution_count": 10,
   "metadata": {
    "collapsed": true
   },
   "outputs": [],
   "source": [
    "import pandas as pd\n",
    "import numpy as np\n",
    "\n",
    "def read_data(file):\n",
    "    data = pd.read_csv(file, sep = ' ', header = None)\n",
    "    data = data.drop(0, axis = 1)  # drop the first empty column\n",
    "    \n",
    "    return data"
   ]
  },
  {
   "cell_type": "code",
   "execution_count": 11,
   "metadata": {
    "collapsed": true
   },
   "outputs": [],
   "source": [
    "def generate_data(data):\n",
    "    \"\"\"Return data point X and lable Y.\"\"\"\n",
    "    \n",
    "    X = data.loc[:, 0:20]\n",
    "    Y = data.loc[:, 21:21].values\n",
    "    \n",
    "    N = X.shape[0]\n",
    "    X0 = np.ones((N, 1))      # add coefficient term X0\n",
    "    X = np.hstack((X0, X))\n",
    "    \n",
    "    return X, Y"
   ]
  },
  {
   "cell_type": "markdown",
   "metadata": {},
   "source": [
    "##### Build model"
   ]
  },
  {
   "cell_type": "code",
   "execution_count": 12,
   "metadata": {
    "collapsed": true
   },
   "outputs": [],
   "source": [
    "def logistic_regression(X, Y, eta, T):\n",
    "    \"\"\" Logistic regression updated by a fixed learning rate gradient descent. \n",
    "        Return the weight vector after T iteration. \n",
    "    \"\"\"\n",
    "    \n",
    "    d = X.shape[1]\n",
    "    W = np.zeros((d, 1))  # initialize W with 0\n",
    "    \n",
    "    def sigmoid(S):\n",
    "        return 1 / (1 + np.exp(-S))\n",
    "    \n",
    "    def run_gradient(X, Y, W):\n",
    "        \n",
    "        S = Y * X.dot(W)\n",
    "        gradient = np.mean(sigmoid(S) * (-Y * X), axis=0, keepdims=True).T   # column mean\n",
    "        W_next = W - eta * gradient\n",
    "        \n",
    "        return W_next\n",
    "    \n",
    "    \n",
    "    for i in range(T):\n",
    "        W_next = run_gradient(X, Y, W)\n",
    "        W = W_next\n",
    "    \n",
    "    \n",
    "    W_last = W\n",
    "    return W_last\n"
   ]
  },
  {
   "cell_type": "markdown",
   "metadata": {},
   "source": [
    "##### Compute classification error for logistic regression "
   ]
  },
  {
   "cell_type": "code",
   "execution_count": 13,
   "metadata": {
    "collapsed": true
   },
   "outputs": [],
   "source": [
    "def log_regression_err(X, Y, W):\n",
    "    \"\"\"Compute binary classification (0/1) error for logistic regression.\"\"\"\n",
    "    \n",
    "    def sigmoid(S):\n",
    "        return 1 / (1 + np.exp(-S))\n",
    "    \n",
    "    # binary classification with logistic regression\n",
    "    Y_pred = np.sign(sigmoid(X.dot(W)) - 0.5)\n",
    "    err = np.sum(Y != Y_pred)\n",
    "    \n",
    "    return err"
   ]
  },
  {
   "cell_type": "markdown",
   "metadata": {},
   "source": [
    "##### Experiment"
   ]
  },
  {
   "cell_type": "code",
   "execution_count": 14,
   "metadata": {
    "collapsed": true
   },
   "outputs": [],
   "source": [
    "train_file = 'data/hw3_train.dat.txt'; test_file = 'data/hw3_test.dat.txt'\n",
    "data_train = read_data(train_file); data_test = read_data(test_file)\n",
    "X_train, Y_train = generate_data(data_train)\n",
    "X_test, Y_test = generate_data(data_test)"
   ]
  },
  {
   "cell_type": "code",
   "execution_count": 15,
   "metadata": {},
   "outputs": [
    {
     "name": "stdout",
     "output_type": "stream",
     "text": [
      "In-sample error: 467\n",
      "Out-of-sample error: 1431\n",
      "Weight vector: \n",
      "[ 0.37246118  0.16711576  0.21908208  0.14943373  0.19394177  0.14155662\n",
      "  0.19096503  0.22786028  0.15249648  0.20103935  0.25024019  0.19755821\n",
      "  0.15966394  0.17087076  0.22701657  0.23801386  0.24405206  0.12653899\n",
      "  0.24337522  0.15758206  0.14530812]\n"
     ]
    }
   ],
   "source": [
    "eta = 0.001; T = 2000\n",
    "\n",
    "W = logistic_regression(X_train, Y_train, eta, T)\n",
    "err_in = log_regression_err(X_train, Y_train, W)\n",
    "err_out = log_regression_err(X_test, Y_test, W)\n",
    "\n",
    "print('In-sample error: %d' %err_in)\n",
    "print('Out-of-sample error: %d' %err_out)\n",
    "print('Weight vector: '); print(W.T[0])"
   ]
  },
  {
   "cell_type": "markdown",
   "metadata": {},
   "source": [
    "#### 19. Implement the fixed learning rate gradient descent algorithm below for logistic regression, initialized with $0$. Run the algorithm with $\\eta = 0.01$ and $T = 2000$. What is the weight vector within your $g$ ? What is the $E_{out}(g)$ from your algorithm, evaluated using the $0/1$ error on the test set?"
   ]
  },
  {
   "cell_type": "code",
   "execution_count": 16,
   "metadata": {},
   "outputs": [
    {
     "name": "stdout",
     "output_type": "stream",
     "text": [
      "In-sample error: 467\n",
      "Out-of-sample error: 1431\n",
      "Weight vector: \n",
      "[ 9.92438419  4.79847782  5.23835777  4.6814953   5.03357221  4.52784271\n",
      "  4.9850871   5.36221414  4.56255126  5.05383345  5.5850239   5.05241563\n",
      "  4.703435    4.82431038  5.36212248  5.44821305  5.5651355   4.32800859\n",
      "  5.55290147  4.60126356  4.60151858]\n"
     ]
    }
   ],
   "source": [
    "eta = 0.01; T = 2000\n",
    "\n",
    "W = logistic_regression(X_train, Y_train, eta, T)\n",
    "err_in = log_regression_err(X_train, Y_train, W)\n",
    "err_out = log_regression_err(X_test, Y_test, W)\n",
    "\n",
    "print('In-sample error: %d' %err_in)\n",
    "print('Out-of-sample error: %d' %err_out)\n",
    "print('Weight vector: '); print(W.T[0])"
   ]
  },
  {
   "cell_type": "markdown",
   "metadata": {},
   "source": [
    "#### 20. Implement the fixed learning rate stochastic gradient descent algorithm below for logistic regression, initialized with $0$. Instead of randomly choosing $n$ in each iteration, please simply pick the example with the cyclic order $n = 1,2,...,N,1,2,....$ Run the algorithm with $\\eta = 0.001$ and $T = 2000$. What is the weight vector within your $g$ ?  What is the weight vector within your $g$ ? What is the $E_{out}(g)$ from your algorithm, evaluated using the $0/1$ error on the test set?\n"
   ]
  },
  {
   "cell_type": "markdown",
   "metadata": {},
   "source": [
    "##### Build model"
   ]
  },
  {
   "cell_type": "code",
   "execution_count": 17,
   "metadata": {
    "collapsed": true
   },
   "outputs": [],
   "source": [
    "def logistic_regression2(X, Y, eta, T):\n",
    "    \"\"\" Logistic regression updated by a fixed learning rate stochastic gradient descent. \n",
    "        Return the weight vector after T iteration. \n",
    "    \"\"\"\n",
    "    \n",
    "    d = X.shape[1]\n",
    "    W = np.zeros((d, 1))  # initialize W with 0\n",
    "    \n",
    "    def sigmoid(S):\n",
    "        return 1 / (1 + np.exp(-S))\n",
    "    \n",
    "    def run_stochastic_gradient(x, y, W):\n",
    "        \n",
    "        S = y * x.dot(W)\n",
    "        gradient = sigmoid(S) * (-y * x).reshape((d, 1))   # gradient on one data point\n",
    "        W_next = W - eta * gradient\n",
    "        \n",
    "        return W_next\n",
    "    \n",
    "    \n",
    "    # run stochastic gradient with the cyclic order\n",
    "    for i in range(T):\n",
    "        position = i % N\n",
    "        W_next = run_stochastic_gradient(X[position], Y[position], W)\n",
    "        W = W_next\n",
    "    \n",
    "    \n",
    "    W_last = W\n",
    "    return W_last"
   ]
  },
  {
   "cell_type": "markdown",
   "metadata": {},
   "source": [
    "##### Experiment"
   ]
  },
  {
   "cell_type": "code",
   "execution_count": 18,
   "metadata": {},
   "outputs": [
    {
     "name": "stdout",
     "output_type": "stream",
     "text": [
      "In-sample error: 467\n",
      "Out-of-sample error: 1431\n",
      "Weight vector: \n",
      "[ 0.37465952  0.16912133  0.21927856  0.15048497  0.19354827  0.14213561\n",
      "  0.19036966  0.22856818  0.15535976  0.20055502  0.25091092  0.19965349\n",
      "  0.16253048  0.17064803  0.2270838   0.23883578  0.24477057  0.12773997\n",
      "  0.24519341  0.16037238  0.14532798]\n"
     ]
    }
   ],
   "source": [
    "eta = 0.001; T = 2000\n",
    "\n",
    "W = logistic_regression2(X_train, Y_train, eta, T)\n",
    "err_in = log_regression_err(X_train, Y_train, W)\n",
    "err_out = log_regression_err(X_test, Y_test, W)\n",
    "\n",
    "print('In-sample error: %d' %err_in)\n",
    "print('Out-of-sample error: %d' %err_out)\n",
    "print('Weight vector: '); print(W.T[0])"
   ]
  },
  {
   "cell_type": "code",
   "execution_count": null,
   "metadata": {
    "collapsed": true
   },
   "outputs": [],
   "source": []
  }
 ],
 "metadata": {
  "kernelspec": {
   "display_name": "Python 3",
   "language": "python",
   "name": "python3"
  },
  "language_info": {
   "codemirror_mode": {
    "name": "ipython",
    "version": 3
   },
   "file_extension": ".py",
   "mimetype": "text/x-python",
   "name": "python",
   "nbconvert_exporter": "python",
   "pygments_lexer": "ipython3",
   "version": "3.6.2"
  }
 },
 "nbformat": 4,
 "nbformat_minor": 2
}
