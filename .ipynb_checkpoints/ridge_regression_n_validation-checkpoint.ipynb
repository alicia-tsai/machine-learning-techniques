{
 "cells": [
  {
   "cell_type": "markdown",
   "metadata": {},
   "source": [
    "## Machine Learning Foundation & Techniques: Assignment 4"
   ]
  },
  {
   "cell_type": "markdown",
   "metadata": {},
   "source": [
    "### Regularized Linear Regression\n",
    "---\n",
    "\n",
    "Consider regularized linear regression (also called ridge regression) for classification.\n",
    "\n",
    "$$\n",
    "w_{reg} = arg \\min_{w} \\frac{\\lambda}{N} \\|w \\|^{2} + \\frac{1}{N} \\|Xw-y\\|^{2},\n",
    "$$\n",
    "\n",
    "Run the algorithm on the following data set as $D$: http://www.csie.ntu.edu.tw/~htlin/course/ml15fall/hw4/hw4_train.dat\n",
    "\n",
    "and the following set for evaulating $E_{out}$: http://www.csie.ntu.edu.tw/~htlin/course/ml15fall/hw4/hw4_test.dat\n",
    "\n",
    "Because the data sets are for ***classification***, please consider only the ***0/1 error*** for all the problems below.\n"
   ]
  },
  {
   "cell_type": "markdown",
   "metadata": {},
   "source": [
    "##### Read & generate dataset"
   ]
  },
  {
   "cell_type": "code",
   "execution_count": 15,
   "metadata": {
    "collapsed": true
   },
   "outputs": [],
   "source": [
    "import pandas as pd\n",
    "import numpy as np\n",
    "\n",
    "def read_data(file):\n",
    "    data = pd.read_csv(file, sep = ' ', header = None)\n",
    "    data = data.drop(0, axis = 1)  # drop the first empty column\n",
    "    \n",
    "    return data\n",
    "\n",
    "\n",
    "def generate_data(data):\n",
    "    \"\"\"Return data point X and lable Y.\"\"\"\n",
    "    \n",
    "    X = data.loc[:, 0:1]\n",
    "    Y = data.loc[:, 2:2].values\n",
    "    \n",
    "    N = X.shape[0]\n",
    "    X0 = np.ones((N, 1))      # add coefficient term X0\n",
    "    X = np.hstack((X0, X))\n",
    "    \n",
    "    return X, Y"
   ]
  },
  {
   "cell_type": "markdown",
   "metadata": {},
   "source": [
    "##### Build model"
   ]
  },
  {
   "cell_type": "code",
   "execution_count": 16,
   "metadata": {
    "collapsed": true
   },
   "outputs": [],
   "source": [
    "def ridge_regression(X, Y, _lambda):\n",
    "    \"\"\"Construct a regularized linear regression model and return the optimal weight vector W.\"\"\"\n",
    "    \n",
    "    inverse = np.linalg.pinv(X.T.dot(X) + _lambda * np.identity(2))\n",
    "    W = inverse.dot(X.T.dot(Y))    \n",
    "\n",
    "    return W"
   ]
  },
  {
   "cell_type": "markdown",
   "metadata": {},
   "source": [
    "##### Compute classification error for ridge regression"
   ]
  },
  {
   "cell_type": "code",
   "execution_count": 17,
   "metadata": {
    "collapsed": true
   },
   "outputs": [],
   "source": [
    "def ridge_regression_err(X, Y, W):\n",
    "    \"\"\"Calculate classification error (0/1 error).\"\"\"\n",
    "    \n",
    "    Y_pred = np.sign(X.dot(W))\n",
    "    zero_one_err = np.sum(Y_pred != Y)\n",
    "    \n",
    "    return zero_one_err"
   ]
  },
  {
   "cell_type": "markdown",
   "metadata": {},
   "source": [
    "##### Select lambda by minimum error"
   ]
  },
  {
   "cell_type": "code",
   "execution_count": 18,
   "metadata": {
    "collapsed": true
   },
   "outputs": [],
   "source": [
    "def select_lambda(E_in = True, E_out = False):\n",
    "    \"\"\" Return lambda, minimum training and testing error, and a list of error for plotting.\n",
    "        If not specified, select lambda by minimum E_in.\n",
    "    \"\"\"\n",
    "    \n",
    "    lambda_list = [(10 ** i) for i in range(2,-11,-1)]\n",
    "\n",
    "    err_in_list = []\n",
    "    err_out_list = []\n",
    "\n",
    "    for _lambda in lambda_list:\n",
    "        W = ridge_regression(X_train, Y_train, _lambda)\n",
    "\n",
    "        err_in = ridge_regression_err(X_train, Y_train, W)\n",
    "        err_out = ridge_regression_err(X_test, Y_test, W)\n",
    "\n",
    "        err_in_list.append(err_in)\n",
    "        err_out_list.append(err_out)\n",
    "    \n",
    "    if E_out:\n",
    "        min_err = np.min(err_out_list)\n",
    "        _lambda = lambda_list[np.argmin(err_out_list)]\n",
    "        return _lambda, min_err, err_out_list\n",
    "    else:\n",
    "        min_err = np.min(err_out_list)\n",
    "        _lambda = lambda_list[np.argmin(err_in_list)]\n",
    "        err_out = err_out_list[np.argmin(err_in_list)]\n",
    "        return _lambda, min_err, err_out, err_in_list\n",
    "    "
   ]
  },
  {
   "cell_type": "markdown",
   "metadata": {},
   "source": [
    "#### 13. Let $\\lambda = 11.26$, what is the corresponding $E_{in}$ and $E_{out}$ ?"
   ]
  },
  {
   "cell_type": "markdown",
   "metadata": {},
   "source": [
    "##### Experiment"
   ]
  },
  {
   "cell_type": "code",
   "execution_count": 19,
   "metadata": {
    "collapsed": true
   },
   "outputs": [],
   "source": [
    "train_file = 'data/hw4_train.dat.txt'; test_file = 'data/hw4_test.dat.txt'\n",
    "data_train = read_data(train_file); data_test = read_data(test_file)\n",
    "X_train, Y_train = generate_data(data_train)\n",
    "X_test, Y_test = generate_data(data_test)"
   ]
  },
  {
   "cell_type": "code",
   "execution_count": 20,
   "metadata": {},
   "outputs": [
    {
     "name": "stdout",
     "output_type": "stream",
     "text": [
      "Classification in-sample error: 13\n",
      "Classification out-of-sample error: 59\n"
     ]
    }
   ],
   "source": [
    "_lambda = 11.26\n",
    "\n",
    "W = ridge_regression(X_train, Y_train, _lambda)\n",
    "err_in = ridge_regression_err(X_train, Y_train, W)\n",
    "err_out = ridge_regression_err(X_test, Y_test, W)\n",
    "\n",
    "print('Classification in-sample error: %.d' %err_in)\n",
    "print('Classification out-of-sample error: %.d' %err_out)"
   ]
  },
  {
   "cell_type": "markdown",
   "metadata": {},
   "source": [
    "#### 14. Plot the curve of $E_{in}$ with respect to $log_{10} \\lambda = \\{2,1,0,−1,...,−8,−9,−10\\}$. What is the $\\lambda$ with the minimum $E_{in}$ ? What is $E_{out}(g_{\\lambda})$ on such $\\lambda$ ? Break the tie by selecting the largest $\\lambda$."
   ]
  },
  {
   "cell_type": "markdown",
   "metadata": {},
   "source": [
    "#### 15. Plot the curve of $E_{out}$ with respect to $log_{10} \\lambda = \\{2,1,0,−1,...,−8,−9,−10\\}$. What is the $\\lambda$ with the minimum $E_{out}$ ? Break the tie by selecting the largest $\\lambda$."
   ]
  },
  {
   "cell_type": "markdown",
   "metadata": {},
   "source": [
    "##### Experiment"
   ]
  },
  {
   "cell_type": "code",
   "execution_count": 21,
   "metadata": {},
   "outputs": [
    {
     "name": "stdout",
     "output_type": "stream",
     "text": [
      "# Select lambda by E_in\n",
      "lambda: 0.010000; training error: 16; out-of-sample error 16\n",
      "\n",
      "\n",
      "# Select lambda by E_out\n",
      "lambda: 0.100000; testing error: 16\n"
     ]
    }
   ],
   "source": [
    "lambda_g, min_err_in, err_out_g, err_in_list = select_lambda()\n",
    "lambda_out, min_err_out, err_out_list = select_lambda(E_out = True)\n",
    "\n",
    "print('# Select lambda by E_in')\n",
    "print('lambda: %f; training error: %d; out-of-sample error %d' %(lambda_g, min_err_in, err_out_g))\n",
    "print('\\n')\n",
    "print('# Select lambda by E_out')\n",
    "print('lambda: %f; testing error: %d' %(lambda_out, min_err_out))"
   ]
  },
  {
   "cell_type": "markdown",
   "metadata": {},
   "source": [
    "##### Plot error with respect to lambda"
   ]
  },
  {
   "cell_type": "code",
   "execution_count": 22,
   "metadata": {},
   "outputs": [
    {
     "data": {
      "text/plain": [
       "<matplotlib.text.Text at 0x107c766d8>"
      ]
     },
     "execution_count": 22,
     "metadata": {},
     "output_type": "execute_result"
    },
    {
     "data": {
      "image/png": "[encoded data removed]",
      "text/plain": [
       "<matplotlib.figure.Figure at 0x1078776a0>"
      ]
     },
     "metadata": {},
     "output_type": "display_data"
    }
   ],
   "source": [
    "import matplotlib.pyplot as plt\n",
    "%matplotlib inline\n",
    "\n",
    "lambda_list = [(10 ** i) for i in range(2,-11,-1)]\n",
    "\n",
    "plt.plot(lambda_list, err_in_list, label = 'In-sample error')\n",
    "plt.plot(lambda_list, err_out_list, label = 'Out-of-sample error')\n",
    "plt.legend()\n",
    "plt.title('Error Distribution for Lambda')\n",
    "plt.xlabel('Lambda')\n",
    "plt.ylabel('0/1 Error')"
   ]
  },
  {
   "cell_type": "markdown",
   "metadata": {},
   "source": [
    "### Validation\n",
    "---\n",
    "\n",
    "Now split the given training examples in $D$ to the first 120 examples for $D_{train}$ and 80 for $D_{val}$. \n",
    "\n",
    "*Ideally, you should randomly do the 120/80 split. Because the given examples are already randomly permuted, however, we would use a fixed split for the purpose of this problem.*\n",
    "\n",
    "Run the algorithm on $D_{train}$ to get $g_{\\lambda}^{-}$, and validate $g{\\lambda}^{-}$ with $D_{val}$.\n"
   ]
  },
  {
   "cell_type": "markdown",
   "metadata": {},
   "source": [
    "##### Split dataset into training & validation"
   ]
  },
  {
   "cell_type": "code",
   "execution_count": 23,
   "metadata": {
    "collapsed": true
   },
   "outputs": [],
   "source": [
    "def split_data(data):\n",
    "    \"\"\"Return training and validation dataset by the 120/80 split.\"\"\"\n",
    "    \n",
    "    D_train = data.loc[:119, :]\n",
    "    D_val = data.loc[120:, :]\n",
    "    \n",
    "    return D_train, D_val"
   ]
  },
  {
   "cell_type": "markdown",
   "metadata": {},
   "source": [
    "##### Select lambda by minimum error"
   ]
  },
  {
   "cell_type": "code",
   "execution_count": 24,
   "metadata": {
    "collapsed": true
   },
   "outputs": [],
   "source": [
    "def select_lambda(E_train = True, E_val = False):\n",
    "    \"\"\" Return lambda, minimum training and testing error, and a list of error for plotting.\n",
    "        If not specified, select lambda by minimum E_train.\n",
    "    \"\"\"\n",
    "    \n",
    "    lambda_list = [(10 ** i) for i in range(2,-11,-1)]\n",
    "\n",
    "    err_train_list = []\n",
    "    err_val_list = []\n",
    "    err_out_list = []\n",
    "\n",
    "    for _lambda in lambda_list:\n",
    "        W = ridge_regression(X_train, Y_train, _lambda)\n",
    "\n",
    "        err_train = ridge_regression_err(X_train, Y_train, W)\n",
    "        err_val = ridge_regression_err(X_val, Y_val, W)\n",
    "        err_out = ridge_regression_err(X_test, Y_test, W)\n",
    "\n",
    "        err_train_list.append(err_train)\n",
    "        err_val_list.append(err_val)\n",
    "        err_out_list.append(err_out)\n",
    "    \n",
    "    if E_val:\n",
    "        min_err = np.mean(err_val_list)\n",
    "        _lambda = lambda_list[np.argmin(err_val_list)]\n",
    "        err_out = err_out_list[np.argmin(err_val_list)]\n",
    "        return _lambda, min_err, err_out, err_val_list\n",
    "    else:\n",
    "        min_err = np.mean(err_train_list)\n",
    "        _lambda = lambda_list[np.argmin(err_train_list)]\n",
    "        err_out = err_out_list[np.argmin(err_train_list)]\n",
    "        return _lambda, min_err, err_out, err_train_list\n",
    "    "
   ]
  },
  {
   "cell_type": "markdown",
   "metadata": {},
   "source": [
    "#### 16. Plot $E_{train}(g_{\\lambda}^{-})$ with respect to $log_{10} \\lambda = \\{2,1,0,−1,...,−8,−9,−10\\}$. What is the $\\lambda$ with the minimum $E_{train}(g_{\\lambda}^{-})$ ? What is $E_{out}(g_{\\lambda}^{-})$ on such $\\lambda$ ? Break the tie by selecting the largest $\\lambda$."
   ]
  },
  {
   "cell_type": "markdown",
   "metadata": {},
   "source": [
    "#### 17. Plot $E_{val}(g_{\\lambda}^{-})$ with respect to $log_{10} \\lambda = \\{2,1,0,−1,...,−8,−9,−10\\}$. What is the $\\lambda$ with the minimum $E_{val}(g_{\\lambda}^{-})$ ? What is $E_{out}(g_{\\lambda}^{-})$ on such $\\lambda$ ? Break the tie by selecting the largest $\\lambda$."
   ]
  },
  {
   "cell_type": "markdown",
   "metadata": {},
   "source": [
    "##### Experiment"
   ]
  },
  {
   "cell_type": "code",
   "execution_count": 25,
   "metadata": {
    "collapsed": true
   },
   "outputs": [],
   "source": [
    "D_train, D_val = split_data(data_train)\n",
    "X_train, Y_train = generate_data(D_train)\n",
    "X_val, Y_val = generate_data(D_val)"
   ]
  },
  {
   "cell_type": "code",
   "execution_count": 26,
   "metadata": {},
   "outputs": [
    {
     "name": "stdout",
     "output_type": "stream",
     "text": [
      "# Select lambda by E_train\n",
      "lambda: 1.000000; training error: 8; out-of-sample error 30\n",
      "\n",
      "\n",
      "# Select lambda by E_val\n",
      "lambda: 0.100000; validation error: 6; out-of-sample error 22\n"
     ]
    }
   ],
   "source": [
    "lambda_train, min_err_train, err_out_train, err_train_list = select_lambda()\n",
    "lambda_val, min_err_val, err_out_val, err_val_list = select_lambda(E_val = True)\n",
    "\n",
    "print('# Select lambda by E_train')\n",
    "print('lambda: %f; training error: %d; out-of-sample error %d' %(lambda_train, min_err_train, err_out_train))\n",
    "print('\\n')\n",
    "print('# Select lambda by E_val')\n",
    "print('lambda: %f; validation error: %d; out-of-sample error %d' %(lambda_val, min_err_val, err_out_val))"
   ]
  },
  {
   "cell_type": "markdown",
   "metadata": {},
   "source": [
    "##### Plot error with respect to lambda"
   ]
  },
  {
   "cell_type": "code",
   "execution_count": 27,
   "metadata": {},
   "outputs": [
    {
     "data": {
      "text/plain": [
       "<matplotlib.text.Text at 0x107a899e8>"
      ]
     },
     "execution_count": 27,
     "metadata": {},
     "output_type": "execute_result"
    },
    {
     "data": {
      "image/png": "[encoded data removed]",
      "text/plain": [
       "<matplotlib.figure.Figure at 0x107afc550>"
      ]
     },
     "metadata": {},
     "output_type": "display_data"
    }
   ],
   "source": [
    "import matplotlib.pyplot as plt\n",
    "%matplotlib inline\n",
    "\n",
    "lambda_list = [(10 ** i) for i in range(2,-11,-1)]\n",
    "\n",
    "plt.plot(lambda_list, err_train_list, label = 'Training error')\n",
    "plt.plot(lambda_list, err_val_list, label = 'Validation error')\n",
    "plt.legend()\n",
    "plt.title('Error Distribution for Lambda')\n",
    "plt.xlabel('Lambda')\n",
    "plt.ylabel('0/1 Error')"
   ]
  },
  {
   "cell_type": "markdown",
   "metadata": {},
   "source": [
    "#### 18. Run the algorithm with the optimal $\\lambda$ of the previous problem on the whole $D$ to get $g_{\\lambda}$ . What is $E_{in}(g_{\\lambda})$ and $E_{out}(g_{\\lambda})$ ?"
   ]
  },
  {
   "cell_type": "code",
   "execution_count": 28,
   "metadata": {},
   "outputs": [
    {
     "name": "stdout",
     "output_type": "stream",
     "text": [
      "Lambda: 0.100000\n",
      "Training error: 7\n",
      "Testing error: 16\n"
     ]
    }
   ],
   "source": [
    "X, Y = generate_data(data_train)\n",
    "X_test, Y_test = generate_data(data_test)\n",
    "W = ridge_regression(X, Y, lambda_val)\n",
    "err_in_g = ridge_regression_err(X, Y, W)\n",
    "err_out_g = ridge_regression_err(X_test, Y_test, W)\n",
    "\n",
    "print('Lambda: %f' %lambda_val)\n",
    "print('Training error: %d' %err_in_g)\n",
    "print('Testing error: %d' %err_out_g)"
   ]
  },
  {
   "cell_type": "markdown",
   "metadata": {},
   "source": [
    "### Cross-validation\n",
    "---\n",
    "Now split the given training examples in $D$ to five folds, the first 40 being fold 1, the next 40 being fold 2, and so on. Again, we take a fixed split because the given examples are already randomly permuted."
   ]
  },
  {
   "cell_type": "markdown",
   "metadata": {},
   "source": [
    "##### Split dataset into training & validation"
   ]
  },
  {
   "cell_type": "code",
   "execution_count": 29,
   "metadata": {},
   "outputs": [],
   "source": [
    "def split_data(data, fold):\n",
    "    \n",
    "    k = 40\n",
    "    D_val = data.loc[(fold-1)*k : fold*k-1, :]\n",
    "    D_train = data[~data.isin(D_val)].dropna()\n",
    "    \n",
    "    return D_train, D_val"
   ]
  },
  {
   "cell_type": "markdown",
   "metadata": {},
   "source": [
    "#### 19.  Plot $E_{cv}$ with respect to $log_{10} \\lambda = \\{2,1,0,−1,...,−8,−9,−10\\}$. What is the $\\lambda$ with the minimum $E_{cv}$, where $E_{cv}$ comes from the five folds defined above? Break the tie by selecting the largest $\\lambda$."
   ]
  },
  {
   "cell_type": "markdown",
   "metadata": {},
   "source": [
    "##### Experiment"
   ]
  },
  {
   "cell_type": "code",
   "execution_count": 30,
   "metadata": {},
   "outputs": [
    {
     "name": "stdout",
     "output_type": "stream",
     "text": [
      "Lambda: 1.000000\n",
      "Minimum cross-validation error: 0.800000\n"
     ]
    }
   ],
   "source": [
    "N = data_train.shape[0]\n",
    "lambda_list = [(10 ** i) for i in range(2,-11,-1)]\n",
    "\n",
    "err_cv_list = []\n",
    "for _lambda in lambda_list:\n",
    "    \n",
    "    err_val_list = []\n",
    "    for i in range(int(N/40)):\n",
    "        fold = i\n",
    "        D_train, D_val = split_data(data_train, fold)\n",
    "        X_train, Y_train = generate_data(D_train)\n",
    "        X_val, Y_val = generate_data(D_val)\n",
    "        \n",
    "        W = ridge_regression(X_train, Y_train, _lambda)\n",
    "        err_val = ridge_regression_err(X_val, Y_val, W)\n",
    "        err_val_list.append(err_val)\n",
    "    \n",
    "    err_cv = np.mean(err_val_list)\n",
    "    err_cv_list.append(err_cv)\n",
    "    \n",
    "    \n",
    "min_err_cv = np.min(err_cv_list)\n",
    "lambda_cv = lambda_list[np.argmin(err_cv_list)]\n",
    "\n",
    "print('Lambda: %f' %lambda_cv)\n",
    "print('Minimum cross-validation error: %f' %min_err_cv)"
   ]
  },
  {
   "cell_type": "markdown",
   "metadata": {},
   "source": [
    "##### Plot error with respect to lambda"
   ]
  },
  {
   "cell_type": "code",
   "execution_count": 31,
   "metadata": {},
   "outputs": [
    {
     "data": {
      "text/plain": [
       "<matplotlib.text.Text at 0x107d769b0>"
      ]
     },
     "execution_count": 31,
     "metadata": {},
     "output_type": "execute_result"
    },
    {
     "data": {
      "image/png": "[encoded data removed]",
      "text/plain": [
       "<matplotlib.figure.Figure at 0x107d0f8d0>"
      ]
     },
     "metadata": {},
     "output_type": "display_data"
    }
   ],
   "source": [
    "import matplotlib.pyplot as plt\n",
    "%matplotlib inline\n",
    "\n",
    "lambda_list = [(10 ** i) for i in range(2,-11,-1)]\n",
    "\n",
    "plt.plot(lambda_list, err_cv_list, label = 'Cross-validation error')\n",
    "plt.legend()\n",
    "plt.title('Cross-validation Error for Lambda')\n",
    "plt.xlabel('Lambda')\n",
    "plt.ylabel('0/1 Error')"
   ]
  },
  {
   "cell_type": "markdown",
   "metadata": {},
   "source": [
    "#### 20. Run the algorithm with the optimal $\\lambda$ of the previous problem on the whole $D$ to get $g_{\\lambda}$. What is $E_{in}(g_{\\lambda})$ and $E_{out}(g_{\\lambda})$ ?"
   ]
  },
  {
   "cell_type": "code",
   "execution_count": 32,
   "metadata": {},
   "outputs": [
    {
     "name": "stdout",
     "output_type": "stream",
     "text": [
      "Lambda: 1.000000\n",
      "Training error: 7\n",
      "Testing error: 21\n"
     ]
    }
   ],
   "source": [
    "X, Y = generate_data(data_train)\n",
    "X_test, Y_test = generate_data(data_test)\n",
    "W = ridge_regression(X, Y, lambda_cv)\n",
    "err_in_g = ridge_regression_err(X, Y, W)\n",
    "err_out_g = ridge_regression_err(X_test, Y_test, W)\n",
    "\n",
    "print('Lambda: %f' %lambda_cv)\n",
    "print('Training error: %d' %err_in_g)\n",
    "print('Testing error: %d' %err_out_g)"
   ]
  },
  {
   "cell_type": "code",
   "execution_count": null,
   "metadata": {
    "collapsed": true
   },
   "outputs": [],
   "source": []
  }
 ],
 "metadata": {
  "kernelspec": {
   "display_name": "Python 3",
   "language": "python",
   "name": "python3"
  },
  "language_info": {
   "codemirror_mode": {
    "name": "ipython",
    "version": 3
   },
   "file_extension": ".py",
   "mimetype": "text/x-python",
   "name": "python",
   "nbconvert_exporter": "python",
   "pygments_lexer": "ipython3",
   "version": "3.6.2"
  }
 },
 "nbformat": 4,
 "nbformat_minor": 2
}
