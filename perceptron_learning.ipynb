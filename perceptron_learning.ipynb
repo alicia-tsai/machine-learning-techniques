{
 "cells": [
  {
   "cell_type": "markdown",
   "metadata": {},
   "source": [
    "## Machine Learning Foundation & Techniques: Assignment 1"
   ]
  },
  {
   "cell_type": "markdown",
   "metadata": {},
   "source": [
    "### Perceptron Learning Algorithm (PLA) (HW1, Q15-17)"
   ]
  },
  {
   "cell_type": "code",
   "execution_count": 1,
   "metadata": {},
   "outputs": [],
   "source": [
    "import numpy as np\n",
    "\n",
    "def GetData(filename):\n",
    "    \"\"\"Read data and generate parameters.\"\"\"\n",
    "    \n",
    "    file = open(filename,'r')\n",
    "    hw1_data = []\n",
    "    for line in file:\n",
    "        data = [float(i) for i in file.readline().split()]\n",
    "        data.insert(0,1)\n",
    "        hw1_data.append(data)\n",
    "    \n",
    "    X = []\n",
    "    Y = []\n",
    "    for data in hw1_data:\n",
    "        X.append(data[0:5])\n",
    "        Y.append(data[5])\n",
    "    \n",
    "    X = np.array(X)\n",
    "    Y = np.array(Y)\n",
    "    \n",
    "    return X,Y\n",
    "\n",
    "\n",
    "def Sign(X,W):\n",
    "    \"\"\" Hypothesis of PLA: h(X) = Sign(X * W.T) \n",
    "        X[i] dimension is (1, 5) & W dimension is (1, 5). \"\"\"\n",
    "    if np.dot(X, W.T) > 0:\n",
    "        return 1\n",
    "    else:\n",
    "        return -1"
   ]
  },
  {
   "cell_type": "code",
   "execution_count": 2,
   "metadata": {},
   "outputs": [],
   "source": [
    "def naive_PLA(X, Y, updates):\n",
    "    \"\"\" PLA by visiting examples in the naive cycle using the order of examples in the data set. \"\"\"\n",
    "    n = len(X[0])\n",
    "    W = np.zeros((1,n))\n",
    "    \n",
    "    for iteration in range(updates):\n",
    "        # algorithm halts if PLA has visited all data point, otherwise Flase\n",
    "        halt = True\n",
    "        \n",
    "        # visit each data (index by i) in a naive cycle using the order of examples in the data set\n",
    "        for i in range(len(X)):\n",
    "            # update new W if the hypothesis is wrong\n",
    "            if Sign(X[[i]], W) != Y[i]:      # shape of X[i] is (5, ), meaning that it contains 1 list\n",
    "                W = W + Y[i]*X[i]            # convert X[i] into a list (i.e. X[[i]]) to solve the dimension problem \n",
    "                halt = False                 # keep updating the algorithm, do not halt\n",
    "                break\n",
    "        \n",
    "        # stop updating if PLA has visited all data point, algorithm halts\n",
    "        if halt == True:\n",
    "            break\n",
    "        \n",
    "    return W, iteration"
   ]
  },
  {
   "cell_type": "code",
   "execution_count": 3,
   "metadata": {},
   "outputs": [],
   "source": [
    "import random\n",
    "\n",
    "def random_PLA(X, Y, updates, eta):\n",
    "    \"\"\" PLA by visiting examples in fixed, pre-determined random cycles throughout the algorithm. \"\"\"\n",
    "    n = len(X[0])\n",
    "    W = np.zeros((1,n))\n",
    "    \n",
    "    for iteration in range(updates):\n",
    "        # algorithm halts if PLA has visited all data point, otherwise Flase\n",
    "        halt = True\n",
    "        \n",
    "        # visit each data (index by i) in a fixed, pre-determined random cycle\n",
    "        n = len(X)\n",
    "        indices = random.sample(range(n), n)\n",
    "        for i in indices:\n",
    "            # update new W if the hypothesis is wrong\n",
    "            if Sign(X[[i]], W) != Y[i]:      # shape of X[i] is (5, ), meaning that it contains 1 list\n",
    "                W = W + eta*Y[i]*X[i]            # convert X[i] into a list (i.e. X[[i]]) to solve the dimension problem \n",
    "                halt = False                 # keep updating the algorithm, do not halt\n",
    "                break\n",
    "        \n",
    "        # stop updating if PLA has visited all data point, algorithm halts\n",
    "        if halt == True:\n",
    "            break\n",
    "        \n",
    "    return W, iteration"
   ]
  },
  {
   "cell_type": "code",
   "execution_count": 4,
   "metadata": {},
   "outputs": [],
   "source": [
    "def UpdateNum(X, Y, updates, eta, experiments):\n",
    "    \"\"\" Repeat the experiment and get the number of updates before the algorithm hatls.\n",
    "        Store the number in a list for plotting the histogram.\"\"\"\n",
    "    \n",
    "    num_updates = []\n",
    "    for i in range(experiments):\n",
    "        random = random_PLA(X,Y,updates,eta)\n",
    "        num_updates.append(random[1])\n",
    "    \n",
    "    num_updates = np.array(num_updates)\n",
    "    return num_updates"
   ]
  },
  {
   "cell_type": "code",
   "execution_count": 5,
   "metadata": {},
   "outputs": [],
   "source": [
    "filename = 'data/hw1_15_train.dat.txt'\n",
    "X, Y = GetData(filename)\n",
    "updates = 100\n",
    "\n",
    "naive = naive_PLA(X,Y,updates)"
   ]
  },
  {
   "cell_type": "code",
   "execution_count": 6,
   "metadata": {},
   "outputs": [
    {
     "data": {
      "text/plain": [
       "32"
      ]
     },
     "execution_count": 6,
     "metadata": {},
     "output_type": "execute_result"
    }
   ],
   "source": [
    "# the number of updates before the algorithm halts under naive PLA\n",
    "naive[1]"
   ]
  },
  {
   "cell_type": "code",
   "execution_count": 7,
   "metadata": {},
   "outputs": [
    {
     "data": {
      "text/plain": [
       "34.146000000000001"
      ]
     },
     "execution_count": 7,
     "metadata": {},
     "output_type": "execute_result"
    }
   ],
   "source": [
    "# the average number of updates before the algorithm halts under random PLA with eta = 1\n",
    "eta = 1\n",
    "experiments = 2000\n",
    "\n",
    "num_updates = UpdateNum(X,Y,updates,eta,experiments)\n",
    "num_updates.mean()"
   ]
  },
  {
   "cell_type": "code",
   "execution_count": 9,
   "metadata": {},
   "outputs": [
    {
     "data": {
      "image/png": "[encoded data removed]",
      "text/plain": [
       "<matplotlib.figure.Figure at 0x106457828>"
      ]
     },
     "metadata": {},
     "output_type": "display_data"
    }
   ],
   "source": [
    "import matplotlib.pyplot as plt\n",
    "%matplotlib inline\n",
    "\n",
    "num_updates = np.array(num_updates)\n",
    "plt.hist(num_updates, bins = 50);"
   ]
  },
  {
   "cell_type": "code",
   "execution_count": 11,
   "metadata": {},
   "outputs": [
    {
     "data": {
      "text/plain": [
       "33.866500000000002"
      ]
     },
     "execution_count": 11,
     "metadata": {},
     "output_type": "execute_result"
    }
   ],
   "source": [
    "# the average number of updates before the algorithm halts under random PLA with eta = 0.5\n",
    "eta = 0.5\n",
    "\n",
    "num_updates = UpdateNum(X, Y, updates, eta, experiments)\n",
    "num_updates.mean()"
   ]
  },
  {
   "cell_type": "code",
   "execution_count": 12,
   "metadata": {},
   "outputs": [
    {
     "data": {
      "image/png": "[encoded data removed]",
      "text/plain": [
       "<matplotlib.figure.Figure at 0x106642dd8>"
      ]
     },
     "metadata": {},
     "output_type": "display_data"
    }
   ],
   "source": [
    "num_updates = np.array(num_updates)\n",
    "plt.hist(num_updates, bins = 50);"
   ]
  },
  {
   "cell_type": "markdown",
   "metadata": {},
   "source": [
    "### Pocket PLA (HW1, Q18-20)"
   ]
  },
  {
   "cell_type": "code",
   "execution_count": 13,
   "metadata": {},
   "outputs": [],
   "source": [
    "def Test(X,Y,W):\n",
    "    \"\"\"0/1 error\"\"\"\n",
    "    n = len(X)\n",
    "    error = [1 for i in range(n) if Sign(X[i], W) != Y[i]]\n",
    "    sum_error = np.array(error).sum()\n",
    "    return sum_error / float(n)\n",
    "\n",
    "\n",
    "def PocketPLA(X,Y,updates,eta):\n",
    "    n = len(X[0])\n",
    "    W = np.zeros((1,n))\n",
    "    \n",
    "    # set a pocket: update minimum error if a smaller error is obtained and keep the best W in the pocket\n",
    "    min_error = Test(X,Y,W) \n",
    "    W_pocket = W\n",
    "    \n",
    "    for iteration in range(updates):\n",
    "        \n",
    "        # visit each data (index by i) in a fixed, pre-determined random cycle\n",
    "        n = len(X)\n",
    "        indices = random.sample(range(n), n)\n",
    "        \n",
    "        for i in indices:\n",
    "            # update new W if the hypothesis is wrong \n",
    "            if Sign(X[[i]], W) != Y[i]:      # shape of X[i] is (5, ), meaning that it contains 1 list\n",
    "                W = W + eta*Y[i]*X[i]        # convert X[i] into a list (i.e. X[[i]]) to solve the dimension problem \n",
    "                error = Test(X,Y,W)          \n",
    "                if error < min_error:\n",
    "                    min_error = error        # update mininum error when obtaining a smaller error\n",
    "                    W_pocket = W             # update W\n",
    "                    break\n",
    "        \n",
    "    return W_pocket"
   ]
  },
  {
   "cell_type": "code",
   "execution_count": 15,
   "metadata": {
    "collapsed": true
   },
   "outputs": [
    {
     "name": "stdout",
     "output_type": "stream",
     "text": [
      "experiment: 1\n",
      "experiment: 101\n",
      "experiment: 201\n",
      "experiment: 301\n"
     ]
    },
    {
     "ename": "KeyboardInterrupt",
     "evalue": "",
     "output_type": "error",
     "traceback": [
      "\u001b[0;31m---------------------------------------------------------------------------\u001b[0m",
      "\u001b[0;31mKeyboardInterrupt\u001b[0m                         Traceback (most recent call last)",
      "\u001b[0;32m<ipython-input-15-e9a07482672d>\u001b[0m in \u001b[0;36m<module>\u001b[0;34m()\u001b[0m\n\u001b[1;32m     10\u001b[0m \u001b[0mavg_error\u001b[0m \u001b[0;34m=\u001b[0m \u001b[0;34m[\u001b[0m\u001b[0;34m]\u001b[0m\u001b[0;34m\u001b[0m\u001b[0m\n\u001b[1;32m     11\u001b[0m \u001b[0;32mfor\u001b[0m \u001b[0mi\u001b[0m \u001b[0;32min\u001b[0m \u001b[0mrange\u001b[0m\u001b[0;34m(\u001b[0m\u001b[0mexperiments\u001b[0m\u001b[0;34m)\u001b[0m\u001b[0;34m:\u001b[0m\u001b[0;34m\u001b[0m\u001b[0m\n\u001b[0;32m---> 12\u001b[0;31m     \u001b[0mW_pocket\u001b[0m \u001b[0;34m=\u001b[0m \u001b[0mPocketPLA\u001b[0m\u001b[0;34m(\u001b[0m\u001b[0mX\u001b[0m\u001b[0;34m,\u001b[0m\u001b[0mY\u001b[0m\u001b[0;34m,\u001b[0m\u001b[0mupdates\u001b[0m\u001b[0;34m,\u001b[0m\u001b[0meta\u001b[0m\u001b[0;34m)\u001b[0m\u001b[0;34m\u001b[0m\u001b[0m\n\u001b[0m\u001b[1;32m     13\u001b[0m     \u001b[0merror\u001b[0m \u001b[0;34m=\u001b[0m \u001b[0mTest\u001b[0m\u001b[0;34m(\u001b[0m\u001b[0mX_test\u001b[0m\u001b[0;34m,\u001b[0m\u001b[0mY_test\u001b[0m\u001b[0;34m,\u001b[0m\u001b[0mW_pocket\u001b[0m\u001b[0;34m)\u001b[0m\u001b[0;34m\u001b[0m\u001b[0m\n\u001b[1;32m     14\u001b[0m     \u001b[0mavg_error\u001b[0m\u001b[0;34m.\u001b[0m\u001b[0mappend\u001b[0m\u001b[0;34m(\u001b[0m\u001b[0merror\u001b[0m\u001b[0;34m)\u001b[0m\u001b[0;34m\u001b[0m\u001b[0m\n",
      "\u001b[0;32m<ipython-input-13-0e7b4b3d91ef>\u001b[0m in \u001b[0;36mPocketPLA\u001b[0;34m(X, Y, updates, eta)\u001b[0m\n\u001b[1;32m     25\u001b[0m             \u001b[0;32mif\u001b[0m \u001b[0mSign\u001b[0m\u001b[0;34m(\u001b[0m\u001b[0mX\u001b[0m\u001b[0;34m[\u001b[0m\u001b[0;34m[\u001b[0m\u001b[0mi\u001b[0m\u001b[0;34m]\u001b[0m\u001b[0;34m]\u001b[0m\u001b[0;34m,\u001b[0m \u001b[0mW\u001b[0m\u001b[0;34m)\u001b[0m \u001b[0;34m!=\u001b[0m \u001b[0mY\u001b[0m\u001b[0;34m[\u001b[0m\u001b[0mi\u001b[0m\u001b[0;34m]\u001b[0m\u001b[0;34m:\u001b[0m      \u001b[0;31m# shape of X[i] is (5, ), meaning that it contains 1 list\u001b[0m\u001b[0;34m\u001b[0m\u001b[0m\n\u001b[1;32m     26\u001b[0m                 \u001b[0mW\u001b[0m \u001b[0;34m=\u001b[0m \u001b[0mW\u001b[0m \u001b[0;34m+\u001b[0m \u001b[0meta\u001b[0m\u001b[0;34m*\u001b[0m\u001b[0mY\u001b[0m\u001b[0;34m[\u001b[0m\u001b[0mi\u001b[0m\u001b[0;34m]\u001b[0m\u001b[0;34m*\u001b[0m\u001b[0mX\u001b[0m\u001b[0;34m[\u001b[0m\u001b[0mi\u001b[0m\u001b[0;34m]\u001b[0m        \u001b[0;31m# convert X[i] into a list (i.e. X[[i]]) to solve the dimension problem\u001b[0m\u001b[0;34m\u001b[0m\u001b[0m\n\u001b[0;32m---> 27\u001b[0;31m                 \u001b[0merror\u001b[0m \u001b[0;34m=\u001b[0m \u001b[0mTest\u001b[0m\u001b[0;34m(\u001b[0m\u001b[0mX\u001b[0m\u001b[0;34m,\u001b[0m\u001b[0mY\u001b[0m\u001b[0;34m,\u001b[0m\u001b[0mW\u001b[0m\u001b[0;34m)\u001b[0m\u001b[0;34m\u001b[0m\u001b[0m\n\u001b[0m\u001b[1;32m     28\u001b[0m                 \u001b[0;32mif\u001b[0m \u001b[0merror\u001b[0m \u001b[0;34m<\u001b[0m \u001b[0mmin_error\u001b[0m\u001b[0;34m:\u001b[0m\u001b[0;34m\u001b[0m\u001b[0m\n\u001b[1;32m     29\u001b[0m                     \u001b[0mmin_error\u001b[0m \u001b[0;34m=\u001b[0m \u001b[0merror\u001b[0m        \u001b[0;31m# update mininum error when obtaining a smaller error\u001b[0m\u001b[0;34m\u001b[0m\u001b[0m\n",
      "\u001b[0;32m<ipython-input-13-0e7b4b3d91ef>\u001b[0m in \u001b[0;36mTest\u001b[0;34m(X, Y, W)\u001b[0m\n\u001b[1;32m      2\u001b[0m     \u001b[0;34m\"\"\"0/1 error\"\"\"\u001b[0m\u001b[0;34m\u001b[0m\u001b[0m\n\u001b[1;32m      3\u001b[0m     \u001b[0mn\u001b[0m \u001b[0;34m=\u001b[0m \u001b[0mlen\u001b[0m\u001b[0;34m(\u001b[0m\u001b[0mX\u001b[0m\u001b[0;34m)\u001b[0m\u001b[0;34m\u001b[0m\u001b[0m\n\u001b[0;32m----> 4\u001b[0;31m     \u001b[0merror\u001b[0m \u001b[0;34m=\u001b[0m \u001b[0;34m[\u001b[0m\u001b[0;36m1\u001b[0m \u001b[0;32mfor\u001b[0m \u001b[0mi\u001b[0m \u001b[0;32min\u001b[0m \u001b[0mrange\u001b[0m\u001b[0;34m(\u001b[0m\u001b[0mn\u001b[0m\u001b[0;34m)\u001b[0m \u001b[0;32mif\u001b[0m \u001b[0mSign\u001b[0m\u001b[0;34m(\u001b[0m\u001b[0mX\u001b[0m\u001b[0;34m[\u001b[0m\u001b[0mi\u001b[0m\u001b[0;34m]\u001b[0m\u001b[0;34m,\u001b[0m \u001b[0mW\u001b[0m\u001b[0;34m)\u001b[0m \u001b[0;34m!=\u001b[0m \u001b[0mY\u001b[0m\u001b[0;34m[\u001b[0m\u001b[0mi\u001b[0m\u001b[0;34m]\u001b[0m\u001b[0;34m]\u001b[0m\u001b[0;34m\u001b[0m\u001b[0m\n\u001b[0m\u001b[1;32m      5\u001b[0m     \u001b[0msum_error\u001b[0m \u001b[0;34m=\u001b[0m \u001b[0mnp\u001b[0m\u001b[0;34m.\u001b[0m\u001b[0marray\u001b[0m\u001b[0;34m(\u001b[0m\u001b[0merror\u001b[0m\u001b[0;34m)\u001b[0m\u001b[0;34m.\u001b[0m\u001b[0msum\u001b[0m\u001b[0;34m(\u001b[0m\u001b[0;34m)\u001b[0m\u001b[0;34m\u001b[0m\u001b[0m\n\u001b[1;32m      6\u001b[0m     \u001b[0;32mreturn\u001b[0m \u001b[0msum_error\u001b[0m \u001b[0;34m/\u001b[0m \u001b[0mfloat\u001b[0m\u001b[0;34m(\u001b[0m\u001b[0mn\u001b[0m\u001b[0;34m)\u001b[0m\u001b[0;34m\u001b[0m\u001b[0m\n",
      "\u001b[0;32m<ipython-input-13-0e7b4b3d91ef>\u001b[0m in \u001b[0;36m<listcomp>\u001b[0;34m(.0)\u001b[0m\n\u001b[1;32m      2\u001b[0m     \u001b[0;34m\"\"\"0/1 error\"\"\"\u001b[0m\u001b[0;34m\u001b[0m\u001b[0m\n\u001b[1;32m      3\u001b[0m     \u001b[0mn\u001b[0m \u001b[0;34m=\u001b[0m \u001b[0mlen\u001b[0m\u001b[0;34m(\u001b[0m\u001b[0mX\u001b[0m\u001b[0;34m)\u001b[0m\u001b[0;34m\u001b[0m\u001b[0m\n\u001b[0;32m----> 4\u001b[0;31m     \u001b[0merror\u001b[0m \u001b[0;34m=\u001b[0m \u001b[0;34m[\u001b[0m\u001b[0;36m1\u001b[0m \u001b[0;32mfor\u001b[0m \u001b[0mi\u001b[0m \u001b[0;32min\u001b[0m \u001b[0mrange\u001b[0m\u001b[0;34m(\u001b[0m\u001b[0mn\u001b[0m\u001b[0;34m)\u001b[0m \u001b[0;32mif\u001b[0m \u001b[0mSign\u001b[0m\u001b[0;34m(\u001b[0m\u001b[0mX\u001b[0m\u001b[0;34m[\u001b[0m\u001b[0mi\u001b[0m\u001b[0;34m]\u001b[0m\u001b[0;34m,\u001b[0m \u001b[0mW\u001b[0m\u001b[0;34m)\u001b[0m \u001b[0;34m!=\u001b[0m \u001b[0mY\u001b[0m\u001b[0;34m[\u001b[0m\u001b[0mi\u001b[0m\u001b[0;34m]\u001b[0m\u001b[0;34m]\u001b[0m\u001b[0;34m\u001b[0m\u001b[0m\n\u001b[0m\u001b[1;32m      5\u001b[0m     \u001b[0msum_error\u001b[0m \u001b[0;34m=\u001b[0m \u001b[0mnp\u001b[0m\u001b[0;34m.\u001b[0m\u001b[0marray\u001b[0m\u001b[0;34m(\u001b[0m\u001b[0merror\u001b[0m\u001b[0;34m)\u001b[0m\u001b[0;34m.\u001b[0m\u001b[0msum\u001b[0m\u001b[0;34m(\u001b[0m\u001b[0;34m)\u001b[0m\u001b[0;34m\u001b[0m\u001b[0m\n\u001b[1;32m      6\u001b[0m     \u001b[0;32mreturn\u001b[0m \u001b[0msum_error\u001b[0m \u001b[0;34m/\u001b[0m \u001b[0mfloat\u001b[0m\u001b[0;34m(\u001b[0m\u001b[0mn\u001b[0m\u001b[0;34m)\u001b[0m\u001b[0;34m\u001b[0m\u001b[0m\n",
      "\u001b[0;32m<ipython-input-1-abdfbc30dae3>\u001b[0m in \u001b[0;36mSign\u001b[0;34m(X, W)\u001b[0m\n\u001b[1;32m     26\u001b[0m     \"\"\" Hypothesis of PLA: h(X) = Sign(X * W.T) \n\u001b[1;32m     27\u001b[0m         X[i] dimension is (1, 5) & W dimension is (1, 5). \"\"\"\n\u001b[0;32m---> 28\u001b[0;31m     \u001b[0;32mif\u001b[0m \u001b[0mnp\u001b[0m\u001b[0;34m.\u001b[0m\u001b[0mdot\u001b[0m\u001b[0;34m(\u001b[0m\u001b[0mX\u001b[0m\u001b[0;34m,\u001b[0m \u001b[0mW\u001b[0m\u001b[0;34m.\u001b[0m\u001b[0mT\u001b[0m\u001b[0;34m)\u001b[0m \u001b[0;34m>\u001b[0m \u001b[0;36m0\u001b[0m\u001b[0;34m:\u001b[0m\u001b[0;34m\u001b[0m\u001b[0m\n\u001b[0m\u001b[1;32m     29\u001b[0m         \u001b[0;32mreturn\u001b[0m \u001b[0;36m1\u001b[0m\u001b[0;34m\u001b[0m\u001b[0m\n\u001b[1;32m     30\u001b[0m     \u001b[0;32melse\u001b[0m\u001b[0;34m:\u001b[0m\u001b[0;34m\u001b[0m\u001b[0m\n",
      "\u001b[0;31mKeyboardInterrupt\u001b[0m: "
     ]
    }
   ],
   "source": [
    "filename = 'data/hw1_18_train.dat.txt'\n",
    "X,Y= GetData(filename)\n",
    "updates = 50\n",
    "eta = 1\n",
    "\n",
    "testfile = 'data/hw1_18_test.dat.txt'\n",
    "X_test, Y_test = GetData(testfile)\n",
    "experiments = 2000\n",
    "\n",
    "avg_error = []\n",
    "for i in range(experiments):\n",
    "    W_pocket = PocketPLA(X,Y,updates,eta)\n",
    "    error = Test(X_test,Y_test,W_pocket)\n",
    "    avg_error.append(error)\n",
    "    \n",
    "    if i%100 == 0:\n",
    "        print('experiment: %d' %(i+1))"
   ]
  },
  {
   "cell_type": "code",
   "execution_count": 62,
   "metadata": {},
   "outputs": [
    {
     "data": {
      "text/plain": [
       "0.10569800000000004"
      ]
     },
     "execution_count": 62,
     "metadata": {},
     "output_type": "execute_result"
    }
   ],
   "source": [
    "np.array(avg_error).mean()"
   ]
  },
  {
   "cell_type": "code",
   "execution_count": 59,
   "metadata": {},
   "outputs": [
    {
     "data": {
      "text/plain": [
       "1"
      ]
     },
     "execution_count": 59,
     "metadata": {},
     "output_type": "execute_result"
    },
    {
     "data": {
      "image/png": "[encoded data removed]",
      "text/plain": [
       "<matplotlib.figure.Figure at 0x1064fe908>"
      ]
     },
     "metadata": {},
     "output_type": "display_data"
    }
   ],
   "source": [
    "plt.hist(avg_error, bins = 10)\n",
    "1"
   ]
  },
  {
   "cell_type": "code",
   "execution_count": 63,
   "metadata": {
    "collapsed": true
   },
   "outputs": [],
   "source": [
    "def W50PLA(X,Y,updates,eta):\n",
    "    n = len(X[0])\n",
    "    W = np.zeros((1,n))\n",
    "    \n",
    "    for iteration in range(updates):\n",
    "        \n",
    "        # visit each data (index by i) in a fixed, pre-determined random cycle\n",
    "        n = len(X)\n",
    "        indices = random.sample(range(n), n)\n",
    "        \n",
    "        for i in indices:\n",
    "            # update new W if the hypothesis is wrong \n",
    "            if Sign(X[[i]], W) != Y[i]:      # shape of X[i] is (5, ), meaning that it contains 1 list\n",
    "                W = W + eta*Y[i]*X[i]        # convert X[i] into a list (i.e. X[[i]]) to solve the dimension problem \n",
    "        \n",
    "    return W"
   ]
  },
  {
   "cell_type": "code",
   "execution_count": 70,
   "metadata": {},
   "outputs": [
    {
     "name": "stdout",
     "output_type": "stream",
     "text": [
      "experiment: 1\n",
      "experiment: 11\n",
      "experiment: 21\n",
      "experiment: 31\n",
      "experiment: 41\n",
      "experiment: 51\n",
      "experiment: 61\n",
      "experiment: 71\n",
      "experiment: 81\n",
      "experiment: 91\n",
      "experiment: 101\n",
      "experiment: 111\n",
      "experiment: 121\n",
      "experiment: 131\n",
      "experiment: 141\n",
      "experiment: 151\n",
      "experiment: 161\n",
      "experiment: 171\n",
      "experiment: 181\n",
      "experiment: 191\n",
      "experiment: 201\n",
      "experiment: 211\n",
      "experiment: 221\n",
      "experiment: 231\n",
      "experiment: 241\n",
      "experiment: 251\n",
      "experiment: 261\n",
      "experiment: 271\n",
      "experiment: 281\n",
      "experiment: 291\n",
      "experiment: 301\n",
      "experiment: 311\n",
      "experiment: 321\n",
      "experiment: 331\n",
      "experiment: 341\n",
      "experiment: 351\n",
      "experiment: 361\n",
      "experiment: 371\n",
      "experiment: 381\n",
      "experiment: 391\n",
      "experiment: 401\n",
      "experiment: 411\n",
      "experiment: 421\n",
      "experiment: 431\n",
      "experiment: 441\n",
      "experiment: 451\n",
      "experiment: 461\n",
      "experiment: 471\n",
      "experiment: 481\n",
      "experiment: 491\n",
      "experiment: 501\n",
      "experiment: 511\n",
      "experiment: 521\n",
      "experiment: 531\n",
      "experiment: 541\n",
      "experiment: 551\n",
      "experiment: 561\n",
      "experiment: 571\n",
      "experiment: 581\n",
      "experiment: 591\n",
      "experiment: 601\n",
      "experiment: 611\n",
      "experiment: 621\n",
      "experiment: 631\n",
      "experiment: 641\n",
      "experiment: 651\n",
      "experiment: 661\n",
      "experiment: 671\n",
      "experiment: 681\n",
      "experiment: 691\n",
      "experiment: 701\n",
      "experiment: 711\n",
      "experiment: 721\n",
      "experiment: 731\n",
      "experiment: 741\n",
      "experiment: 751\n",
      "experiment: 761\n",
      "experiment: 771\n",
      "experiment: 781\n",
      "experiment: 791\n",
      "experiment: 801\n",
      "experiment: 811\n",
      "experiment: 821\n",
      "experiment: 831\n",
      "experiment: 841\n",
      "experiment: 851\n",
      "experiment: 861\n",
      "experiment: 871\n",
      "experiment: 881\n",
      "experiment: 891\n",
      "experiment: 901\n",
      "experiment: 911\n",
      "experiment: 921\n",
      "experiment: 931\n",
      "experiment: 941\n",
      "experiment: 951\n",
      "experiment: 961\n",
      "experiment: 971\n",
      "experiment: 981\n",
      "experiment: 991\n"
     ]
    }
   ],
   "source": [
    "experiments = 1000\n",
    "\n",
    "W50_avg_error = []\n",
    "for i in range(experiments):\n",
    "    W = W50PLA(X,Y,updates,eta)\n",
    "    error = Test(X_test,Y_test,W_pocket)\n",
    "    W50_avg_error.append(error)\n",
    "    \n",
    "    if i%10 == 0:\n",
    "        print('experiment: %d' %(i+1))"
   ]
  },
  {
   "cell_type": "code",
   "execution_count": 69,
   "metadata": {},
   "outputs": [
    {
     "data": {
      "text/plain": [
       "0.10800000000000003"
      ]
     },
     "execution_count": 69,
     "metadata": {},
     "output_type": "execute_result"
    }
   ],
   "source": [
    "np.array(W50_avg_error).mean()"
   ]
  },
  {
   "cell_type": "code",
   "execution_count": null,
   "metadata": {
    "collapsed": true
   },
   "outputs": [],
   "source": []
  }
 ],
 "metadata": {
  "kernelspec": {
   "display_name": "Python 3",
   "language": "python",
   "name": "python3"
  },
  "language_info": {
   "codemirror_mode": {
    "name": "ipython",
    "version": 3
   },
   "file_extension": ".py",
   "mimetype": "text/x-python",
   "name": "python",
   "nbconvert_exporter": "python",
   "pygments_lexer": "ipython3",
   "version": "3.6.2"
  }
 },
 "nbformat": 4,
 "nbformat_minor": 2
}
