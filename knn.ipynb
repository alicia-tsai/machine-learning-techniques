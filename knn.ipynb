{
 "cells": [
  {
   "cell_type": "markdown",
   "metadata": {},
   "source": [
    "## Machine Learning Foundation & Techniques: Assignment 8"
   ]
  },
  {
   "cell_type": "markdown",
   "metadata": {},
   "source": [
    "### Experiment with k Nearest Neighbor\n",
    "---\n",
    "Implement any algorithm that ‘returns’ the k Nearest Neighbor hypothesis discussed in page 8 of lecture 214. Evaluate with the 0/1 error.\n",
    "\n",
    "$$   \n",
    "g_{k-nbor}(x) = sign\\Bigg(\\sum\\limits_{\\text{$m$: $k$ cloest examples to x}}y_{m}\\Bigg)\n",
    "$$ \n",
    "\n",
    "Run the algorithm on the following set for training: http://www.csie.ntu.edu.tw/~htlin/course/ml15fall/hw8/hw8_train.dat \n",
    "\n",
    "and the following set for testing: http://www.csie.ntu.edu.tw/~htlin/course/ml15fall/hw8/hw8_test.dat"
   ]
  },
  {
   "cell_type": "markdown",
   "metadata": {},
   "source": [
    "#### Plot $E_{in}(g_{k-nbor})$ for $k = 1, 3, 5, 7, 9$. Briefly describe your findings.\n",
    "#### Plot $E_{out}(g_{k-nbor})$ for $k = 1, 3, 5, 7, 9$. Briefly describe your findings.\n",
    "#### Implement $g_{uniform}$ on page 8 of lecture 214. Plot $E_{in}(g_{uniform})$ for $\\gamma = 0.001, 0.1, 1, 10, 100$. Briefly describe your findings.\n",
    "#### Plot $E_{out}(g_{uniform})$ for $\\gamma = 0.001, 0.1, 1, 10, 100$. Briefly describe your findings."
   ]
  },
  {
   "cell_type": "code",
   "execution_count": 1,
   "metadata": {
    "collapsed": true
   },
   "outputs": [],
   "source": [
    "import numpy as np\n",
    "import pandas as pd\n",
    "import time\n",
    "import matplotlib.pyplot as plt\n",
    "%matplotlib inline"
   ]
  },
  {
   "cell_type": "code",
   "execution_count": 2,
   "metadata": {
    "collapsed": true
   },
   "outputs": [],
   "source": [
    "def generate_data(file):\n",
    "    \n",
    "    data = pd.read_csv(file, sep = ' ', header = None)\n",
    "    X = np.array(data.loc[:, :8])\n",
    "    Y = np.array(data.loc[:, 9:])\n",
    "    \n",
    "    return X, Y"
   ]
  },
  {
   "cell_type": "markdown",
   "metadata": {},
   "source": [
    "##### Build model"
   ]
  },
  {
   "cell_type": "code",
   "execution_count": 3,
   "metadata": {
    "collapsed": true
   },
   "outputs": [],
   "source": [
    "class KNN:\n",
    "    \"\"\"K nearest neighbor model with two methods: 'knbor' with simple KNN and 'uniform' with RBF kernel.\"\"\"\n",
    "    \n",
    "    def __init__(self, k):\n",
    "        self.k = k\n",
    "    \n",
    "    \n",
    "    def train(self, X, Y):\n",
    "        \"\"\"Construct the training set for the KNN model.\"\"\"\n",
    "        \n",
    "        self.X_train = X\n",
    "        self.Y_train = Y\n",
    "        self.N = self.X_train.shape[0]\n",
    "    \n",
    "    \n",
    "    def knbor(self, x):\n",
    "        \"\"\"Select the k nearest points and compute the score by uniform aggregation for one data point.\"\"\"\n",
    "        \n",
    "        dist_index = [(np.sum((x - self.X_train[i])**2), i) for i in range(self.N)]\n",
    "        dist_index.sort()\n",
    "        k_neighbors = dist_index[:self.k]\n",
    "        votes = []\n",
    "        for neighbor in k_neighbors:\n",
    "            index = neighbor[1]\n",
    "            votes.append(self.Y_train[index])\n",
    "        \n",
    "        return 1 if np.sum(votes) >= 0 else -1\n",
    "    \n",
    "    \n",
    "    def RBF_kernel(self, a, b, gamma):\n",
    "        return np.exp(-gamma * np.sum((a - b)**2))\n",
    "        \n",
    "    \n",
    "    def uniform(self, x, gamma):\n",
    "        \"\"\"Select the k nearest points and compute the score by uniformly aggregating the RBF values for one data point.\"\"\"\n",
    "\n",
    "        dist_index = [(np.sum((x - self.X_train[i])**2), i) for i in range(self.N)]\n",
    "        dist_index.sort()\n",
    "        k_neighbors = dist_index[:self.k]\n",
    "        votes = []\n",
    "        for neighbor in k_neighbors:\n",
    "            index = neighbor[1]\n",
    "            score = self.RBF_kernel(x, self.X_train[index], gamma) * self.Y_train[index]\n",
    "            votes.append(score)\n",
    "            \n",
    "        return 1 if np.sum(votes) >= 0 else -1\n",
    "    \n",
    "    \n",
    "    def predict(self, X_test, method = 'knbor', gamma = None):\n",
    "        \"\"\"Predict all data points in the data set with specifed method. Default method is 'knbor'.\"\"\"\n",
    "        \n",
    "        Y_pred = []\n",
    "        for x in X_test:\n",
    "            pred = self.uniform(x, gamma) if method == 'uniform' else self.knbor(x)\n",
    "            Y_pred.append(pred)\n",
    "            \n",
    "        return np.array(Y_pred)\n",
    "        "
   ]
  },
  {
   "cell_type": "markdown",
   "metadata": {},
   "source": [
    "##### Experiment"
   ]
  },
  {
   "cell_type": "code",
   "execution_count": 4,
   "metadata": {},
   "outputs": [],
   "source": [
    "train_file = 'data/hw8_train.dat.txt'; test_file = 'data/hw8_test.dat.txt'\n",
    "X_train, Y_train = generate_data(train_file); X_test, Y_test = generate_data(test_file)"
   ]
  },
  {
   "cell_type": "code",
   "execution_count": 5,
   "metadata": {},
   "outputs": [
    {
     "name": "stdout",
     "output_type": "stream",
     "text": [
      "\n",
      "KNN model with k = 1\n",
      "\tSimple KNN\n",
      "\t  Training error: 0.00%; Testing error: 34.40%\n",
      "\tRBF Kernel\n",
      "\t  Gamma = 0.001; Training error: 0.00%; Testing error: 34.40%\n",
      "\t  Gamma = 0.100; Training error: 0.00%; Testing error: 34.40%\n",
      "\t  Gamma = 1.000; Training error: 0.00%; Testing error: 34.40%\n",
      "\t  Gamma = 10.000; Training error: 0.00%; Testing error: 34.40%\n",
      "\t  Gamma = 100.000; Training error: 0.00%; Testing error: 34.40%\n",
      "\n",
      "KNN model with k = 3\n",
      "\tSimple KNN\n",
      "\t  Training error: 10.00%; Testing error: 29.90%\n",
      "\tRBF Kernel\n",
      "\t  Gamma = 0.001; Training error: 10.00%; Testing error: 29.90%\n",
      "\t  Gamma = 0.100; Training error: 10.00%; Testing error: 29.90%\n",
      "\t  Gamma = 1.000; Training error: 0.00%; Testing error: 31.50%\n",
      "\t  Gamma = 10.000; Training error: 0.00%; Testing error: 34.60%\n",
      "\t  Gamma = 100.000; Training error: 0.00%; Testing error: 34.40%\n",
      "\n",
      "KNN model with k = 5\n",
      "\tSimple KNN\n",
      "\t  Training error: 16.00%; Testing error: 31.60%\n",
      "\tRBF Kernel\n",
      "\t  Gamma = 0.001; Training error: 16.00%; Testing error: 31.60%\n",
      "\t  Gamma = 0.100; Training error: 16.00%; Testing error: 31.60%\n",
      "\t  Gamma = 1.000; Training error: 0.00%; Testing error: 31.90%\n",
      "\t  Gamma = 10.000; Training error: 0.00%; Testing error: 34.60%\n",
      "\t  Gamma = 100.000; Training error: 0.00%; Testing error: 34.40%\n",
      "\n",
      "KNN model with k = 7\n",
      "\tSimple KNN\n",
      "\t  Training error: 15.00%; Testing error: 32.20%\n",
      "\tRBF Kernel\n",
      "\t  Gamma = 0.001; Training error: 15.00%; Testing error: 32.20%\n",
      "\t  Gamma = 0.100; Training error: 15.00%; Testing error: 32.20%\n",
      "\t  Gamma = 1.000; Training error: 1.00%; Testing error: 30.80%\n",
      "\t  Gamma = 10.000; Training error: 0.00%; Testing error: 34.60%\n",
      "\t  Gamma = 100.000; Training error: 0.00%; Testing error: 34.40%\n",
      "\n",
      "KNN model with k = 9\n",
      "\tSimple KNN\n",
      "\t  Training error: 14.00%; Testing error: 30.30%\n",
      "\tRBF Kernel\n",
      "\t  Gamma = 0.001; Training error: 14.00%; Testing error: 30.30%\n",
      "\t  Gamma = 0.100; Training error: 14.00%; Testing error: 30.30%\n",
      "\t  Gamma = 1.000; Training error: 1.00%; Testing error: 31.30%\n",
      "\t  Gamma = 10.000; Training error: 0.00%; Testing error: 34.60%\n",
      "\t  Gamma = 100.000; Training error: 0.00%; Testing error: 34.40%\n",
      "\n",
      "Using 32.32 seconds\n"
     ]
    },
    {
     "data": {
      "image/png": "[encoded data removed]",
      "text/plain": [
       "<matplotlib.figure.Figure at 0x1073d76d8>"
      ]
     },
     "metadata": {},
     "output_type": "display_data"
    },
    {
     "data": {
      "image/png": "[encoded data removed]",
      "text/plain": [
       "<matplotlib.figure.Figure at 0x1073d7710>"
      ]
     },
     "metadata": {},
     "output_type": "display_data"
    },
    {
     "data": {
      "image/png": "[encoded data removed]",
      "text/plain": [
       "<matplotlib.figure.Figure at 0x1073e6668>"
      ]
     },
     "metadata": {},
     "output_type": "display_data"
    }
   ],
   "source": [
    "start = time.clock()\n",
    "\n",
    "# create 3 figures\n",
    "plt.figure(1)\n",
    "plt.figure(2)\n",
    "plt.title('Training Error for KNN Model with RBF kernel'); plt.xlabel('log(gamma)'); plt.ylabel('Training error')\n",
    "plt.figure(3)\n",
    "plt.title('Testing Error for KNN Model with RBF kernel'); plt.xlabel('log(gamma)'); plt.ylabel('Testing error')\n",
    "\n",
    "K = [1,3, 5, 7, 9]\n",
    "gamma = [0.001, 0.1, 1, 10, 100]\n",
    "\n",
    "err_in_knbor = []\n",
    "err_out_knbor = []\n",
    "\n",
    "for k in K:\n",
    "    print('\\nKNN model with k = %d' %k)\n",
    "    \n",
    "    knn = KNN(k)\n",
    "    knn.train(X_train, Y_train)\n",
    "    \n",
    "    print('\\tSimple KNN')\n",
    "    Y_train_pred = knn.predict(X_train)\n",
    "    Y_test_pred = knn.predict(X_test)\n",
    "    \n",
    "    err_in = np.sum(Y_train_pred != Y_train.flatten()) / len(Y_train)\n",
    "    err_out = np.sum(Y_test_pred != Y_test.flatten()) / len(Y_test)\n",
    "    err_in_knbor.append(err_in); err_out_knbor.append(err_out)\n",
    "    \n",
    "    print('\\t  Training error: %.2f%%; Testing error: %.2f%%' %((err_in * 100),(err_out * 100)))        \n",
    "    \n",
    "    \n",
    "    print('\\tRBF Kernel')\n",
    "    err_in_uniform = []; err_out_uniform = []\n",
    "    for r in gamma:\n",
    "        Y_train_pred = knn.predict(X_train, method = 'uniform', gamma = r)\n",
    "        Y_test_pred = knn.predict(X_test, method = 'uniform', gamma = r)\n",
    "        \n",
    "        err_in = np.sum(Y_train_pred != Y_train.flatten()) / len(Y_train)\n",
    "        err_out = np.sum(Y_test_pred != Y_test.flatten()) / len(Y_test)\n",
    "        err_in_uniform.append(err_in); err_out_uniform.append(err_out)\n",
    "        \n",
    "        print('\\t  Gamma = %.3f; Training error: %.2f%%; Testing error: %.2f%%' %(r, (err_in * 100),(err_out * 100)))    \n",
    "    \n",
    "    plt.figure(2)\n",
    "    plt.plot(np.log(gamma), err_in_uniform, label = 'k = %d' %k); plt.legend()\n",
    "    \n",
    "    plt.figure(3)\n",
    "    plt.plot(np.log(gamma), err_out_uniform, label = 'k = %d' %k); plt.legend()\n",
    "\n",
    "    \n",
    "plt.figure(1)\n",
    "plt.plot(K, err_in_knbor, label = 'Training error')\n",
    "plt.plot(K, err_out_knbor, label = 'Testing error')\n",
    "plt.legend()\n",
    "plt.title('Training & Testing Error for Simple KNN')\n",
    "plt.xlabel('K'); plt.ylabel('Error rate')\n",
    "\n",
    "print('\\nUsing %.2f seconds' % (time.clock() - start))"
   ]
  },
  {
   "cell_type": "markdown",
   "metadata": {},
   "source": [
    "### Experiment with k-Means\n",
    "---\n",
    "Implement the $k$-Means algorithm (page 16 of lecture 214). Randomly select $k$ instances from $\\{x_n\\}$ to\n",
    "initialize your $\\mu_m$. \n",
    "\n",
    "Run the algorithm on the following set for training: http://www.csie.ntu.edu.tw/~htlin/course/ml15fall/hw8/hw8_nolabel_train.dat\n",
    "\n",
    "and repeat the experiment for 500 times. Calculate the clustering $E_{in}$ by \n",
    "\n",
    "$$\n",
    "\\frac{1}{N} \\sum\\limits^N_{n = 1} \\sum\\limits^M_{m = 1} \\big[\\big[x_n \\in S_m \\big]\\big] \\big|\\big|x_n - \\mu_m \\big|\\big|^2\n",
    "$$\n",
    "\n",
    "as described on page 13 of lecture 214 for $M = k$.\n",
    "\n",
    "#### Plot the average $E_{in}$ over 500 experiments for $k = 2, 4, 6, 8, 10$. Briefly describe your findings."
   ]
  },
  {
   "cell_type": "code",
   "execution_count": 6,
   "metadata": {},
   "outputs": [
    {
     "data": {
      "text/plain": [
       "(100, 9)"
      ]
     },
     "execution_count": 6,
     "metadata": {},
     "output_type": "execute_result"
    }
   ],
   "source": [
    "data = pd.read_csv('data/hw8_nolabel_train.dat.txt', sep = ' ', header = None).dropna(axis = 1)\n",
    "#data.shape"
   ]
  },
  {
   "cell_type": "markdown",
   "metadata": {},
   "source": [
    "##### Build model"
   ]
  },
  {
   "cell_type": "code",
   "execution_count": 7,
   "metadata": {
    "collapsed": true
   },
   "outputs": [],
   "source": [
    "class KMeans:\n",
    "    \n",
    "    def __init__(self, k):\n",
    "        self.k = k\n",
    "\n",
    "    \n",
    "    def train(self, data):\n",
    "        self.data = data\n",
    "        self.N = data.shape[0]\n",
    "    \n",
    "        # initialize mu\n",
    "        self.mu = self.data.sample(self.k).values\n",
    "\n",
    "        # alternating optimization\n",
    "        converge = False\n",
    "        while not converge:\n",
    "            # cluters dictionary to store data in each cluster\n",
    "            self.clusters = {i: [] for i in range(len(self.mu))}\n",
    "\n",
    "            # partition\n",
    "            for x in self.data.values:\n",
    "                dist = [np.sum((x - center)**2) for center in self.mu]\n",
    "                self.clusters[np.argmin(dist)].append(x)\n",
    "\n",
    "            # update mu\n",
    "            for j in self.clusters:\n",
    "                new_mu = sum(self.clusters[j]) / len(self.clusters[j])\n",
    "                if np.array_equal(new_mu, self.mu[j]):\n",
    "                    self.mu[j] = new_mu\n",
    "                else:\n",
    "                    converge = True   # stop while converge\n",
    "\n",
    "        return self.clusters, self.mu\n",
    "\n",
    "\n",
    "    def clustering_error(self):\n",
    "        error = 0\n",
    "        for i in range(self.k):\n",
    "            error += sum([np.sum((x - self.mu[i])**2) for x in self.clusters[i]])\n",
    "        \n",
    "        return error / self.N\n",
    "        "
   ]
  },
  {
   "cell_type": "markdown",
   "metadata": {},
   "source": [
    "##### Experiment"
   ]
  },
  {
   "cell_type": "code",
   "execution_count": 8,
   "metadata": {},
   "outputs": [
    {
     "name": "stdout",
     "output_type": "stream",
     "text": [
      "Training k-means with k = 2\n",
      "Training k-means with k = 4\n",
      "Training k-means with k = 6\n",
      "Training k-means with k = 8\n",
      "Training k-means with k = 10\n",
      "\n",
      "Using 20.54 seconds\n"
     ]
    },
    {
     "data": {
      "text/plain": [
       "<matplotlib.text.Text at 0x1077bbcf8>"
      ]
     },
     "execution_count": 8,
     "metadata": {},
     "output_type": "execute_result"
    },
    {
     "data": {
      "image/png": "[encoded data removed]",
      "text/plain": [
       "<matplotlib.figure.Figure at 0x106864588>"
      ]
     },
     "metadata": {},
     "output_type": "display_data"
    }
   ],
   "source": [
    "K = [2, 4, 6, 8, 10]\n",
    "experiments = 500\n",
    "\n",
    "start = time.clock()\n",
    "\n",
    "avg_err_in = []\n",
    "for k in K:\n",
    "    print('Training k-means with k = %d' %k)\n",
    "    \n",
    "    err = []\n",
    "    for i in range(experiments):\n",
    "        kmeans = KMeans(k)\n",
    "        kmeans.train(data)\n",
    "        err.append(kmeans.clustering_error())\n",
    "    \n",
    "    avg_err_in.append(np.mean(err))\n",
    "\n",
    "print('\\nUsing %.2f seconds' % (time.clock() - start))\n",
    "\n",
    "plt.plot(K, avg_err_in)\n",
    "plt.title('Average Training Error Over %d Experiments' %experiments)\n",
    "plt.xlabel('k'); plt.ylabel('Training error')"
   ]
  },
  {
   "cell_type": "code",
   "execution_count": null,
   "metadata": {
    "collapsed": true
   },
   "outputs": [],
   "source": []
  }
 ],
 "metadata": {
  "kernelspec": {
   "display_name": "Python 3",
   "language": "python",
   "name": "python3"
  },
  "language_info": {
   "codemirror_mode": {
    "name": "ipython",
    "version": 3
   },
   "file_extension": ".py",
   "mimetype": "text/x-python",
   "name": "python",
   "nbconvert_exporter": "python",
   "pygments_lexer": "ipython3",
   "version": "3.6.2"
  }
 },
 "nbformat": 4,
 "nbformat_minor": 2
}
